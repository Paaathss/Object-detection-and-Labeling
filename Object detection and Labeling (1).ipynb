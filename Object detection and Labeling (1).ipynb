{
 "cells": [
  {
   "cell_type": "code",
   "execution_count": 1,
   "id": "ec9e9656-b789-449e-94ec-22b41250657d",
   "metadata": {},
   "outputs": [
    {
     "name": "stdout",
     "output_type": "stream",
     "text": [
      "Requirement already satisfied: torch in c:\\anaconda\\lib\\site-packages (2.5.1)\n",
      "Requirement already satisfied: torchvision in c:\\anaconda\\lib\\site-packages (0.20.1)\n",
      "Requirement already satisfied: filelock in c:\\anaconda\\lib\\site-packages (from torch) (3.13.1)\n",
      "Requirement already satisfied: typing-extensions>=4.8.0 in c:\\anaconda\\lib\\site-packages (from torch) (4.11.0)\n",
      "Requirement already satisfied: networkx in c:\\anaconda\\lib\\site-packages (from torch) (3.3)\n",
      "Requirement already satisfied: jinja2 in c:\\anaconda\\lib\\site-packages (from torch) (3.1.4)\n",
      "Requirement already satisfied: fsspec in c:\\anaconda\\lib\\site-packages (from torch) (2024.6.1)\n",
      "Requirement already satisfied: setuptools in c:\\anaconda\\lib\\site-packages (from torch) (75.1.0)\n",
      "Requirement already satisfied: sympy==1.13.1 in c:\\anaconda\\lib\\site-packages (from torch) (1.13.1)\n",
      "Requirement already satisfied: mpmath<1.4,>=1.1.0 in c:\\anaconda\\lib\\site-packages (from sympy==1.13.1->torch) (1.3.0)\n",
      "Requirement already satisfied: numpy in c:\\anaconda\\lib\\site-packages (from torchvision) (1.26.4)\n",
      "Requirement already satisfied: pillow!=8.3.*,>=5.3.0 in c:\\anaconda\\lib\\site-packages (from torchvision) (10.4.0)\n",
      "Requirement already satisfied: MarkupSafe>=2.0 in c:\\anaconda\\lib\\site-packages (from jinja2->torch) (2.1.3)\n"
     ]
    }
   ],
   "source": [
    "!pip install --upgrade torch torchvision"
   ]
  },
  {
   "cell_type": "code",
   "execution_count": 2,
   "id": "328a1be3-86fc-4fc1-a076-15c5fd8f737a",
   "metadata": {},
   "outputs": [
    {
     "name": "stdout",
     "output_type": "stream",
     "text": [
      "git version 2.47.1.windows.1\n"
     ]
    }
   ],
   "source": [
    "!git --version"
   ]
  },
  {
   "cell_type": "code",
   "execution_count": 5,
   "id": "176b1051-c701-405f-8a75-cee9295820ff",
   "metadata": {},
   "outputs": [],
   "source": [
    "import cv2\n",
    "import torch\n",
    "import numpy as np"
   ]
  },
  {
   "cell_type": "code",
   "execution_count": 4,
   "id": "b7b5fa8c-74db-464b-8ba4-c45bb4885923",
   "metadata": {},
   "outputs": [
    {
     "name": "stdout",
     "output_type": "stream",
     "text": [
      "C:\\Users\\ALFIYA\\yolov5\n"
     ]
    },
    {
     "name": "stderr",
     "output_type": "stream",
     "text": [
      "Cloning into 'yolov5'...\n"
     ]
    },
    {
     "name": "stdout",
     "output_type": "stream",
     "text": [
      "Requirement already satisfied: gitpython>=3.1.30 in c:\\anaconda\\lib\\site-packages (from -r requirements.txt (line 5)) (3.1.43)\n",
      "Requirement already satisfied: matplotlib>=3.3 in c:\\anaconda\\lib\\site-packages (from -r requirements.txt (line 6)) (3.9.2)\n",
      "Requirement already satisfied: numpy>=1.23.5 in c:\\anaconda\\lib\\site-packages (from -r requirements.txt (line 7)) (1.26.4)\n",
      "Requirement already satisfied: opencv-python>=4.1.1 in c:\\anaconda\\lib\\site-packages (from -r requirements.txt (line 8)) (4.10.0.84)\n",
      "Requirement already satisfied: pillow>=10.3.0 in c:\\anaconda\\lib\\site-packages (from -r requirements.txt (line 9)) (10.4.0)\n",
      "Requirement already satisfied: psutil in c:\\anaconda\\lib\\site-packages (from -r requirements.txt (line 10)) (5.9.0)\n",
      "Requirement already satisfied: PyYAML>=5.3.1 in c:\\anaconda\\lib\\site-packages (from -r requirements.txt (line 11)) (6.0.1)\n",
      "Requirement already satisfied: requests>=2.32.2 in c:\\anaconda\\lib\\site-packages (from -r requirements.txt (line 12)) (2.32.3)\n",
      "Requirement already satisfied: scipy>=1.4.1 in c:\\anaconda\\lib\\site-packages (from -r requirements.txt (line 13)) (1.13.1)\n",
      "Collecting thop>=0.1.1 (from -r requirements.txt (line 14))\n",
      "  Downloading thop-0.1.1.post2209072238-py3-none-any.whl.metadata (2.7 kB)\n",
      "Requirement already satisfied: torch>=1.8.0 in c:\\anaconda\\lib\\site-packages (from -r requirements.txt (line 15)) (2.5.1)\n",
      "Requirement already satisfied: torchvision>=0.9.0 in c:\\anaconda\\lib\\site-packages (from -r requirements.txt (line 16)) (0.20.1)\n",
      "Requirement already satisfied: tqdm>=4.66.3 in c:\\anaconda\\lib\\site-packages (from -r requirements.txt (line 17)) (4.66.5)\n",
      "Collecting ultralytics>=8.2.34 (from -r requirements.txt (line 18))\n",
      "  Downloading ultralytics-8.3.51-py3-none-any.whl.metadata (35 kB)\n",
      "Requirement already satisfied: pandas>=1.1.4 in c:\\anaconda\\lib\\site-packages (from -r requirements.txt (line 27)) (2.2.2)\n",
      "Requirement already satisfied: seaborn>=0.11.0 in c:\\anaconda\\lib\\site-packages (from -r requirements.txt (line 28)) (0.13.2)\n",
      "Requirement already satisfied: setuptools>=70.0.0 in c:\\anaconda\\lib\\site-packages (from -r requirements.txt (line 42)) (75.1.0)\n",
      "Requirement already satisfied: gitdb<5,>=4.0.1 in c:\\anaconda\\lib\\site-packages (from gitpython>=3.1.30->-r requirements.txt (line 5)) (4.0.7)\n",
      "Requirement already satisfied: contourpy>=1.0.1 in c:\\anaconda\\lib\\site-packages (from matplotlib>=3.3->-r requirements.txt (line 6)) (1.2.0)\n",
      "Requirement already satisfied: cycler>=0.10 in c:\\anaconda\\lib\\site-packages (from matplotlib>=3.3->-r requirements.txt (line 6)) (0.11.0)\n",
      "Requirement already satisfied: fonttools>=4.22.0 in c:\\anaconda\\lib\\site-packages (from matplotlib>=3.3->-r requirements.txt (line 6)) (4.51.0)\n",
      "Requirement already satisfied: kiwisolver>=1.3.1 in c:\\anaconda\\lib\\site-packages (from matplotlib>=3.3->-r requirements.txt (line 6)) (1.4.4)\n",
      "Requirement already satisfied: packaging>=20.0 in c:\\anaconda\\lib\\site-packages (from matplotlib>=3.3->-r requirements.txt (line 6)) (24.1)\n",
      "Requirement already satisfied: pyparsing>=2.3.1 in c:\\anaconda\\lib\\site-packages (from matplotlib>=3.3->-r requirements.txt (line 6)) (3.1.2)\n",
      "Requirement already satisfied: python-dateutil>=2.7 in c:\\anaconda\\lib\\site-packages (from matplotlib>=3.3->-r requirements.txt (line 6)) (2.9.0.post0)\n",
      "Requirement already satisfied: charset-normalizer<4,>=2 in c:\\anaconda\\lib\\site-packages (from requests>=2.32.2->-r requirements.txt (line 12)) (3.3.2)\n",
      "Requirement already satisfied: idna<4,>=2.5 in c:\\anaconda\\lib\\site-packages (from requests>=2.32.2->-r requirements.txt (line 12)) (3.7)\n",
      "Requirement already satisfied: urllib3<3,>=1.21.1 in c:\\anaconda\\lib\\site-packages (from requests>=2.32.2->-r requirements.txt (line 12)) (2.2.3)\n",
      "Requirement already satisfied: certifi>=2017.4.17 in c:\\anaconda\\lib\\site-packages (from requests>=2.32.2->-r requirements.txt (line 12)) (2024.8.30)\n",
      "Requirement already satisfied: filelock in c:\\anaconda\\lib\\site-packages (from torch>=1.8.0->-r requirements.txt (line 15)) (3.13.1)\n",
      "Requirement already satisfied: typing-extensions>=4.8.0 in c:\\anaconda\\lib\\site-packages (from torch>=1.8.0->-r requirements.txt (line 15)) (4.11.0)\n",
      "Requirement already satisfied: networkx in c:\\anaconda\\lib\\site-packages (from torch>=1.8.0->-r requirements.txt (line 15)) (3.3)\n",
      "Requirement already satisfied: jinja2 in c:\\anaconda\\lib\\site-packages (from torch>=1.8.0->-r requirements.txt (line 15)) (3.1.4)\n",
      "Requirement already satisfied: fsspec in c:\\anaconda\\lib\\site-packages (from torch>=1.8.0->-r requirements.txt (line 15)) (2024.6.1)\n",
      "Requirement already satisfied: sympy==1.13.1 in c:\\anaconda\\lib\\site-packages (from torch>=1.8.0->-r requirements.txt (line 15)) (1.13.1)\n",
      "Requirement already satisfied: mpmath<1.4,>=1.1.0 in c:\\anaconda\\lib\\site-packages (from sympy==1.13.1->torch>=1.8.0->-r requirements.txt (line 15)) (1.3.0)\n",
      "Requirement already satisfied: colorama in c:\\anaconda\\lib\\site-packages (from tqdm>=4.66.3->-r requirements.txt (line 17)) (0.4.6)\n",
      "Requirement already satisfied: py-cpuinfo in c:\\anaconda\\lib\\site-packages (from ultralytics>=8.2.34->-r requirements.txt (line 18)) (9.0.0)\n",
      "Collecting ultralytics-thop>=2.0.0 (from ultralytics>=8.2.34->-r requirements.txt (line 18))\n",
      "  Using cached ultralytics_thop-2.0.13-py3-none-any.whl.metadata (9.4 kB)\n",
      "Requirement already satisfied: pytz>=2020.1 in c:\\anaconda\\lib\\site-packages (from pandas>=1.1.4->-r requirements.txt (line 27)) (2024.1)\n",
      "Requirement already satisfied: tzdata>=2022.7 in c:\\anaconda\\lib\\site-packages (from pandas>=1.1.4->-r requirements.txt (line 27)) (2023.3)\n",
      "Requirement already satisfied: smmap<5,>=3.0.1 in c:\\anaconda\\lib\\site-packages (from gitdb<5,>=4.0.1->gitpython>=3.1.30->-r requirements.txt (line 5)) (4.0.0)\n",
      "Requirement already satisfied: six>=1.5 in c:\\anaconda\\lib\\site-packages (from python-dateutil>=2.7->matplotlib>=3.3->-r requirements.txt (line 6)) (1.16.0)\n",
      "Requirement already satisfied: MarkupSafe>=2.0 in c:\\anaconda\\lib\\site-packages (from jinja2->torch>=1.8.0->-r requirements.txt (line 15)) (2.1.3)\n",
      "Downloading thop-0.1.1.post2209072238-py3-none-any.whl (15 kB)\n",
      "Downloading ultralytics-8.3.51-py3-none-any.whl (901 kB)\n",
      "   ---------------------------------------- 0.0/901.3 kB ? eta -:--:--\n",
      "   --------------------------------------- 901.3/901.3 kB 10.1 MB/s eta 0:00:00\n",
      "Downloading ultralytics_thop-2.0.13-py3-none-any.whl (26 kB)\n",
      "Installing collected packages: ultralytics-thop, thop, ultralytics\n",
      "Successfully installed thop-0.1.1.post2209072238 ultralytics-8.3.51 ultralytics-thop-2.0.13\n"
     ]
    }
   ],
   "source": [
    "!git clone https://github.com/ultralytics/yolov5.git\n",
    "%cd yolov5\n",
    "!pip install -r requirements.txt"
   ]
  },
  {
   "cell_type": "code",
   "execution_count": 9,
   "id": "ee381651-64a0-4b64-bcd9-251cca4a8f9c",
   "metadata": {},
   "outputs": [
    {
     "name": "stderr",
     "output_type": "stream",
     "text": [
      "Using cache found in C:\\Users\\ALFIYA/.cache\\torch\\hub\\ultralytics_yolov5_master\n",
      "YOLOv5  2024-12-19 Python-3.12.7 torch-2.5.1+cpu CPU\n",
      "\n",
      "Downloading https://github.com/ultralytics/yolov5/releases/download/v7.0/yolov5s.pt to yolov5s.pt...\n",
      "100%|█████████████████████████████████████████████████████████████████████████████| 14.1M/14.1M [00:01<00:00, 12.9MB/s]\n",
      "\n",
      "Fusing layers... \n",
      "YOLOv5s summary: 213 layers, 7225885 parameters, 0 gradients, 16.4 GFLOPs\n",
      "Adding AutoShape... \n"
     ]
    }
   ],
   "source": [
    "model = torch.hub.load('ultralytics/yolov5', 'yolov5s', pretrained=True)"
   ]
  },
  {
   "cell_type": "code",
   "execution_count": 10,
   "id": "7b1c09b3-168b-470c-b878-da9df7a31bf9",
   "metadata": {},
   "outputs": [],
   "source": [
    "#input and output video files\n",
    "input_video_path = \"8196801-hd_1920_1080_25fps.mp4\""
   ]
  },
  {
   "cell_type": "code",
   "execution_count": 23,
   "id": "0bb677e1-ab7a-426c-87c9-c361484c2395",
   "metadata": {},
   "outputs": [
    {
     "name": "stdout",
     "output_type": "stream",
     "text": [
      "FPS: 25.0, Frame Width: 1280, Frame Height: 720\n"
     ]
    },
    {
     "name": "stderr",
     "output_type": "stream",
     "text": [
      "C:\\Users\\ALFIYA/.cache\\torch\\hub\\ultralytics_yolov5_master\\models\\common.py:892: FutureWarning: `torch.cuda.amp.autocast(args...)` is deprecated. Please use `torch.amp.autocast('cuda', args...)` instead.\n",
      "  with amp.autocast(autocast):\n"
     ]
    },
    {
     "name": "stdout",
     "output_type": "stream",
     "text": [
      "          xmin        ymin         xmax        ymax  confidence  class    name\n",
      "0   441.425476  329.658508   814.566956  686.584900    0.834014      0  person\n",
      "1     1.428429  100.632324   202.641235  554.495056    0.822950      0  person\n",
      "2   593.772522  514.270874   831.263123  662.016479    0.809490     63  laptop\n",
      "3   790.453491  411.046875  1274.972290  718.579468    0.803560      0  person\n",
      "4    57.206055  588.793335   295.825165  715.870117    0.755692      0  person\n",
      "5   221.940735  404.240784   441.929993  541.653870    0.654683     63  laptop\n",
      "6   502.554626  238.308929   666.405823  303.740753    0.403155     56   chair\n",
      "7   487.872375  142.123383   634.734070  207.186310    0.325013     56   chair\n",
      "8   335.102234  259.235718   509.869141  328.350281    0.303760     56   chair\n",
      "9   865.455933  290.315247  1026.106079  372.544189    0.274380     13   bench\n",
      "10  340.882629  181.376312   493.764160  224.688110    0.269951     56   chair\n",
      "          xmin        ymin         xmax        ymax  confidence  class    name\n",
      "0   441.302185  329.583130   815.050842  686.551270    0.835342      0  person\n",
      "1     1.430138  101.040588   201.583405  554.180115    0.820863      0  person\n",
      "2   790.324341  411.320404  1275.458130  718.666382    0.816855      0  person\n",
      "3   593.877686  514.209839   831.357910  661.815063    0.807689     63  laptop\n",
      "4    57.363831  589.216553   295.503632  715.839844    0.758867      0  person\n",
      "5   228.056335  403.858765   441.503906  541.095764    0.649270     63  laptop\n",
      "6   504.251160  238.348938   666.615906  303.284912    0.436780     56   chair\n",
      "7   488.076080  143.156998   634.936890  207.229446    0.328000     56   chair\n",
      "8   336.235718  260.456757   510.137939  328.084015    0.308263     56   chair\n",
      "9   341.002106  180.895447   493.827667  224.951385    0.274306     56   chair\n",
      "10  865.312561  289.860565  1026.628662  371.960846    0.269161     13   bench\n"
     ]
    },
    {
     "name": "stderr",
     "output_type": "stream",
     "text": [
      "C:\\Users\\ALFIYA/.cache\\torch\\hub\\ultralytics_yolov5_master\\models\\common.py:892: FutureWarning: `torch.cuda.amp.autocast(args...)` is deprecated. Please use `torch.amp.autocast('cuda', args...)` instead.\n",
      "  with amp.autocast(autocast):\n",
      "C:\\Users\\ALFIYA/.cache\\torch\\hub\\ultralytics_yolov5_master\\models\\common.py:892: FutureWarning: `torch.cuda.amp.autocast(args...)` is deprecated. Please use `torch.amp.autocast('cuda', args...)` instead.\n",
      "  with amp.autocast(autocast):\n"
     ]
    },
    {
     "name": "stdout",
     "output_type": "stream",
     "text": [
      "          xmin        ymin         xmax        ymax  confidence  class    name\n",
      "0   440.958008  329.471039   816.248047  686.670410    0.833238      0  person\n",
      "1   790.820312  411.470642  1275.321777  718.606628    0.819204      0  person\n",
      "2     1.484840  100.895782   201.928650  554.683594    0.817906      0  person\n",
      "3   594.450500  514.467529   831.834534  661.322144    0.807365     63  laptop\n",
      "4    57.554321  588.995239   295.933899  715.906494    0.755165      0  person\n",
      "5   220.646729  403.508148   440.890503  541.053894    0.643524     63  laptop\n",
      "6   504.319336  238.628510   666.479370  303.115936    0.430723     56   chair\n",
      "7   488.217773  143.242386   634.829468  206.967270    0.318783     56   chair\n",
      "8   336.158478  260.009460   510.251862  328.133972    0.315452     56   chair\n",
      "9   865.973999  289.768951  1026.581665  371.756073    0.275730     13   bench\n",
      "10  331.301819  168.766571   493.826599  225.688782    0.274798     56   chair\n",
      "          xmin        ymin         xmax        ymax  confidence  class    name\n",
      "0   441.189941  329.496887   816.356201  686.460754    0.830331      0  person\n",
      "1   790.631775  411.239136  1275.404785  718.629395    0.822120      0  person\n",
      "2     1.548111  100.109818   202.291458  554.505920    0.813745      0  person\n",
      "3   593.999939  514.199768   831.880798  661.176941    0.809717     63  laptop\n",
      "4    58.079224  589.250793   295.533722  716.028015    0.758235      0  person\n",
      "5   220.459671  403.195526   441.931458  541.312622    0.640902     63  laptop\n",
      "6   504.225952  238.659332   666.494385  303.082184    0.428778     56   chair\n",
      "7   488.379333  143.686935   634.785339  206.971786    0.327896     56   chair\n",
      "8   336.035065  260.209137   510.096588  327.778412    0.322961     56   chair\n",
      "9   866.032837  287.889252  1026.515015  370.460419    0.271728     13   bench\n",
      "10  331.549255  168.223694   493.601135  225.758423    0.267587     56   chair\n"
     ]
    },
    {
     "name": "stderr",
     "output_type": "stream",
     "text": [
      "C:\\Users\\ALFIYA/.cache\\torch\\hub\\ultralytics_yolov5_master\\models\\common.py:892: FutureWarning: `torch.cuda.amp.autocast(args...)` is deprecated. Please use `torch.amp.autocast('cuda', args...)` instead.\n",
      "  with amp.autocast(autocast):\n",
      "C:\\Users\\ALFIYA/.cache\\torch\\hub\\ultralytics_yolov5_master\\models\\common.py:892: FutureWarning: `torch.cuda.amp.autocast(args...)` is deprecated. Please use `torch.amp.autocast('cuda', args...)` instead.\n",
      "  with amp.autocast(autocast):\n"
     ]
    },
    {
     "name": "stdout",
     "output_type": "stream",
     "text": [
      "          xmin        ymin         xmax        ymax  confidence  class    name\n",
      "0   441.888977  329.502411   816.939148  685.829956    0.832033      0  person\n",
      "1     1.591530   99.809875   201.904510  553.653137    0.817469      0  person\n",
      "2   790.558899  411.130676  1275.559082  718.476257    0.816564      0  person\n",
      "3   593.218445  514.407410   832.019104  661.126282    0.810934     63  laptop\n",
      "4    58.668373  589.239014   296.489380  715.832153    0.754525      0  person\n",
      "5   220.524170  402.922180   441.665100  541.420288    0.643977     63  laptop\n",
      "6   503.918121  239.015137   666.249268  303.036682    0.443895     56   chair\n",
      "7   337.714722  261.964355   510.058289  327.370667    0.353712     56   chair\n",
      "8   488.323669  142.212219   634.806458  207.100861    0.347503     56   chair\n",
      "9   866.638489  288.129608  1026.763428  370.163666    0.274215     13   bench\n",
      "10  331.848450  167.803192   493.595703  225.716766    0.263061     56   chair\n",
      "          xmin        ymin         xmax        ymax  confidence  class    name\n",
      "0   423.212280  327.701050   816.959351  694.460693    0.834082      0  person\n",
      "1   791.083374  411.258850  1275.936646  718.584167    0.828008      0  person\n",
      "2   593.946960  514.452698   832.186096  660.823059    0.812804     63  laptop\n",
      "3     1.606781   99.760071   201.021439  553.661865    0.807506      0  person\n",
      "4    59.330650  590.805725   296.059052  715.794373    0.744700      0  person\n",
      "5   229.565338  402.385132   443.068939  541.352661    0.623414     63  laptop\n",
      "6   503.455902  238.546783   666.106995  303.011627    0.407584     56   chair\n",
      "7   488.542328  142.150024   634.514954  206.556488    0.343269     56   chair\n",
      "8   336.678131  261.412201   510.395782  326.930511    0.328561     56   chair\n",
      "9   331.947144  168.981812   493.594360  225.335114    0.284318     56   chair\n",
      "10  865.266724  288.028107  1026.865601  369.716034    0.281964     13   bench\n"
     ]
    },
    {
     "name": "stderr",
     "output_type": "stream",
     "text": [
      "C:\\Users\\ALFIYA/.cache\\torch\\hub\\ultralytics_yolov5_master\\models\\common.py:892: FutureWarning: `torch.cuda.amp.autocast(args...)` is deprecated. Please use `torch.amp.autocast('cuda', args...)` instead.\n",
      "  with amp.autocast(autocast):\n",
      "C:\\Users\\ALFIYA/.cache\\torch\\hub\\ultralytics_yolov5_master\\models\\common.py:892: FutureWarning: `torch.cuda.amp.autocast(args...)` is deprecated. Please use `torch.amp.autocast('cuda', args...)` instead.\n",
      "  with amp.autocast(autocast):\n"
     ]
    },
    {
     "name": "stdout",
     "output_type": "stream",
     "text": [
      "          xmin        ymin         xmax        ymax  confidence  class    name\n",
      "0   422.827881  327.929779   817.601440  694.060181    0.835249      0  person\n",
      "1   791.412354  411.001831  1276.118408  718.653687    0.832616      0  person\n",
      "2   594.614624  514.677307   832.762085  660.756165    0.810144     63  laptop\n",
      "3     1.633018   99.439423   201.436737  553.389893    0.804872      0  person\n",
      "4    57.925568  592.141846   301.752197  718.161621    0.737914      0  person\n",
      "5   230.073120  402.133453   443.127441  541.250366    0.621259     63  laptop\n",
      "6   503.649292  238.364349   666.324707  302.766754    0.393693     56   chair\n",
      "7   336.899689  261.657867   510.511078  326.676666    0.337304     56   chair\n",
      "8   488.255493  141.806641   634.798096  206.484375    0.326554     56   chair\n",
      "9   331.395325  168.225784   493.640991  225.310165    0.266191     56   chair\n",
      "10  866.812317  288.197937  1026.819092  370.035217    0.262835     13   bench\n",
      "          xmin        ymin         xmax        ymax  confidence  class    name\n",
      "0   424.094635  328.131897   817.383911  693.564880    0.838258      0  person\n",
      "1   791.612427  410.887085  1276.140503  718.561523    0.831243      0  person\n",
      "2   594.784790  514.444397   832.376953  660.831604    0.819208     63  laptop\n",
      "3     1.562286   99.040817   201.485321  553.161865    0.796390      0  person\n",
      "4    58.696434  592.876953   302.796173  718.162842    0.741215      0  person\n",
      "5   219.095001  401.883911   442.471649  541.539673    0.630440     63  laptop\n",
      "6   503.468384  238.174927   666.636353  302.936401    0.362538     56   chair\n",
      "7   336.444244  260.888214   510.571075  326.739899    0.333373     56   chair\n",
      "8   487.987671  140.946381   635.012695  206.439850    0.330482     56   chair\n",
      "9   331.359436  167.878265   493.488098  225.567596    0.272921     56   chair\n",
      "10  867.051331  288.327118  1026.817871  369.829681    0.263909     13   bench\n"
     ]
    },
    {
     "name": "stderr",
     "output_type": "stream",
     "text": [
      "C:\\Users\\ALFIYA/.cache\\torch\\hub\\ultralytics_yolov5_master\\models\\common.py:892: FutureWarning: `torch.cuda.amp.autocast(args...)` is deprecated. Please use `torch.amp.autocast('cuda', args...)` instead.\n",
      "  with amp.autocast(autocast):\n",
      "C:\\Users\\ALFIYA/.cache\\torch\\hub\\ultralytics_yolov5_master\\models\\common.py:892: FutureWarning: `torch.cuda.amp.autocast(args...)` is deprecated. Please use `torch.amp.autocast('cuda', args...)` instead.\n",
      "  with amp.autocast(autocast):\n"
     ]
    },
    {
     "name": "stdout",
     "output_type": "stream",
     "text": [
      "          xmin        ymin         xmax        ymax  confidence  class    name\n",
      "0   791.599121  410.863708  1276.424316  718.587219    0.840448      0  person\n",
      "1   423.415344  328.238281   817.214050  693.559570    0.837152      0  person\n",
      "2   594.961670  514.212036   832.116455  660.699829    0.818282     63  laptop\n",
      "3     1.650948   98.589371   200.838989  552.901367    0.785094      0  person\n",
      "4    60.472153  590.676636   297.304810  715.828003    0.743637      0  person\n",
      "5   222.201752  402.063599   443.123505  540.988159    0.636378     63  laptop\n",
      "6   503.904633  238.417694   666.340149  302.779755    0.365333     56   chair\n",
      "7   488.615356  141.911774   634.723511  206.462646    0.334650     56   chair\n",
      "8   335.979980  260.685913   510.791931  326.802917    0.319258     56   chair\n",
      "9   338.697571  169.073044   494.343384  222.384293    0.266059     56   chair\n",
      "10  867.442383  288.248962  1027.304688  369.807800    0.257978     13   bench\n",
      "          xmin        ymin         xmax        ymax  confidence  class    name\n",
      "0   792.132446  410.887970  1275.687622  718.644653    0.837290      0  person\n",
      "1   442.106506  329.429199   817.087708  685.717285    0.834563      0  person\n",
      "2   595.126709  513.752808   832.129028  660.768188    0.823596     63  laptop\n",
      "3     1.451759   97.777832   200.854706  551.965088    0.808587      0  person\n",
      "4    61.324677  591.398743   296.815125  715.818176    0.750884      0  person\n",
      "5   209.820862  401.743866   444.670959  541.401978    0.635290     63  laptop\n",
      "6   503.586365  238.037689   666.511414  302.842621    0.365589     56   chair\n",
      "7   488.300903  141.175705   634.523682  206.636185    0.344680     56   chair\n",
      "8   335.359436  259.858948   510.674316  326.869568    0.313644     56   chair\n",
      "9   866.892700  288.048737  1027.789551  369.595795    0.299199     13   bench\n",
      "10  338.106842  168.758820   494.485199  222.353851    0.274935     56   chair\n"
     ]
    },
    {
     "name": "stderr",
     "output_type": "stream",
     "text": [
      "C:\\Users\\ALFIYA/.cache\\torch\\hub\\ultralytics_yolov5_master\\models\\common.py:892: FutureWarning: `torch.cuda.amp.autocast(args...)` is deprecated. Please use `torch.amp.autocast('cuda', args...)` instead.\n",
      "  with amp.autocast(autocast):\n",
      "C:\\Users\\ALFIYA/.cache\\torch\\hub\\ultralytics_yolov5_master\\models\\common.py:892: FutureWarning: `torch.cuda.amp.autocast(args...)` is deprecated. Please use `torch.amp.autocast('cuda', args...)` instead.\n",
      "  with amp.autocast(autocast):\n"
     ]
    },
    {
     "name": "stdout",
     "output_type": "stream",
     "text": [
      "          xmin        ymin         xmax        ymax  confidence  class    name\n",
      "0   442.248108  329.467773   817.738220  685.726562    0.834896      0  person\n",
      "1   792.010193  411.192688  1275.256836  718.452698    0.830842      0  person\n",
      "2   595.070679  513.982666   831.843506  661.018188    0.826803     63  laptop\n",
      "3     1.625290   97.724518   200.705017  551.717407    0.807224      0  person\n",
      "4    60.114944  592.435669   302.602905  718.460571    0.749084      0  person\n",
      "5   213.973358  401.778076   444.012115  541.311157    0.635475     63  laptop\n",
      "6   503.731384  238.067078   666.659851  302.763489    0.379978     56   chair\n",
      "7   488.762634  142.156967   634.442566  206.538406    0.337815     56   chair\n",
      "8   335.527802  260.306396   510.854706  326.747681    0.323982     56   chair\n",
      "9   866.746033  288.251190  1027.829956  369.467377    0.303984     13   bench\n",
      "10  337.808929  168.325455   494.283295  222.382523    0.277644     56   chair\n",
      "          xmin        ymin         xmax        ymax  confidence  class    name\n",
      "0   442.094879  329.466919   817.387451  685.768188    0.839685      0  person\n",
      "1   792.072632  411.321808  1274.972778  718.357544    0.833523      0  person\n",
      "2   594.865417  514.140869   832.038635  661.145996    0.831015     63  laptop\n",
      "3     1.629059   97.515518   200.396515  551.021240    0.809507      0  person\n",
      "4    62.045464  590.745117   297.391510  715.744751    0.750475      0  person\n",
      "5   210.646561  401.800720   444.225952  541.244812    0.641470     63  laptop\n",
      "6   503.885651  238.146790   666.638062  302.725098    0.377136     56   chair\n",
      "7   488.613495  141.621674   634.433228  206.501282    0.336446     56   chair\n",
      "8   334.905853  259.555969   510.907074  326.864136    0.315448     56   chair\n",
      "9   867.291077  288.347107  1028.095459  369.393127    0.297672     13   bench\n",
      "10  337.772461  168.592117   494.299744  222.447220    0.269730     56   chair\n"
     ]
    },
    {
     "name": "stderr",
     "output_type": "stream",
     "text": [
      "C:\\Users\\ALFIYA/.cache\\torch\\hub\\ultralytics_yolov5_master\\models\\common.py:892: FutureWarning: `torch.cuda.amp.autocast(args...)` is deprecated. Please use `torch.amp.autocast('cuda', args...)` instead.\n",
      "  with amp.autocast(autocast):\n",
      "C:\\Users\\ALFIYA/.cache\\torch\\hub\\ultralytics_yolov5_master\\models\\common.py:892: FutureWarning: `torch.cuda.amp.autocast(args...)` is deprecated. Please use `torch.amp.autocast('cuda', args...)` instead.\n",
      "  with amp.autocast(autocast):\n"
     ]
    },
    {
     "name": "stdout",
     "output_type": "stream",
     "text": [
      "          xmin        ymin         xmax        ymax  confidence  class    name\n",
      "0   442.167725  329.580566   817.828857  685.887817    0.843758      0  person\n",
      "1   594.937866  514.471130   832.424927  661.161926    0.833908     63  laptop\n",
      "2   792.378723  411.228577  1274.656616  718.257629    0.829034      0  person\n",
      "3     1.609024   97.514297   200.118912  551.091797    0.798206      0  person\n",
      "4    62.191803  591.251282   296.774872  715.826965    0.749084      0  person\n",
      "5   217.125092  401.996857   443.605804  540.907898    0.640947     63  laptop\n",
      "6   503.550629  238.025879   666.459656  302.874268    0.401004     56   chair\n",
      "7   488.994049  144.126816   634.379700  206.706924    0.338166     56   chair\n",
      "8   335.303040  260.275208   510.880798  326.483093    0.315535     56   chair\n",
      "9   867.032410  288.358002  1027.313110  368.932587    0.293577     13   bench\n",
      "10  331.193542  166.725021   494.166748  225.804916    0.267201     56   chair\n",
      "          xmin        ymin         xmax        ymax  confidence  class    name\n",
      "0   441.142334  329.661987   817.775879  685.791382    0.838612      0  person\n",
      "1   594.664062  514.348511   832.426270  661.124390    0.831254     63  laptop\n",
      "2   792.211426  410.991638  1275.003662  718.358459    0.830889      0  person\n",
      "3     1.578850   96.958694   200.191254  551.531311    0.799357      0  person\n",
      "4    61.914574  591.545471   297.277527  716.133606    0.750005      0  person\n",
      "5   230.207611  401.669861   443.590607  540.982178    0.641595     63  laptop\n",
      "6   503.669556  238.171417   666.485718  302.711395    0.382765     56   chair\n",
      "7   489.558014  146.243698   634.309814  206.937363    0.320064     56   chair\n",
      "8   334.310913  259.649597   510.605835  326.367737    0.310595     56   chair\n",
      "9   866.263062  289.830963  1026.916138  371.013519    0.290150     13   bench\n",
      "10  338.050476  168.454590   494.785156  222.452698    0.282454     56   chair\n"
     ]
    },
    {
     "name": "stderr",
     "output_type": "stream",
     "text": [
      "C:\\Users\\ALFIYA/.cache\\torch\\hub\\ultralytics_yolov5_master\\models\\common.py:892: FutureWarning: `torch.cuda.amp.autocast(args...)` is deprecated. Please use `torch.amp.autocast('cuda', args...)` instead.\n",
      "  with amp.autocast(autocast):\n",
      "C:\\Users\\ALFIYA/.cache\\torch\\hub\\ultralytics_yolov5_master\\models\\common.py:892: FutureWarning: `torch.cuda.amp.autocast(args...)` is deprecated. Please use `torch.amp.autocast('cuda', args...)` instead.\n",
      "  with amp.autocast(autocast):\n"
     ]
    },
    {
     "name": "stdout",
     "output_type": "stream",
     "text": [
      "          xmin        ymin         xmax        ymax  confidence  class    name\n",
      "0   441.655121  329.813995   817.525146  685.818604    0.840284      0  person\n",
      "1   792.010437  410.764465  1275.141724  718.396667    0.836206      0  person\n",
      "2   594.058533  514.477295   832.419250  661.274048    0.832909     63  laptop\n",
      "3     1.482048   96.319778   200.425415  552.127686    0.804144      0  person\n",
      "4    62.681465  590.168884   297.212921  715.781189    0.759308      0  person\n",
      "5   233.985031  401.551117   443.886841  541.207031    0.637120     63  laptop\n",
      "6   503.667603  238.062561   666.475586  302.737305    0.381290     56   chair\n",
      "7   489.509216  146.113831   634.459045  206.906433    0.317325     56   chair\n",
      "8   334.620941  259.789642   510.559967  326.365204    0.308064     56   chair\n",
      "9   866.246948  289.888672  1027.044800  370.954712    0.305006     13   bench\n",
      "10  338.484100  168.966080   494.737946  222.391678    0.278710     56   chair\n",
      "          xmin        ymin         xmax        ymax  confidence  class    name\n",
      "0   441.857666  329.833282   817.304077  685.661865    0.841457      0  person\n",
      "1   792.269348  410.742798  1275.530396  718.459961    0.840558      0  person\n",
      "2   593.997986  514.498962   832.389709  661.297424    0.834092     63  laptop\n",
      "3     1.408730   95.914047   200.355927  551.868408    0.813200      0  person\n",
      "4    61.490868  590.444458   303.211151  718.324951    0.755304      0  person\n",
      "5   224.742508  401.738525   444.860901  541.219604    0.637995     63  laptop\n",
      "6   503.627380  237.966339   666.591370  302.580048    0.376094     56   chair\n",
      "7   488.994507  145.105652   634.463257  206.754883    0.324773     56   chair\n",
      "8   334.341797  259.846039   510.522278  326.381683    0.318728     56   chair\n",
      "9   866.159241  289.875000  1026.986572  370.912964    0.314283     13   bench\n",
      "10  338.060303  168.332535   494.536438  222.490433    0.278067     56   chair\n"
     ]
    },
    {
     "name": "stderr",
     "output_type": "stream",
     "text": [
      "C:\\Users\\ALFIYA/.cache\\torch\\hub\\ultralytics_yolov5_master\\models\\common.py:892: FutureWarning: `torch.cuda.amp.autocast(args...)` is deprecated. Please use `torch.amp.autocast('cuda', args...)` instead.\n",
      "  with amp.autocast(autocast):\n",
      "C:\\Users\\ALFIYA/.cache\\torch\\hub\\ultralytics_yolov5_master\\models\\common.py:892: FutureWarning: `torch.cuda.amp.autocast(args...)` is deprecated. Please use `torch.amp.autocast('cuda', args...)` instead.\n",
      "  with amp.autocast(autocast):\n"
     ]
    },
    {
     "name": "stdout",
     "output_type": "stream",
     "text": [
      "          xmin        ymin         xmax        ymax  confidence  class    name\n",
      "0   441.350525  329.517456   819.290710  685.307129    0.833054      0  person\n",
      "1   791.791809  410.419189  1275.231934  718.414795    0.826223      0  person\n",
      "2     1.358383   95.114151   200.669693  551.683716    0.819006      0  person\n",
      "3   593.972351  514.289978   832.458679  660.418152    0.813973     63  laptop\n",
      "4    63.355263  589.411011   303.319977  717.834473    0.769172      0  person\n",
      "5   239.051971  400.693817   443.447784  540.989258    0.621586     63  laptop\n",
      "6   503.276733  237.758820   666.501953  302.552460    0.389436     56   chair\n",
      "7   334.877960  260.807587   510.882416  325.974518    0.329235     56   chair\n",
      "8   488.551727  143.638824   634.570618  206.381989    0.314109     56   chair\n",
      "9   338.116302  169.106781   494.559723  222.195679    0.295827     56   chair\n",
      "10  865.835693  289.732819  1027.412109  371.247284    0.288487     13   bench\n",
      "          xmin        ymin         xmax        ymax  confidence  class    name\n",
      "0   441.266968  329.663879   819.362061  685.204651    0.834730      0  person\n",
      "1     1.262383   94.812134   200.689636  551.581299    0.823990      0  person\n",
      "2   792.063660  410.283600  1274.776367  718.393677    0.822347      0  person\n",
      "3   593.825867  514.244995   832.852478  660.440552    0.814939     63  laptop\n",
      "4    63.011749  588.722229   302.772583  717.533020    0.770916      0  person\n",
      "5   245.779358  400.756622   443.478638  541.026062    0.629607     63  laptop\n",
      "6   503.468323  237.680054   666.536926  302.455933    0.365761     56   chair\n",
      "7   335.676575  260.865112   510.970337  325.915710    0.329147     56   chair\n",
      "8   488.915985  144.002167   634.166565  206.399780    0.316304     56   chair\n",
      "9   865.972046  289.717651  1027.501831  370.975830    0.291543     13   bench\n",
      "10  331.363770  166.985947   494.289673  225.373917    0.260729     56   chair\n"
     ]
    },
    {
     "name": "stderr",
     "output_type": "stream",
     "text": [
      "C:\\Users\\ALFIYA/.cache\\torch\\hub\\ultralytics_yolov5_master\\models\\common.py:892: FutureWarning: `torch.cuda.amp.autocast(args...)` is deprecated. Please use `torch.amp.autocast('cuda', args...)` instead.\n",
      "  with amp.autocast(autocast):\n",
      "C:\\Users\\ALFIYA/.cache\\torch\\hub\\ultralytics_yolov5_master\\models\\common.py:892: FutureWarning: `torch.cuda.amp.autocast(args...)` is deprecated. Please use `torch.amp.autocast('cuda', args...)` instead.\n",
      "  with amp.autocast(autocast):\n"
     ]
    },
    {
     "name": "stdout",
     "output_type": "stream",
     "text": [
      "          xmin        ymin         xmax        ymax  confidence  class    name\n",
      "0   442.018066  329.822906   819.164062  685.443726    0.835749      0  person\n",
      "1     1.357330   94.511581   200.819763  551.709656    0.828886      0  person\n",
      "2   791.628784  410.170563  1274.756470  718.455933    0.819739      0  person\n",
      "3   593.423096  514.193054   832.743042  660.449402    0.818706     63  laptop\n",
      "4    62.893257  588.006836   303.212891  717.449951    0.767572      0  person\n",
      "5   247.555542  400.876221   443.775574  540.958191    0.634885     63  laptop\n",
      "6   503.552063  237.414429   666.680237  302.503784    0.367619     56   chair\n",
      "7   335.290283  260.713226   510.744995  325.870331    0.324679     56   chair\n",
      "8   865.894836  289.742737  1027.447876  371.245422    0.314159     13   bench\n",
      "9   488.793671  144.164444   634.346069  206.309860    0.311989     56   chair\n",
      "10  337.891174  168.731079   494.988464  222.263123    0.255723     56   chair\n",
      "          xmin        ymin         xmax        ymax  confidence  class    name\n",
      "0   441.883789  329.791809   819.482666  685.370300    0.832288      0  person\n",
      "1   791.725586  410.139038  1275.281006  718.489868    0.831106      0  person\n",
      "2     1.277351   94.095535   201.057556  551.582214    0.823116      0  person\n",
      "3   593.978699  514.263184   832.831848  660.327637    0.813561     63  laptop\n",
      "4    62.848549  587.997803   302.278198  717.210449    0.769382      0  person\n",
      "5   247.115921  400.949646   443.938232  541.125305    0.631953     63  laptop\n",
      "6   503.742432  237.533783   666.776123  302.548492    0.372550     56   chair\n",
      "7   334.868286  260.091400   510.631409  325.967987    0.329691     56   chair\n",
      "8   866.232910  289.697754  1027.864014  371.145447    0.300505     13   bench\n",
      "9   488.200439  143.738586   635.144775  206.397858    0.297098     56   chair\n",
      "10  331.175385  167.333405   494.579437  225.254730    0.261718     56   chair\n"
     ]
    },
    {
     "name": "stderr",
     "output_type": "stream",
     "text": [
      "C:\\Users\\ALFIYA/.cache\\torch\\hub\\ultralytics_yolov5_master\\models\\common.py:892: FutureWarning: `torch.cuda.amp.autocast(args...)` is deprecated. Please use `torch.amp.autocast('cuda', args...)` instead.\n",
      "  with amp.autocast(autocast):\n",
      "C:\\Users\\ALFIYA/.cache\\torch\\hub\\ultralytics_yolov5_master\\models\\common.py:892: FutureWarning: `torch.cuda.amp.autocast(args...)` is deprecated. Please use `torch.amp.autocast('cuda', args...)` instead.\n",
      "  with amp.autocast(autocast):\n"
     ]
    },
    {
     "name": "stdout",
     "output_type": "stream",
     "text": [
      "          xmin        ymin         xmax        ymax  confidence  class    name\n",
      "0   420.376709  328.495117   820.431519  693.917114    0.830363      0  person\n",
      "1     1.402069   94.008163   201.126434  551.633667    0.829873      0  person\n",
      "2   791.911682  410.138794  1274.992310  718.458740    0.822197      0  person\n",
      "3   594.088806  513.991516   832.867126  660.390930    0.809309     63  laptop\n",
      "4    61.840469  587.070251   301.496399  716.760437    0.766923      0  person\n",
      "5   248.072815  400.987885   443.641174  541.085510    0.632219     63  laptop\n",
      "6   503.569336  237.463837   666.727417  302.546051    0.371677     56   chair\n",
      "7   334.827179  260.136871   510.626556  325.972504    0.326884     56   chair\n",
      "8   488.551666  143.206009   634.959839  206.359665    0.302066     56   chair\n",
      "9   866.005249  289.763336  1027.612549  371.094025    0.298521     13   bench\n",
      "10  330.853394  167.182373   494.561523  225.215424    0.255112     56   chair\n",
      "          xmin        ymin         xmax        ymax  confidence  class    name\n",
      "0   421.823730  328.226624   820.184692  693.840027    0.836212      0  person\n",
      "1     1.362610   93.819305   200.999847  551.820801    0.831610      0  person\n",
      "2   791.335571  409.991455  1275.190308  718.480469    0.818785      0  person\n",
      "3   593.872559  514.077393   832.914307  660.467529    0.813067     63  laptop\n",
      "4    62.210022  586.064758   294.523529  715.622864    0.769639      0  person\n",
      "5   245.891205  401.083496   443.074738  540.555481    0.637155     63  laptop\n",
      "6   504.156555  237.440308   666.855774  302.493530    0.379057     56   chair\n",
      "7   334.633545  259.678528   510.670776  326.062134    0.345775     56   chair\n",
      "8   865.529968  289.752991  1027.849854  371.260681    0.322056     13   bench\n",
      "9   488.802734  144.224548   634.668701  206.365051    0.308473     56   chair\n",
      "10  331.256134  167.756744   494.471588  225.156403    0.272111     56   chair\n"
     ]
    },
    {
     "name": "stderr",
     "output_type": "stream",
     "text": [
      "C:\\Users\\ALFIYA/.cache\\torch\\hub\\ultralytics_yolov5_master\\models\\common.py:892: FutureWarning: `torch.cuda.amp.autocast(args...)` is deprecated. Please use `torch.amp.autocast('cuda', args...)` instead.\n",
      "  with amp.autocast(autocast):\n",
      "C:\\Users\\ALFIYA/.cache\\torch\\hub\\ultralytics_yolov5_master\\models\\common.py:892: FutureWarning: `torch.cuda.amp.autocast(args...)` is deprecated. Please use `torch.amp.autocast('cuda', args...)` instead.\n",
      "  with amp.autocast(autocast):\n"
     ]
    },
    {
     "name": "stdout",
     "output_type": "stream",
     "text": [
      "          xmin        ymin         xmax        ymax  confidence  class    name\n",
      "0     1.480209   93.940140   200.639252  551.885315    0.835624      0  person\n",
      "1   441.939636  329.963684   819.172180  685.294495    0.830941      0  person\n",
      "2   791.652954  409.788757  1275.939087  718.656677    0.823406      0  person\n",
      "3   594.484192  514.218201   832.969055  660.515686    0.812519     63  laptop\n",
      "4    60.158409  584.618774   292.613251  716.119995    0.762712      0  person\n",
      "5   244.820770  401.113800   443.447357  540.682373    0.636164     63  laptop\n",
      "6   504.195709  237.651459   667.051392  302.582733    0.381677     56   chair\n",
      "7   335.228180  260.791748   510.934479  325.717712    0.335620     56   chair\n",
      "8   488.787354  143.261551   634.900024  206.464615    0.317680     56   chair\n",
      "9   866.314392  289.710724  1027.436401  371.355438    0.312101     13   bench\n",
      "10  338.630432  169.934280   495.330750  222.031784    0.275920     56   chair\n",
      "          xmin        ymin         xmax        ymax  confidence  class    name\n",
      "0     1.308540   93.749496   200.567810  551.673340    0.844871      0  person\n",
      "1   442.197021  330.262695   818.819092  685.487061    0.834784      0  person\n",
      "2   594.326904  514.607788   832.848511  660.454346    0.818141     63  laptop\n",
      "3   792.158203  409.612885  1275.244141  718.542480    0.813382      0  person\n",
      "4    58.539307  584.108276   290.926636  715.804199    0.770395      0  person\n",
      "5   246.597733  401.118713   444.011353  540.571960    0.642554     63  laptop\n",
      "6   504.101074  237.671356   667.134399  302.553741    0.379792     56   chair\n",
      "7   335.657959  261.622986   510.585144  325.695557    0.351170     56   chair\n",
      "8   488.644592  142.197678   634.820862  206.396378    0.323952     56   chair\n",
      "9   866.076172  289.515350  1027.238892  371.421112    0.311638     13   bench\n",
      "10  338.826233  170.080597   494.993347  222.115692    0.272309     56   chair\n"
     ]
    },
    {
     "name": "stderr",
     "output_type": "stream",
     "text": [
      "C:\\Users\\ALFIYA/.cache\\torch\\hub\\ultralytics_yolov5_master\\models\\common.py:892: FutureWarning: `torch.cuda.amp.autocast(args...)` is deprecated. Please use `torch.amp.autocast('cuda', args...)` instead.\n",
      "  with amp.autocast(autocast):\n",
      "C:\\Users\\ALFIYA/.cache\\torch\\hub\\ultralytics_yolov5_master\\models\\common.py:892: FutureWarning: `torch.cuda.amp.autocast(args...)` is deprecated. Please use `torch.amp.autocast('cuda', args...)` instead.\n",
      "  with amp.autocast(autocast):\n"
     ]
    },
    {
     "name": "stdout",
     "output_type": "stream",
     "text": [
      "          xmin        ymin         xmax        ymax  confidence  class    name\n",
      "0     1.281197   93.892700   200.564453  551.558716    0.844409      0  person\n",
      "1   441.436096  330.768311   818.506775  685.538696    0.836229      0  person\n",
      "2   594.072327  514.685425   832.382507  660.594727    0.819765     63  laptop\n",
      "3   791.649780  409.576294  1275.698853  718.546997    0.817592      0  person\n",
      "4    57.469872  583.517578   288.583405  715.833130    0.776838      0  person\n",
      "5   249.582642  401.284760   443.506836  540.413208    0.639985     63  laptop\n",
      "6   504.319763  238.216125   666.808167  302.472656    0.390714     56   chair\n",
      "7   335.102905  260.764709   510.636658  325.918213    0.352510     56   chair\n",
      "8   488.501740  142.076492   635.026245  206.460678    0.326011     56   chair\n",
      "9   866.327209  289.638184  1026.770508  371.250793    0.294859     13   bench\n",
      "10  338.645020  170.454071   494.956604  221.963928    0.270741     56   chair\n",
      "          xmin        ymin         xmax        ymax  confidence  class    name\n",
      "0     1.283043   94.489731   199.961670  551.672180    0.841518      0  person\n",
      "1   442.063019  331.015442   818.418701  685.450745    0.840826      0  person\n",
      "2   594.208130  514.831482   832.493286  660.695251    0.828206     63  laptop\n",
      "3   791.234314  409.750153  1275.350952  718.594360    0.814927      0  person\n",
      "4    56.611382  583.375000   287.718079  715.841431    0.783930      0  person\n",
      "5   243.435150  401.288818   443.204193  540.353455    0.644918     63  laptop\n",
      "6   503.835205  238.082214   666.692017  302.847412    0.404737     56   chair\n",
      "7   336.018768  261.774902   510.319244  325.874207    0.351703     56   chair\n",
      "8   489.266266  144.126343   634.808411  206.337036    0.343765     56   chair\n",
      "9   866.167236  289.582581  1027.017700  371.535828    0.295515     13   bench\n",
      "10  331.440216  167.337204   494.048615  225.142441    0.281584     56   chair\n"
     ]
    },
    {
     "name": "stderr",
     "output_type": "stream",
     "text": [
      "C:\\Users\\ALFIYA/.cache\\torch\\hub\\ultralytics_yolov5_master\\models\\common.py:892: FutureWarning: `torch.cuda.amp.autocast(args...)` is deprecated. Please use `torch.amp.autocast('cuda', args...)` instead.\n",
      "  with amp.autocast(autocast):\n",
      "C:\\Users\\ALFIYA/.cache\\torch\\hub\\ultralytics_yolov5_master\\models\\common.py:892: FutureWarning: `torch.cuda.amp.autocast(args...)` is deprecated. Please use `torch.amp.autocast('cuda', args...)` instead.\n",
      "  with amp.autocast(autocast):\n"
     ]
    },
    {
     "name": "stdout",
     "output_type": "stream",
     "text": [
      "          xmin        ymin         xmax        ymax  confidence  class    name\n",
      "0     1.289543   95.373062   199.950226  551.782959    0.840108      0  person\n",
      "1   441.648987  331.330200   819.078430  685.343506    0.836877      0  person\n",
      "2   593.590759  515.035156   832.181213  660.694946    0.828101     63  laptop\n",
      "3   791.556335  409.986450  1275.475342  718.527100    0.818465      0  person\n",
      "4    55.662926  583.456970   287.531677  715.675720    0.788783      0  person\n",
      "5   238.714111  401.302551   443.302002  540.671692    0.645969     63  laptop\n",
      "6   503.432831  238.167877   666.762695  302.975006    0.398612     56   chair\n",
      "7   336.062500  261.979431   510.106384  325.912292    0.339720     56   chair\n",
      "8   488.368835  142.121796   634.509705  206.141602    0.336468     56   chair\n",
      "9   330.930847  167.863541   493.878662  225.274094    0.274389     56   chair\n",
      "10  866.841125  289.822662  1026.979736  371.299103    0.258006     13   bench\n",
      "          xmin        ymin         xmax        ymax  confidence  class    name\n",
      "0   441.541870  331.407898   818.117188  685.474182    0.840193      0  person\n",
      "1     1.415100   96.035614   200.019806  551.735107    0.839927      0  person\n",
      "2   592.962402  514.787109   831.707642  660.569824    0.827996     63  laptop\n",
      "3   791.096985  410.131989  1275.371582  718.630371    0.820724      0  person\n",
      "4    53.888153  583.134521   286.560547  715.676514    0.782108      0  person\n",
      "5   243.364319  401.192078   442.671204  540.881836    0.643767     63  laptop\n",
      "6   503.301392  238.212830   666.792236  302.961975    0.400048     56   chair\n",
      "7   335.973389  261.939301   509.733276  325.961090    0.343107     56   chair\n",
      "8   488.897736  143.255600   634.510254  206.264359    0.341824     56   chair\n",
      "9   330.334167  167.000778   494.010986  225.404770    0.273572     56   chair\n",
      "10  866.891235  289.996124  1026.593872  371.113617    0.250157     13   bench\n"
     ]
    },
    {
     "name": "stderr",
     "output_type": "stream",
     "text": [
      "C:\\Users\\ALFIYA/.cache\\torch\\hub\\ultralytics_yolov5_master\\models\\common.py:892: FutureWarning: `torch.cuda.amp.autocast(args...)` is deprecated. Please use `torch.amp.autocast('cuda', args...)` instead.\n",
      "  with amp.autocast(autocast):\n",
      "C:\\Users\\ALFIYA/.cache\\torch\\hub\\ultralytics_yolov5_master\\models\\common.py:892: FutureWarning: `torch.cuda.amp.autocast(args...)` is deprecated. Please use `torch.amp.autocast('cuda', args...)` instead.\n",
      "  with amp.autocast(autocast):\n"
     ]
    },
    {
     "name": "stdout",
     "output_type": "stream",
     "text": [
      "          xmin        ymin         xmax        ymax  confidence  class    name\n",
      "0   441.866119  331.329742   818.011353  685.073975    0.847948      0  person\n",
      "1     1.256294   96.614304   200.110046  551.623962    0.843310      0  person\n",
      "2   592.263306  515.090271   831.353882  660.573792    0.829971     63  laptop\n",
      "3   790.556152  410.037903  1275.900879  718.763733    0.823712      0  person\n",
      "4    50.908836  582.535278   285.188751  715.874756    0.768708      0  person\n",
      "5   232.763824  401.235687   441.879913  540.873230    0.648105     63  laptop\n",
      "6   503.459991  237.882507   666.768921  302.999390    0.403197     56   chair\n",
      "7   335.998413  262.137054   509.708679  325.800079    0.343182     56   chair\n",
      "8   488.957153  143.524750   634.636475  206.230316    0.325473     56   chair\n",
      "9   330.230591  167.219177   494.216675  225.354767    0.273572     56   chair\n",
      "10  866.701782  290.219299  1026.437378  370.881042    0.264488     13   bench\n",
      "          xmin        ymin         xmax        ymax  confidence  class    name\n",
      "0   442.093567  331.558105   818.038757  685.074463    0.846773      0  person\n",
      "1     1.252213   96.747589   200.140350  551.274292    0.836776      0  person\n",
      "2   592.360413  514.920776   831.266052  660.710327    0.829753     63  laptop\n",
      "3   790.217773  410.091980  1275.784668  718.631897    0.823067      0  person\n",
      "4    49.368408  581.492371   283.663208  715.784607    0.768560      0  person\n",
      "5   235.991501  400.995331   442.041748  540.461609    0.648417     63  laptop\n",
      "6   503.134491  237.711060   666.846802  302.998840    0.402372     56   chair\n",
      "7   336.339661  261.852509   509.674561  325.990692    0.340696     56   chair\n",
      "8   488.911560  144.499863   634.665344  206.500534    0.314311     56   chair\n",
      "9   866.936584  290.313507  1026.436035  370.964691    0.295073     13   bench\n",
      "10  331.174927  167.562973   494.280457  225.218155    0.279372     56   chair\n"
     ]
    },
    {
     "name": "stderr",
     "output_type": "stream",
     "text": [
      "C:\\Users\\ALFIYA/.cache\\torch\\hub\\ultralytics_yolov5_master\\models\\common.py:892: FutureWarning: `torch.cuda.amp.autocast(args...)` is deprecated. Please use `torch.amp.autocast('cuda', args...)` instead.\n",
      "  with amp.autocast(autocast):\n",
      "C:\\Users\\ALFIYA/.cache\\torch\\hub\\ultralytics_yolov5_master\\models\\common.py:892: FutureWarning: `torch.cuda.amp.autocast(args...)` is deprecated. Please use `torch.amp.autocast('cuda', args...)` instead.\n",
      "  with amp.autocast(autocast):\n"
     ]
    },
    {
     "name": "stdout",
     "output_type": "stream",
     "text": [
      "          xmin        ymin         xmax        ymax  confidence  class    name\n",
      "0   442.081451  331.833435   817.243042  684.940247    0.849030      0  person\n",
      "1     1.149834   96.823029   200.135376  550.551880    0.837541      0  person\n",
      "2   592.185303  514.536865   830.567139  660.850464    0.832130     63  laptop\n",
      "3   791.238281  409.566437  1274.968994  718.663574    0.810919      0  person\n",
      "4    47.456398  581.634399   282.704163  715.993652    0.741255      0  person\n",
      "5   248.565811  401.446808   441.653381  540.007568    0.650595     63  laptop\n",
      "6   502.812927  237.806396   666.473816  302.773804    0.405198     56   chair\n",
      "7   335.108917  261.494385   509.649628  325.814880    0.342545     56   chair\n",
      "8   488.338348  144.259827   634.238892  206.751587    0.319916     56   chair\n",
      "9   866.781189  289.966278  1026.214722  370.447662    0.307931     13   bench\n",
      "10  330.593811  167.563416   493.886230  225.154083    0.283665     56   chair\n",
      "          xmin        ymin         xmax        ymax  confidence  class    name\n",
      "0   442.448425  332.145630   815.707825  684.551147    0.847064      0  person\n",
      "1     1.214668   96.779373   200.123047  551.139282    0.837947      0  person\n",
      "2   591.677002  513.735596   829.639038  661.014282    0.836470     63  laptop\n",
      "3   791.649353  409.412292  1275.167603  719.083069    0.809247      0  person\n",
      "4    45.795502  581.661133   282.430328  716.093872    0.717389      0  person\n",
      "5   240.871643  401.539368   441.825745  540.010864    0.641690     63  laptop\n",
      "6   502.681763  237.307068   666.515747  302.696228    0.400812     56   chair\n",
      "7   488.098480  143.876938   634.355347  206.638199    0.329593     56   chair\n",
      "8   334.373718  261.112915   509.429932  325.808838    0.323850     56   chair\n",
      "9   867.165894  290.062805  1025.693970  370.597168    0.295621     13   bench\n",
      "10  330.829193  167.489014   493.946503  225.249725    0.278053     56   chair\n"
     ]
    },
    {
     "name": "stderr",
     "output_type": "stream",
     "text": [
      "C:\\Users\\ALFIYA/.cache\\torch\\hub\\ultralytics_yolov5_master\\models\\common.py:892: FutureWarning: `torch.cuda.amp.autocast(args...)` is deprecated. Please use `torch.amp.autocast('cuda', args...)` instead.\n",
      "  with amp.autocast(autocast):\n",
      "C:\\Users\\ALFIYA/.cache\\torch\\hub\\ultralytics_yolov5_master\\models\\common.py:892: FutureWarning: `torch.cuda.amp.autocast(args...)` is deprecated. Please use `torch.amp.autocast('cuda', args...)` instead.\n",
      "  with amp.autocast(autocast):\n"
     ]
    },
    {
     "name": "stdout",
     "output_type": "stream",
     "text": [
      "          xmin        ymin         xmax        ymax  confidence  class    name\n",
      "0   441.750732  331.989929   814.741333  685.130798    0.846860      0  person\n",
      "1   592.312744  514.063293   829.347290  661.537781    0.840927     63  laptop\n",
      "2     1.348915   97.074783   199.486389  552.119690    0.834516      0  person\n",
      "3   791.224548  409.435303  1276.175659  719.002686    0.823586      0  person\n",
      "4    44.668930  583.122192   280.334167  716.688721    0.709200      0  person\n",
      "5   236.446716  402.332977   441.827148  540.197754    0.653759     63  laptop\n",
      "6   502.544556  237.286591   666.397461  302.775055    0.405437     56   chair\n",
      "7   334.077942  261.065887   509.349365  326.001312    0.342996     56   chair\n",
      "8   487.190063  143.296524   634.552856  206.582962    0.341676     56   chair\n",
      "9   330.657501  167.056519   493.954437  225.262268    0.291033     56   chair\n",
      "10  867.215576  290.037109  1025.732422  370.991760    0.287964     13   bench\n",
      "          xmin        ymin         xmax        ymax  confidence  class    name\n",
      "0   442.264709  332.264709   814.471741  684.964172    0.845595      0  person\n",
      "1   592.434082  514.518433   829.500122  661.459595    0.836284     63  laptop\n",
      "2     1.526161   97.555328   198.903015  552.353638    0.833029      0  person\n",
      "3   791.145996  409.705933  1276.161621  718.980225    0.830588      0  person\n",
      "4    39.677643  585.720581   276.074921  715.739502    0.728248      0  person\n",
      "5   218.123627  403.199921   440.940887  540.620178    0.665306     63  laptop\n",
      "6   502.329651  237.034058   666.309021  302.844238    0.401176     56   chair\n",
      "7   487.455933  144.916687   634.416504  206.558777    0.337486     56   chair\n",
      "8   333.042816  259.735657   509.439240  326.147156    0.321398     56   chair\n",
      "9   866.965576  290.071594  1026.025269  371.389526    0.304500     13   bench\n",
      "10  330.701843  167.113617   493.673950  225.380554    0.277071     56   chair\n"
     ]
    },
    {
     "name": "stderr",
     "output_type": "stream",
     "text": [
      "C:\\Users\\ALFIYA/.cache\\torch\\hub\\ultralytics_yolov5_master\\models\\common.py:892: FutureWarning: `torch.cuda.amp.autocast(args...)` is deprecated. Please use `torch.amp.autocast('cuda', args...)` instead.\n",
      "  with amp.autocast(autocast):\n",
      "C:\\Users\\ALFIYA/.cache\\torch\\hub\\ultralytics_yolov5_master\\models\\common.py:892: FutureWarning: `torch.cuda.amp.autocast(args...)` is deprecated. Please use `torch.amp.autocast('cuda', args...)` instead.\n",
      "  with amp.autocast(autocast):\n"
     ]
    },
    {
     "name": "stdout",
     "output_type": "stream",
     "text": [
      "          xmin        ymin         xmax        ymax  confidence  class    name\n",
      "0   441.792572  331.796021   813.633423  684.785645    0.843813      0  person\n",
      "1   591.784363  514.209167   828.844421  661.557922    0.838591     63  laptop\n",
      "2   790.100037  409.443115  1275.968628  718.825928    0.823858      0  person\n",
      "3     1.573128   98.459778   199.045166  551.512085    0.814257      0  person\n",
      "4    36.713509  584.429932   273.825378  715.685669    0.749408      0  person\n",
      "5   224.972778  403.361877   439.394775  539.877625    0.673595     63  laptop\n",
      "6   502.935242  237.176636   666.464905  302.728638    0.392186     56   chair\n",
      "7   487.577576  146.296356   633.790833  206.785645    0.326851     56   chair\n",
      "8   333.408630  260.857086   509.103455  326.079987    0.318240     56   chair\n",
      "9   866.838867  290.252106  1025.499390  371.180878    0.307223     13   bench\n",
      "10  330.147278  166.944092   493.847351  225.461365    0.269630     56   chair\n",
      "          xmin        ymin         xmax        ymax  confidence  class    name\n",
      "0   441.143250  332.045135   812.394714  685.784912    0.847289      0  person\n",
      "1   590.481689  514.395569   827.849121  662.250305    0.846296     63  laptop\n",
      "2     1.559196   98.081482   199.359528  551.377380    0.832957      0  person\n",
      "3   789.793579  409.492371  1276.053101  718.342468    0.814603      0  person\n",
      "4    35.599144  584.403687   272.522339  715.836182    0.757955      0  person\n",
      "5   189.653564  403.942993   442.828979  540.616821    0.719171     63  laptop\n",
      "6   501.741943  237.412842   665.899902  302.764099    0.353418     56   chair\n",
      "7   486.861023  145.756836   633.609192  206.816162    0.324303     56   chair\n",
      "8   866.853821  290.524109  1025.535889  371.205139    0.319073     13   bench\n",
      "9   331.974518  259.219696   509.340668  326.343842    0.286401     56   chair\n",
      "10  776.998291  452.859833   954.466919  550.610413    0.270347     63  laptop\n",
      "11  330.161011  166.463272   493.618286  225.585922    0.253028     56   chair\n"
     ]
    },
    {
     "name": "stderr",
     "output_type": "stream",
     "text": [
      "C:\\Users\\ALFIYA/.cache\\torch\\hub\\ultralytics_yolov5_master\\models\\common.py:892: FutureWarning: `torch.cuda.amp.autocast(args...)` is deprecated. Please use `torch.amp.autocast('cuda', args...)` instead.\n",
      "  with amp.autocast(autocast):\n",
      "C:\\Users\\ALFIYA/.cache\\torch\\hub\\ultralytics_yolov5_master\\models\\common.py:892: FutureWarning: `torch.cuda.amp.autocast(args...)` is deprecated. Please use `torch.amp.autocast('cuda', args...)` instead.\n",
      "  with amp.autocast(autocast):\n"
     ]
    },
    {
     "name": "stdout",
     "output_type": "stream",
     "text": [
      "          xmin        ymin         xmax        ymax  confidence  class    name\n",
      "0   441.354980  332.418396   812.274292  685.972107    0.848366      0  person\n",
      "1   590.148315  514.318848   827.563110  662.321777    0.847122     63  laptop\n",
      "2     1.590004   97.385269   199.765350  551.693298    0.842489      0  person\n",
      "3   789.457214  409.904419  1276.469482  717.966187    0.808600      0  person\n",
      "4    35.341248  585.160278   271.637634  715.987305    0.750355      0  person\n",
      "5   189.379715  403.937073   442.779907  540.323242    0.719727     63  laptop\n",
      "6   866.332458  290.461731  1025.924561  371.169495    0.365992     13   bench\n",
      "7   502.206909  237.263062   665.885864  303.141968    0.355126     56   chair\n",
      "8   487.208130  145.886459   634.124756  207.407486    0.327962     56   chair\n",
      "9   332.478821  257.751343   509.479431  326.738220    0.303162     56   chair\n",
      "10  329.524719  165.174484   493.589294  225.700577    0.294825     56   chair\n",
      "11  778.687378  453.281219   953.968140  550.725281    0.284523     63  laptop\n",
      "          xmin        ymin         xmax        ymax  confidence  class    name\n",
      "0   441.470917  332.457336   812.389404  686.259094    0.852846      0  person\n",
      "1   590.393433  514.556580   828.207642  662.496033    0.850319     63  laptop\n",
      "2     1.550697   97.835861   200.268311  551.851624    0.839619      0  person\n",
      "3   789.410950  409.928040  1276.572388  717.980652    0.814734      0  person\n",
      "4    34.265663  585.970703   272.213226  715.861450    0.753810      0  person\n",
      "5   189.279449  403.896362   443.267242  540.564819    0.726289     63  laptop\n",
      "6   502.260529  237.485382   665.615479  302.996429    0.370099     56   chair\n",
      "7   866.331787  290.370789  1026.065674  371.144714    0.364010     13   bench\n",
      "8   487.315979  147.160538   633.180237  207.333572    0.332215     56   chair\n",
      "9   332.320618  258.057861   509.557861  326.588806    0.306576     56   chair\n",
      "10  778.059570  453.249207   954.412598  550.572083    0.291998     63  laptop\n",
      "11  329.653595  165.209290   493.517426  225.681488    0.291014     56   chair\n",
      "12  619.309570  131.011719   767.783936  189.834320    0.256300     56   chair\n"
     ]
    },
    {
     "name": "stderr",
     "output_type": "stream",
     "text": [
      "C:\\Users\\ALFIYA/.cache\\torch\\hub\\ultralytics_yolov5_master\\models\\common.py:892: FutureWarning: `torch.cuda.amp.autocast(args...)` is deprecated. Please use `torch.amp.autocast('cuda', args...)` instead.\n",
      "  with amp.autocast(autocast):\n",
      "C:\\Users\\ALFIYA/.cache\\torch\\hub\\ultralytics_yolov5_master\\models\\common.py:892: FutureWarning: `torch.cuda.amp.autocast(args...)` is deprecated. Please use `torch.amp.autocast('cuda', args...)` instead.\n",
      "  with amp.autocast(autocast):\n"
     ]
    },
    {
     "name": "stdout",
     "output_type": "stream",
     "text": [
      "          xmin        ymin         xmax        ymax  confidence  class    name\n",
      "0   441.306641  332.199921   813.048950  685.638062    0.851349      0  person\n",
      "1   589.585205  514.206787   827.823975  662.655273    0.849172     63  laptop\n",
      "2     1.481514   98.800262   199.242981  551.818115    0.834479      0  person\n",
      "3   789.756409  410.074493  1276.292236  718.088745    0.825165      0  person\n",
      "4    34.395531  585.000244   271.814911  715.615479    0.749136      0  person\n",
      "5   192.326248  403.656342   444.290100  540.630981    0.713724     63  laptop\n",
      "6   866.259827  290.253784  1025.962158  370.617371    0.326949     13   bench\n",
      "7   502.471375  237.280273   666.057434  302.786926    0.302825     56   chair\n",
      "8   486.828369  146.939087   633.195679  207.189209    0.289255     56   chair\n",
      "9   777.721313  453.138367   954.819702  550.578552    0.263548     63  laptop\n",
      "10  329.852264  165.251099   493.974701  225.622131    0.256983     56   chair\n",
      "11  332.992249  258.176331   510.024597  326.491882    0.251478     56   chair\n",
      "          xmin        ymin         xmax        ymax  confidence  class    name\n",
      "0   441.623352  332.266602   813.773376  686.034546    0.847922      0  person\n",
      "1   590.708008  514.601868   828.459717  662.684143    0.844013     63  laptop\n",
      "2     1.355835   98.320969   199.940506  551.257935    0.839311      0  person\n",
      "3   790.863098  410.126984  1275.727539  718.426025    0.823177      0  person\n",
      "4    34.839272  584.636536   270.504425  715.314392    0.755363      0  person\n",
      "5   191.778229  403.847473   444.304413  540.681519    0.713497     63  laptop\n",
      "6   502.778442  237.188110   666.111084  302.591248    0.326992     56   chair\n",
      "7   487.319946  147.628906   633.193726  206.901581    0.309811     56   chair\n",
      "8   866.460571  290.303009  1026.077759  370.854584    0.302724     13   bench\n",
      "9   330.190582  165.194641   493.648895  225.330505    0.265753     56   chair\n",
      "10  777.592163  453.099121   955.398682  550.297729    0.259658     63  laptop\n"
     ]
    },
    {
     "name": "stderr",
     "output_type": "stream",
     "text": [
      "C:\\Users\\ALFIYA/.cache\\torch\\hub\\ultralytics_yolov5_master\\models\\common.py:892: FutureWarning: `torch.cuda.amp.autocast(args...)` is deprecated. Please use `torch.amp.autocast('cuda', args...)` instead.\n",
      "  with amp.autocast(autocast):\n",
      "C:\\Users\\ALFIYA/.cache\\torch\\hub\\ultralytics_yolov5_master\\models\\common.py:892: FutureWarning: `torch.cuda.amp.autocast(args...)` is deprecated. Please use `torch.amp.autocast('cuda', args...)` instead.\n",
      "  with amp.autocast(autocast):\n"
     ]
    },
    {
     "name": "stdout",
     "output_type": "stream",
     "text": [
      "         xmin        ymin         xmax        ymax  confidence  class    name\n",
      "0  441.779175  332.202484   814.406128  685.791870    0.844699      0  person\n",
      "1  591.108521  514.769958   829.274292  662.413391    0.840880     63  laptop\n",
      "2    1.440903   98.588196   200.296188  551.250061    0.836715      0  person\n",
      "3  791.520630  410.670837  1275.297729  718.535339    0.815533      0  person\n",
      "4   33.973648  583.938538   271.164612  715.296326    0.758554      0  person\n",
      "5  190.781799  403.113159   444.054932  540.467773    0.702692     63  laptop\n",
      "6  503.170959  237.225372   666.054871  302.614166    0.310038     56   chair\n",
      "7  487.454895  146.890900   633.152527  206.774780    0.305385     56   chair\n",
      "8  337.472076  167.326202   489.829926  223.626068    0.262683     56   chair\n",
      "9  866.753601  290.091034  1026.483521  370.716034    0.260646     13   bench\n",
      "          xmin        ymin         xmax        ymax  confidence  class    name\n",
      "0   442.065674  332.386169   816.126587  685.596252    0.840806      0  person\n",
      "1     1.370399   98.792297   201.071899  551.291138    0.836199      0  person\n",
      "2   592.337524  514.482300   830.589233  661.284668    0.832234     63  laptop\n",
      "3   791.254700  409.855652  1276.125977  718.266785    0.806003      0  person\n",
      "4    30.442657  581.405823   274.195496  715.545959    0.761126      0  person\n",
      "5   191.591782  403.049316   444.456482  540.429199    0.700305     63  laptop\n",
      "6   866.065674  289.877777  1027.092651  370.779327    0.308928     13   bench\n",
      "7   502.520233  236.476654   666.711548  302.629120    0.285734     56   chair\n",
      "8   487.729187  144.767197   633.526306  206.395950    0.281909     56   chair\n",
      "9   337.288116  166.126099   490.330719  223.442383    0.265680     56   chair\n",
      "10  333.126434  257.976227   510.640900  325.825775    0.253503     56   chair\n"
     ]
    },
    {
     "name": "stderr",
     "output_type": "stream",
     "text": [
      "C:\\Users\\ALFIYA/.cache\\torch\\hub\\ultralytics_yolov5_master\\models\\common.py:892: FutureWarning: `torch.cuda.amp.autocast(args...)` is deprecated. Please use `torch.amp.autocast('cuda', args...)` instead.\n",
      "  with amp.autocast(autocast):\n",
      "C:\\Users\\ALFIYA/.cache\\torch\\hub\\ultralytics_yolov5_master\\models\\common.py:892: FutureWarning: `torch.cuda.amp.autocast(args...)` is deprecated. Please use `torch.amp.autocast('cuda', args...)` instead.\n",
      "  with amp.autocast(autocast):\n"
     ]
    },
    {
     "name": "stdout",
     "output_type": "stream",
     "text": [
      "          xmin        ymin         xmax        ymax  confidence  class    name\n",
      "0   442.835144  332.409180   816.888245  684.996948    0.849609      0  person\n",
      "1     1.181618   99.109848   201.890289  551.301819    0.839994      0  person\n",
      "2   593.227966  513.899414   831.140198  661.088501    0.832103     63  laptop\n",
      "3   791.955017  409.462433  1278.518921  718.994019    0.819816      0  person\n",
      "4    30.370255  581.552429   273.701599  715.491394    0.771756      0  person\n",
      "5   189.583496  402.230286   444.123901  540.185730    0.700336     63  laptop\n",
      "6   865.826294  289.619141  1028.857910  370.222534    0.334119     13   bench\n",
      "7   501.891846  236.844604   666.528687  302.364990    0.307820     56   chair\n",
      "8   489.008911  145.591263   633.078003  206.192825    0.302122     56   chair\n",
      "9   338.571594  168.411240   489.865906  222.804581    0.262165     56   chair\n",
      "10  335.236023  259.563873   511.265320  325.282135    0.259163     56   chair\n"
     ]
    },
    {
     "name": "stderr",
     "output_type": "stream",
     "text": [
      "C:\\Users\\ALFIYA/.cache\\torch\\hub\\ultralytics_yolov5_master\\models\\common.py:892: FutureWarning: `torch.cuda.amp.autocast(args...)` is deprecated. Please use `torch.amp.autocast('cuda', args...)` instead.\n",
      "  with amp.autocast(autocast):\n"
     ]
    },
    {
     "name": "stdout",
     "output_type": "stream",
     "text": [
      "          xmin        ymin         xmax        ymax  confidence  class    name\n",
      "0     1.053505   98.773087   202.453857  550.880127    0.851696      0  person\n",
      "1   441.850586  331.895142   820.370605  685.295166    0.849475      0  person\n",
      "2   790.884033  408.666687  1279.579102  719.047668    0.820332      0  person\n",
      "3   594.122253  513.729492   832.476990  661.156738    0.816160     63  laptop\n",
      "4    29.322914  580.373291   272.665314  715.383179    0.780931      0  person\n",
      "5   241.292786  400.809753   440.572327  538.249939    0.672096     63  laptop\n",
      "6   502.601471  236.609283   665.953613  301.991119    0.353832     56   chair\n",
      "7   335.326447  260.719940   510.589691  324.633942    0.321791     56   chair\n",
      "8   489.416443  145.559891   633.529114  205.835129    0.281669     56   chair\n",
      "9   867.873779  288.165527  1029.649780  367.974670    0.280024     13   bench\n",
      "10  338.964478  167.770782   490.078064  222.586578    0.278738     56   chair\n",
      "          xmin        ymin         xmax        ymax  confidence  class    name\n",
      "0   442.404175  331.983643   821.817139  685.438354    0.852279      0  person\n",
      "1     1.007050   98.808807   203.184723  551.003174    0.851959      0  person\n",
      "2   595.154114  513.877625   833.904236  659.957947    0.810996     63  laptop\n",
      "3   789.890442  408.045105  1279.829224  718.966370    0.807259      0  person\n",
      "4    28.944969  578.286865   274.931732  715.452881    0.780169      0  person\n",
      "5   254.856918  400.223877   441.707336  537.975037    0.676483     63  laptop\n",
      "6   502.754761  236.167175   666.092407  301.842102    0.361110     56   chair\n",
      "7   335.948975  261.295410   511.218140  324.373169    0.342750     56   chair\n",
      "8   489.269470  145.598785   634.335632  205.812561    0.272407     56   chair\n",
      "9   339.345673  167.989944   490.175873  222.407761    0.272292     56   chair\n",
      "10  867.980286  289.423187  1029.483887  368.816498    0.262377     13   bench\n"
     ]
    },
    {
     "name": "stderr",
     "output_type": "stream",
     "text": [
      "C:\\Users\\ALFIYA/.cache\\torch\\hub\\ultralytics_yolov5_master\\models\\common.py:892: FutureWarning: `torch.cuda.amp.autocast(args...)` is deprecated. Please use `torch.amp.autocast('cuda', args...)` instead.\n",
      "  with amp.autocast(autocast):\n",
      "C:\\Users\\ALFIYA/.cache\\torch\\hub\\ultralytics_yolov5_master\\models\\common.py:892: FutureWarning: `torch.cuda.amp.autocast(args...)` is deprecated. Please use `torch.amp.autocast('cuda', args...)` instead.\n",
      "  with amp.autocast(autocast):\n"
     ]
    },
    {
     "name": "stdout",
     "output_type": "stream",
     "text": [
      "          xmin        ymin         xmax        ymax  confidence  class    name\n",
      "0   443.697205  331.837402   821.794617  685.578369    0.857255      0  person\n",
      "1     1.133430   98.123077   204.124176  549.902954    0.852821      0  person\n",
      "2   596.629761  513.617981   835.102295  660.638367    0.818924     63  laptop\n",
      "3   791.351746  407.682495  1280.000000  719.178223    0.813138      0  person\n",
      "4    28.729851  577.672729   275.273315  715.297974    0.779694      0  person\n",
      "5   253.183273  399.720917   442.005676  537.885559    0.666757     63  laptop\n",
      "6   502.731232  235.614929   666.433594  301.675720    0.351371     56   chair\n",
      "7   868.128906  289.301880  1030.846802  368.669983    0.307500     13   bench\n",
      "8   335.598022  260.410767   511.694275  324.172546    0.301177     56   chair\n",
      "9   489.581604  144.409302   634.854919  205.287476    0.269714     56   chair\n",
      "10  337.727814  165.486145   494.915680  220.635742    0.252295     56   chair\n",
      "         xmin        ymin         xmax        ymax  confidence  class    name\n",
      "0  448.693909  330.993927   816.708923  678.889404    0.860228      0  person\n",
      "1    0.924011   98.257248   203.603226  550.752625    0.859408      0  person\n",
      "2  794.073730  407.315002  1279.878418  718.411926    0.834185      0  person\n",
      "3  597.349976  514.096558   836.014160  661.075317    0.823812     63  laptop\n",
      "4   28.267876  578.200806   274.073883  715.662476    0.781831      0  person\n",
      "5  230.973053  399.561371   442.925751  538.273682    0.668757     63  laptop\n",
      "6  503.047546  234.712646   666.909851  301.370605    0.356229     56   chair\n",
      "7  336.095947  260.555511   511.635132  323.885040    0.318878     56   chair\n",
      "8  869.439392  288.753998  1031.320068  368.293976    0.307321     13   bench\n",
      "9  490.266510  143.299530   635.768738  204.832458    0.259541     56   chair\n"
     ]
    },
    {
     "name": "stderr",
     "output_type": "stream",
     "text": [
      "C:\\Users\\ALFIYA/.cache\\torch\\hub\\ultralytics_yolov5_master\\models\\common.py:892: FutureWarning: `torch.cuda.amp.autocast(args...)` is deprecated. Please use `torch.amp.autocast('cuda', args...)` instead.\n",
      "  with amp.autocast(autocast):\n",
      "C:\\Users\\ALFIYA/.cache\\torch\\hub\\ultralytics_yolov5_master\\models\\common.py:892: FutureWarning: `torch.cuda.amp.autocast(args...)` is deprecated. Please use `torch.amp.autocast('cuda', args...)` instead.\n",
      "  with amp.autocast(autocast):\n"
     ]
    },
    {
     "name": "stdout",
     "output_type": "stream",
     "text": [
      "         xmin        ymin         xmax        ymax  confidence  class    name\n",
      "0  450.970490  330.630493   813.881714  677.119385    0.857731      0  person\n",
      "1    0.657700   97.647110   205.104904  549.980469    0.848568      0  person\n",
      "2  796.585449  406.175598  1279.088135  718.092834    0.833895      0  person\n",
      "3  598.432312  512.846375   836.648376  660.715515    0.824412     63  laptop\n",
      "4   28.129494  577.713501   272.723114  715.705688    0.790146      0  person\n",
      "5  230.718887  398.993713   445.120605  538.174988    0.659777     63  laptop\n",
      "6  502.602051  232.685028   667.138184  300.832672    0.305896     56   chair\n",
      "7  870.177429  288.621521  1031.436523  367.973755    0.286961     13   bench\n",
      "8  334.513672  258.188629   512.263916  323.895966    0.261809     56   chair\n",
      "         xmin        ymin         xmax        ymax  confidence  class    name\n",
      "0  451.569275  330.553986   813.794495  675.590210    0.857114      0  person\n",
      "1    0.967865   96.828491   206.705978  549.743042    0.849836      0  person\n",
      "2  797.855652  405.365631  1279.814209  718.228516    0.846246      0  person\n",
      "3  600.281860  511.961304   836.330688  660.618408    0.826424     63  laptop\n",
      "4   26.556763  577.048340   270.827087  715.565796    0.796630      0  person\n",
      "5  252.547943  398.910400   445.664337  537.721130    0.665038     63  laptop\n",
      "6  869.946167  288.938293  1034.765381  367.683533    0.287098     13   bench\n",
      "7  503.039337  233.298035   667.460327  300.502869    0.279674     56   chair\n"
     ]
    },
    {
     "name": "stderr",
     "output_type": "stream",
     "text": [
      "C:\\Users\\ALFIYA/.cache\\torch\\hub\\ultralytics_yolov5_master\\models\\common.py:892: FutureWarning: `torch.cuda.amp.autocast(args...)` is deprecated. Please use `torch.amp.autocast('cuda', args...)` instead.\n",
      "  with amp.autocast(autocast):\n",
      "C:\\Users\\ALFIYA/.cache\\torch\\hub\\ultralytics_yolov5_master\\models\\common.py:892: FutureWarning: `torch.cuda.amp.autocast(args...)` is deprecated. Please use `torch.amp.autocast('cuda', args...)` instead.\n",
      "  with amp.autocast(autocast):\n"
     ]
    },
    {
     "name": "stdout",
     "output_type": "stream",
     "text": [
      "         xmin        ymin         xmax        ymax  confidence  class    name\n",
      "0    1.162224   96.418671   206.940796  550.118286    0.855333      0  person\n",
      "1  454.017731  330.329010   813.089111  675.065430    0.854045      0  person\n",
      "2  798.933350  405.038940  1279.446289  718.337524    0.832305      0  person\n",
      "3  601.881592  510.369324   836.809204  660.476379    0.817390     63  laptop\n",
      "4   26.356056  576.804688   269.614471  715.885498    0.787345      0  person\n",
      "5  260.698914  398.899048   447.230774  537.446594    0.660768     63  laptop\n",
      "6  869.481812  288.935791  1035.075684  367.543030    0.336415     13   bench\n",
      "7  503.612732  233.988983   668.029480  300.657623    0.290746     56   chair\n",
      "8  333.280884  255.931274   513.869934  324.113281    0.262485     56   chair\n",
      "         xmin        ymin         xmax        ymax  confidence  class    name\n",
      "0    1.289833   95.909180   208.331451  548.890381    0.856213      0  person\n",
      "1  452.763794  330.584503   815.282593  677.085205    0.855321      0  person\n",
      "2  798.948120  404.329895  1279.414185  718.250061    0.829801      0  person\n",
      "3  601.988403  511.024963   837.824463  660.954651    0.807799     63  laptop\n",
      "4   26.567230  575.892151   270.000916  715.822937    0.794845      0  person\n",
      "5  269.912964  399.869751   447.680420  538.705750    0.674398     63  laptop\n",
      "6  870.739014  288.449554  1036.857422  367.519867    0.325922     13   bench\n",
      "7  502.853302  233.545197   668.754395  300.757538    0.271487     56   chair\n",
      "8  332.875763  253.003296   514.272949  324.371948    0.264015     56   chair\n"
     ]
    },
    {
     "name": "stderr",
     "output_type": "stream",
     "text": [
      "C:\\Users\\ALFIYA/.cache\\torch\\hub\\ultralytics_yolov5_master\\models\\common.py:892: FutureWarning: `torch.cuda.amp.autocast(args...)` is deprecated. Please use `torch.amp.autocast('cuda', args...)` instead.\n",
      "  with amp.autocast(autocast):\n",
      "C:\\Users\\ALFIYA/.cache\\torch\\hub\\ultralytics_yolov5_master\\models\\common.py:892: FutureWarning: `torch.cuda.amp.autocast(args...)` is deprecated. Please use `torch.amp.autocast('cuda', args...)` instead.\n",
      "  with amp.autocast(autocast):\n"
     ]
    },
    {
     "name": "stdout",
     "output_type": "stream",
     "text": [
      "         xmin        ymin         xmax        ymax  confidence  class    name\n",
      "0    1.291237   95.354065   210.171082  548.450256    0.850405      0  person\n",
      "1  453.176575  331.074402   815.989319  678.536560    0.842905      0  person\n",
      "2  799.618042  403.735565  1279.223755  718.592041    0.821628      0  person\n",
      "3   25.696068  575.432983   270.048340  715.802124    0.801197      0  person\n",
      "4  603.065735  510.498352   838.945007  660.997009    0.793348     63  laptop\n",
      "5  263.398407  398.171692   447.804230  536.519592    0.646620     63  laptop\n",
      "6  872.748047  288.053101  1037.266113  365.960144    0.320689     13   bench\n",
      "7  503.028290  232.890656   669.580078  300.925018    0.263051     56   chair\n",
      "         xmin        ymin         xmax        ymax  confidence  class    name\n",
      "0  453.227997  330.559082   818.655151  678.436768    0.858937      0  person\n",
      "1    1.426361   95.119003   210.724640  548.231934    0.848927      0  person\n",
      "2  799.322571  403.960510  1279.273682  719.345764    0.835347      0  person\n",
      "3  604.229492  511.411499   839.819092  661.066284    0.802116     63  laptop\n",
      "4   24.534180  576.725098   271.321259  715.474609    0.795229      0  person\n",
      "5  257.917664  397.532654   450.499878  536.476379    0.638287     63  laptop\n",
      "6  874.746521  287.153107  1038.153687  366.255829    0.300850     13   bench\n",
      "7  503.473999  232.322266   669.865112  300.901306    0.256012     56   chair\n"
     ]
    },
    {
     "name": "stderr",
     "output_type": "stream",
     "text": [
      "C:\\Users\\ALFIYA/.cache\\torch\\hub\\ultralytics_yolov5_master\\models\\common.py:892: FutureWarning: `torch.cuda.amp.autocast(args...)` is deprecated. Please use `torch.amp.autocast('cuda', args...)` instead.\n",
      "  with amp.autocast(autocast):\n",
      "C:\\Users\\ALFIYA/.cache\\torch\\hub\\ultralytics_yolov5_master\\models\\common.py:892: FutureWarning: `torch.cuda.amp.autocast(args...)` is deprecated. Please use `torch.amp.autocast('cuda', args...)` instead.\n",
      "  with amp.autocast(autocast):\n"
     ]
    },
    {
     "name": "stdout",
     "output_type": "stream",
     "text": [
      "         xmin        ymin         xmax        ymax  confidence  class    name\n",
      "0  453.786255  330.786133   817.067993  679.298950    0.863743      0  person\n",
      "1  801.151306  405.354095  1279.726929  719.807251    0.837654      0  person\n",
      "2    1.655128   95.174393   210.978333  549.535522    0.828235      0  person\n",
      "3  604.070618  511.882080   839.761902  661.482056    0.822769     63  laptop\n",
      "4   22.413116  577.408508   272.204987  715.531555    0.795899      0  person\n",
      "5  239.330139  397.795654   451.383728  536.716187    0.651148     63  laptop\n",
      "6  504.144226  232.537018   670.489563  300.906647    0.278671     56   chair\n",
      "7  876.747253  287.233673  1037.977783  366.867035    0.278059     13   bench\n",
      "         xmin        ymin         xmax        ymax  confidence  class    name\n",
      "0  452.928406  329.964752   819.200012  680.935669    0.871038      0  person\n",
      "1  802.824463  405.296173  1279.084961  719.648071    0.845089      0  person\n",
      "2    1.839676   95.130219   210.588943  549.258789    0.845006      0  person\n",
      "3  607.001648  513.717651   840.390686  661.070190    0.821756     63  laptop\n",
      "4   22.903397  577.800781   272.942261  715.320557    0.795496      0  person\n",
      "5  229.778931  398.266296   449.690125  536.505554    0.675692     63  laptop\n",
      "6  876.483887  286.753845  1038.208496  367.326660    0.296916     13   bench\n",
      "7  504.359131  232.082733   670.905151  300.890228    0.272249     56   chair\n"
     ]
    },
    {
     "name": "stderr",
     "output_type": "stream",
     "text": [
      "C:\\Users\\ALFIYA/.cache\\torch\\hub\\ultralytics_yolov5_master\\models\\common.py:892: FutureWarning: `torch.cuda.amp.autocast(args...)` is deprecated. Please use `torch.amp.autocast('cuda', args...)` instead.\n",
      "  with amp.autocast(autocast):\n",
      "C:\\Users\\ALFIYA/.cache\\torch\\hub\\ultralytics_yolov5_master\\models\\common.py:892: FutureWarning: `torch.cuda.amp.autocast(args...)` is deprecated. Please use `torch.amp.autocast('cuda', args...)` instead.\n",
      "  with amp.autocast(autocast):\n"
     ]
    },
    {
     "name": "stdout",
     "output_type": "stream",
     "text": [
      "         xmin        ymin         xmax        ymax  confidence  class    name\n",
      "0  453.721558  330.138275   820.022095  680.497803    0.881901      0  person\n",
      "1  804.465088  405.934967  1279.049805  719.670044    0.847971      0  person\n",
      "2    1.858948   95.031952   210.680771  550.082275    0.847850      0  person\n",
      "3  607.957764  513.406616   841.391846  661.098022    0.827777     63  laptop\n",
      "4   20.882996  579.061890   273.596313  715.939087    0.783086      0  person\n",
      "5  223.800201  399.425964   450.858063  536.559814    0.681377     63  laptop\n",
      "6  877.731445  286.744385  1038.367432  367.422852    0.262013     13   bench\n",
      "         xmin        ymin         xmax        ymax  confidence  class    name\n",
      "0  454.173340  330.287109   819.535278  681.638550    0.878117      0  person\n",
      "1  805.990051  406.961060  1278.602661  719.715454    0.851534      0  person\n",
      "2    1.993240   95.085434   211.106064  551.579346    0.850257      0  person\n",
      "3  607.445251  513.147949   841.740295  661.920166    0.832686     63  laptop\n",
      "4   19.718895  579.721252   273.703156  715.503723    0.782950      0  person\n",
      "5  231.901886  399.737762   450.962982  536.839600    0.679054     63  laptop\n",
      "6  877.921997  286.471863  1038.270874  367.849548    0.274135     13   bench\n",
      "7  505.735291  233.218201   672.013123  300.911499    0.251940     56   chair\n"
     ]
    },
    {
     "name": "stderr",
     "output_type": "stream",
     "text": [
      "C:\\Users\\ALFIYA/.cache\\torch\\hub\\ultralytics_yolov5_master\\models\\common.py:892: FutureWarning: `torch.cuda.amp.autocast(args...)` is deprecated. Please use `torch.amp.autocast('cuda', args...)` instead.\n",
      "  with amp.autocast(autocast):\n",
      "C:\\Users\\ALFIYA/.cache\\torch\\hub\\ultralytics_yolov5_master\\models\\common.py:892: FutureWarning: `torch.cuda.amp.autocast(args...)` is deprecated. Please use `torch.amp.autocast('cuda', args...)` instead.\n",
      "  with amp.autocast(autocast):\n"
     ]
    },
    {
     "name": "stdout",
     "output_type": "stream",
     "text": [
      "         xmin        ymin         xmax        ymax  confidence  class    name\n",
      "0  455.870239  330.485962   821.779175  682.544067    0.886307      0  person\n",
      "1  805.157654  407.104004  1278.401611  718.297363    0.860874      0  person\n",
      "2    2.210434   95.310928   210.832428  553.396973    0.847910      0  person\n",
      "3  610.850281  514.082520   842.490295  662.012573    0.823950     63  laptop\n",
      "4   19.865967  579.862549   273.470551  715.693115    0.775968      0  person\n",
      "5  212.277344  400.011292   452.019287  537.214111    0.694108     63  laptop\n",
      "6  878.787476  286.226715  1039.923706  368.541290    0.279139     13   bench\n",
      "7  506.572418  233.160461   672.275696  301.115601    0.251004     56   chair\n",
      "         xmin        ymin         xmax        ymax  confidence  class    name\n",
      "0  456.269073  330.303833   822.178223  681.719604    0.886628      0  person\n",
      "1  805.860596  407.278595  1278.255127  718.074097    0.857023      0  person\n",
      "2    2.144226   95.178284   210.797699  553.792358    0.854961      0  person\n",
      "3  612.335815  514.492676   843.031372  662.402344    0.821611     63  laptop\n",
      "4   18.911690  580.610046   273.539368  715.715149    0.777349      0  person\n",
      "5  216.963684  400.005188   453.243164  537.490540    0.689523     63  laptop\n",
      "6  878.634888  285.826752  1041.520996  368.742340    0.331481     13   bench\n",
      "7  506.279236  232.370758   672.648254  301.308746    0.281024     56   chair\n"
     ]
    },
    {
     "name": "stderr",
     "output_type": "stream",
     "text": [
      "C:\\Users\\ALFIYA/.cache\\torch\\hub\\ultralytics_yolov5_master\\models\\common.py:892: FutureWarning: `torch.cuda.amp.autocast(args...)` is deprecated. Please use `torch.amp.autocast('cuda', args...)` instead.\n",
      "  with amp.autocast(autocast):\n",
      "C:\\Users\\ALFIYA/.cache\\torch\\hub\\ultralytics_yolov5_master\\models\\common.py:892: FutureWarning: `torch.cuda.amp.autocast(args...)` is deprecated. Please use `torch.amp.autocast('cuda', args...)` instead.\n",
      "  with amp.autocast(autocast):\n"
     ]
    },
    {
     "name": "stdout",
     "output_type": "stream",
     "text": [
      "         xmin        ymin         xmax        ymax  confidence  class    name\n",
      "0  456.749451  329.885437   823.702942  680.452576    0.885621      0  person\n",
      "1  805.053406  407.105652  1277.434814  717.402527    0.849454      0  person\n",
      "2    2.226929   94.560577   210.628906  555.473755    0.838187      0  person\n",
      "3  612.985474  515.859802   843.544067  662.600159    0.827907     63  laptop\n",
      "4   19.574318  583.101440   271.203949  715.972656    0.778960      0  person\n",
      "5  211.216003  400.053009   456.463196  537.967285    0.692375     63  laptop\n",
      "6  879.841003  286.116821  1042.838013  369.076965    0.366528     13   bench\n",
      "7  506.740143  232.159454   672.572815  301.404755    0.307987     56   chair\n",
      "         xmin        ymin         xmax        ymax  confidence  class    name\n",
      "0  458.043152  329.337280   826.561829  677.719727    0.888241      0  person\n",
      "1    2.285919   94.272446   211.310654  555.480652    0.822710      0  person\n",
      "2  806.314209  407.387451  1276.980469  716.812500    0.822005      0  person\n",
      "3  612.208130  516.915955   844.577026  661.879089    0.819273     63  laptop\n",
      "4   19.327690  583.341370   272.023315  715.915100    0.773940      0  person\n",
      "5  202.000870  400.267303   460.195190  538.409912    0.700412     63  laptop\n",
      "6  880.672974  286.056946  1044.487061  369.067932    0.342381     13   bench\n",
      "7  506.674988  232.645660   672.893250  301.322235    0.304201     56   chair\n"
     ]
    },
    {
     "name": "stderr",
     "output_type": "stream",
     "text": [
      "C:\\Users\\ALFIYA/.cache\\torch\\hub\\ultralytics_yolov5_master\\models\\common.py:892: FutureWarning: `torch.cuda.amp.autocast(args...)` is deprecated. Please use `torch.amp.autocast('cuda', args...)` instead.\n",
      "  with amp.autocast(autocast):\n",
      "C:\\Users\\ALFIYA/.cache\\torch\\hub\\ultralytics_yolov5_master\\models\\common.py:892: FutureWarning: `torch.cuda.amp.autocast(args...)` is deprecated. Please use `torch.amp.autocast('cuda', args...)` instead.\n",
      "  with amp.autocast(autocast):\n"
     ]
    },
    {
     "name": "stdout",
     "output_type": "stream",
     "text": [
      "         xmin        ymin         xmax        ymax  confidence  class    name\n",
      "0  459.266235  329.364197   827.313232  675.049744    0.891909      0  person\n",
      "1  806.572144  407.707031  1277.407349  717.119873    0.836950      0  person\n",
      "2  611.976807  517.386902   843.964111  661.503845    0.817776     63  laptop\n",
      "3    2.389656   94.524231   211.820282  554.668640    0.815012      0  person\n",
      "4   20.138191  583.961548   272.140656  715.514526    0.772445      0  person\n",
      "5  200.532608  400.236847   460.803467  538.463257    0.706806     63  laptop\n",
      "6  880.944336  286.057098  1044.245239  369.365631    0.314667     13   bench\n",
      "7  507.090088  231.046875   672.834229  301.318604    0.286153     56   chair\n",
      "         xmin        ymin         xmax        ymax  confidence  class    name\n",
      "0  457.612732  329.071564   828.607239  673.523560    0.896322      0  person\n",
      "1  805.812622  407.634583  1277.579468  716.746155    0.844925      0  person\n",
      "2  613.109558  517.704834   844.420593  661.290527    0.817746     63  laptop\n",
      "3    2.303093   93.759216   211.817841  554.001465    0.813111      0  person\n",
      "4   15.491760  587.697510   275.729462  717.232422    0.762264      0  person\n",
      "5  202.361801  400.484741   460.557617  538.819763    0.707296     63  laptop\n",
      "6  882.070984  286.053741  1042.980835  368.609222    0.316519     13   bench\n"
     ]
    },
    {
     "name": "stderr",
     "output_type": "stream",
     "text": [
      "C:\\Users\\ALFIYA/.cache\\torch\\hub\\ultralytics_yolov5_master\\models\\common.py:892: FutureWarning: `torch.cuda.amp.autocast(args...)` is deprecated. Please use `torch.amp.autocast('cuda', args...)` instead.\n",
      "  with amp.autocast(autocast):\n",
      "C:\\Users\\ALFIYA/.cache\\torch\\hub\\ultralytics_yolov5_master\\models\\common.py:892: FutureWarning: `torch.cuda.amp.autocast(args...)` is deprecated. Please use `torch.amp.autocast('cuda', args...)` instead.\n",
      "  with amp.autocast(autocast):\n"
     ]
    },
    {
     "name": "stdout",
     "output_type": "stream",
     "text": [
      "         xmin        ymin         xmax        ymax  confidence  class    name\n",
      "0  456.563477  329.229431   830.569214  670.274963    0.890888      0  person\n",
      "1  806.347229  407.589050  1277.827148  716.606140    0.846904      0  person\n",
      "2    2.010384   94.064392   212.020264  552.942383    0.835649      0  person\n",
      "3  614.803406  518.114868   845.510559  661.218140    0.814005     63  laptop\n",
      "4   17.016891  586.944092   276.381836  717.202393    0.751305      0  person\n",
      "5  204.381622  400.190735   460.196259  539.163940    0.706348     63  laptop\n",
      "6  881.502625  286.447510  1042.446411  368.301453    0.348000     13   bench\n",
      "7  507.379181  230.663010   673.636353  301.188599    0.255363     56   chair\n",
      "         xmin        ymin         xmax        ymax  confidence  class    name\n",
      "0  455.872986  329.728760   831.602234  666.192627    0.881567      0  person\n",
      "1  807.373413  406.798035  1277.568726  716.947937    0.842750      0  person\n",
      "2    2.167412   94.670441   211.972534  553.248901    0.829373      0  person\n",
      "3  614.783875  518.565857   846.249207  660.724548    0.797406     63  laptop\n",
      "4   24.504372  585.563354   275.567047  715.451416    0.723850      0  person\n",
      "5  213.225800  400.030945   464.081757  541.793274    0.705525     63  laptop\n",
      "6  881.875916  286.125885  1042.754761  368.184662    0.311872     13   bench\n",
      "7  507.617126  230.801971   674.201111  301.115509    0.254483     56   chair\n"
     ]
    },
    {
     "name": "stderr",
     "output_type": "stream",
     "text": [
      "C:\\Users\\ALFIYA/.cache\\torch\\hub\\ultralytics_yolov5_master\\models\\common.py:892: FutureWarning: `torch.cuda.amp.autocast(args...)` is deprecated. Please use `torch.amp.autocast('cuda', args...)` instead.\n",
      "  with amp.autocast(autocast):\n",
      "C:\\Users\\ALFIYA/.cache\\torch\\hub\\ultralytics_yolov5_master\\models\\common.py:892: FutureWarning: `torch.cuda.amp.autocast(args...)` is deprecated. Please use `torch.amp.autocast('cuda', args...)` instead.\n",
      "  with amp.autocast(autocast):\n"
     ]
    },
    {
     "name": "stdout",
     "output_type": "stream",
     "text": [
      "         xmin        ymin         xmax        ymax  confidence  class    name\n",
      "0  455.240967  329.889374   831.125854  664.635620    0.862056      0  person\n",
      "1  807.865356  406.308350  1278.084595  717.291504    0.842064      0  person\n",
      "2    2.152954   94.752167   211.812531  553.544434    0.838584      0  person\n",
      "3  614.634216  518.585999   846.776550  660.818909    0.791482     63  laptop\n",
      "4   26.252625  585.837891   274.112396  715.445435    0.741270      0  person\n",
      "5  210.308441  399.809998   464.700409  541.832947    0.716619     63  laptop\n",
      "6  882.191528  286.579956  1043.253784  368.338745    0.334366     13   bench\n",
      "7  508.591675  231.753448   674.501953  301.182343    0.273565     56   chair\n",
      "         xmin        ymin         xmax        ymax  confidence  class    name\n",
      "0  461.827026  329.705841   832.602051  660.897461    0.861776      0  person\n",
      "1  807.680969  406.173737  1277.835327  717.126953    0.842865      0  person\n",
      "2    1.878288   95.328323   212.123322  552.479797    0.828320      0  person\n",
      "3  617.489014  518.441528   846.976685  660.596680    0.784773     63  laptop\n",
      "4   27.069923  584.928955   274.018646  715.258911    0.748364      0  person\n",
      "5  214.227966  399.662933   465.042786  541.904175    0.711683     63  laptop\n",
      "6  882.460999  286.595215  1043.875854  367.392822    0.372079     13   bench\n",
      "7  507.980804  231.732422   674.404663  300.935181    0.276501     56   chair\n"
     ]
    },
    {
     "name": "stderr",
     "output_type": "stream",
     "text": [
      "C:\\Users\\ALFIYA/.cache\\torch\\hub\\ultralytics_yolov5_master\\models\\common.py:892: FutureWarning: `torch.cuda.amp.autocast(args...)` is deprecated. Please use `torch.amp.autocast('cuda', args...)` instead.\n",
      "  with amp.autocast(autocast):\n",
      "C:\\Users\\ALFIYA/.cache\\torch\\hub\\ultralytics_yolov5_master\\models\\common.py:892: FutureWarning: `torch.cuda.amp.autocast(args...)` is deprecated. Please use `torch.amp.autocast('cuda', args...)` instead.\n",
      "  with amp.autocast(autocast):\n"
     ]
    },
    {
     "name": "stdout",
     "output_type": "stream",
     "text": [
      "         xmin        ymin         xmax        ymax  confidence  class    name\n",
      "0  458.917725  329.328186   834.183105  660.870056    0.863699      0  person\n",
      "1    1.872902   95.049606   212.832672  552.054810    0.843661      0  person\n",
      "2  808.532959  406.327576  1277.656494  717.106018    0.841404      0  person\n",
      "3  619.017761  518.739746   847.141907  660.045044    0.766368     63  laptop\n",
      "4   21.941727  587.348938   275.469727  716.994446    0.753061      0  person\n",
      "5  213.369095  399.908691   465.523743  541.341797    0.709875     63  laptop\n",
      "6  882.615112  286.334534  1044.411377  367.260620    0.395033     13   bench\n",
      "         xmin        ymin         xmax        ymax  confidence  class    name\n",
      "0  471.118713  332.434753   832.749695  659.981995    0.877258      0  person\n",
      "1    1.892555   95.000641   212.831085  552.135132    0.839450      0  person\n",
      "2  808.724182  406.146667  1277.643311  716.959167    0.837987      0  person\n",
      "3   21.103996  587.627441   274.854187  717.170898    0.756402      0  person\n",
      "4  619.285339  518.240295   847.380676  659.812439    0.734490     63  laptop\n",
      "5  217.094513  399.881226   466.301422  541.144104    0.705665     63  laptop\n",
      "6  881.977051  286.379700  1044.794434  367.262878    0.377588     13   bench\n",
      "7  507.262665  230.964706   674.297607  300.830200    0.253776     56   chair\n"
     ]
    },
    {
     "name": "stderr",
     "output_type": "stream",
     "text": [
      "C:\\Users\\ALFIYA/.cache\\torch\\hub\\ultralytics_yolov5_master\\models\\common.py:892: FutureWarning: `torch.cuda.amp.autocast(args...)` is deprecated. Please use `torch.amp.autocast('cuda', args...)` instead.\n",
      "  with amp.autocast(autocast):\n",
      "C:\\Users\\ALFIYA/.cache\\torch\\hub\\ultralytics_yolov5_master\\models\\common.py:892: FutureWarning: `torch.cuda.amp.autocast(args...)` is deprecated. Please use `torch.amp.autocast('cuda', args...)` instead.\n",
      "  with amp.autocast(autocast):\n"
     ]
    },
    {
     "name": "stdout",
     "output_type": "stream",
     "text": [
      "         xmin        ymin         xmax        ymax  confidence  class    name\n",
      "0  476.647705  332.210754   832.041138  660.904114    0.887542      0  person\n",
      "1    1.935394   94.999237   212.814102  551.678955    0.838396      0  person\n",
      "2  808.505920  405.829315  1277.851562  716.657471    0.833765      0  person\n",
      "3   20.359711  588.054688   276.426392  717.335938    0.761614      0  person\n",
      "4  622.617615  518.047546   847.212952  660.033264    0.740386     63  laptop\n",
      "5  211.567581  400.068726   468.415955  541.842285    0.714073     63  laptop\n",
      "6  883.077759  286.571930  1044.135010  366.669464    0.385675     13   bench\n",
      "         xmin        ymin         xmax        ymax  confidence  class    name\n",
      "0  473.686707  332.881104   831.954163  656.987061    0.881418      0  person\n",
      "1    2.129173   94.201721   212.488373  552.489136    0.841646      0  person\n",
      "2  808.707214  405.518921  1277.793457  716.657959    0.833094      0  person\n",
      "3   24.748291  586.860596   278.484253  715.854004    0.760677      0  person\n",
      "4  624.498840  518.027588   847.382141  660.380981    0.751718     63  laptop\n",
      "5  215.998672  399.476898   470.430603  541.484253    0.698572     63  laptop\n",
      "6  882.740417  286.454956  1044.539307  367.088867    0.366339     13   bench\n"
     ]
    },
    {
     "name": "stderr",
     "output_type": "stream",
     "text": [
      "C:\\Users\\ALFIYA/.cache\\torch\\hub\\ultralytics_yolov5_master\\models\\common.py:892: FutureWarning: `torch.cuda.amp.autocast(args...)` is deprecated. Please use `torch.amp.autocast('cuda', args...)` instead.\n",
      "  with amp.autocast(autocast):\n",
      "C:\\Users\\ALFIYA/.cache\\torch\\hub\\ultralytics_yolov5_master\\models\\common.py:892: FutureWarning: `torch.cuda.amp.autocast(args...)` is deprecated. Please use `torch.amp.autocast('cuda', args...)` instead.\n",
      "  with amp.autocast(autocast):\n"
     ]
    },
    {
     "name": "stdout",
     "output_type": "stream",
     "text": [
      "         xmin        ymin         xmax        ymax  confidence  class    name\n",
      "0  473.783722  332.575317   831.546997  655.277954    0.889260      0  person\n",
      "1    2.218330   94.026108   212.233734  551.797241    0.842933      0  person\n",
      "2  808.733582  405.329620  1277.939941  716.572021    0.828163      0  person\n",
      "3  625.785583  517.899414   847.472839  660.631592    0.759119     63  laptop\n",
      "4   23.483940  587.673584   278.326935  716.256592    0.752868      0  person\n",
      "5  228.567047  399.547913   467.868439  541.125732    0.683927     63  laptop\n",
      "6  882.894714  286.279510  1044.072876  367.138885    0.355093     13   bench\n",
      "         xmin        ymin         xmax        ymax  confidence  class    name\n",
      "0  467.200104  333.083923   832.031860  653.358704    0.871587      0  person\n",
      "1    2.362831   93.916489   211.940582  551.661743    0.849624      0  person\n",
      "2  807.513916  405.040161  1277.990479  716.627808    0.832008      0  person\n",
      "3   23.614075  587.950073   277.249725  716.648560    0.747811      0  person\n",
      "4  624.851624  516.958252   847.422302  660.256104    0.737898     63  laptop\n",
      "5  232.887833  399.382111   464.918274  540.818237    0.691766     63  laptop\n",
      "6  881.887451  286.304718  1043.606689  366.811920    0.342651     13   bench\n"
     ]
    },
    {
     "name": "stderr",
     "output_type": "stream",
     "text": [
      "C:\\Users\\ALFIYA/.cache\\torch\\hub\\ultralytics_yolov5_master\\models\\common.py:892: FutureWarning: `torch.cuda.amp.autocast(args...)` is deprecated. Please use `torch.amp.autocast('cuda', args...)` instead.\n",
      "  with amp.autocast(autocast):\n",
      "C:\\Users\\ALFIYA/.cache\\torch\\hub\\ultralytics_yolov5_master\\models\\common.py:892: FutureWarning: `torch.cuda.amp.autocast(args...)` is deprecated. Please use `torch.amp.autocast('cuda', args...)` instead.\n",
      "  with amp.autocast(autocast):\n"
     ]
    },
    {
     "name": "stdout",
     "output_type": "stream",
     "text": [
      "         xmin        ymin         xmax        ymax  confidence  class    name\n",
      "0    2.366806   93.765762   211.441116  551.273743    0.845764      0  person\n",
      "1  807.891907  404.883850  1277.811035  716.401062    0.833839      0  person\n",
      "2  456.663696  333.118774   830.231689  655.054321    0.828321      0  person\n",
      "3   22.700813  589.916504   275.489960  716.597046    0.756499      0  person\n",
      "4  622.240662  516.890015   845.969666  660.552612    0.752833     63  laptop\n",
      "5  214.213699  398.994629   463.784424  540.374573    0.701595     63  laptop\n",
      "6  880.873901  285.867920  1043.676758  367.365906    0.354746     13   bench\n",
      "         xmin        ymin         xmax        ymax  confidence  class    name\n",
      "0    2.207451   93.562790   210.973083  552.124023    0.855284      0  person\n",
      "1  807.098022  405.188782  1277.740356  716.291199    0.835541      0  person\n",
      "2  439.813049  330.698914   832.071838  656.089783    0.804397      0  person\n",
      "3  621.695923  516.830933   845.533936  660.717529    0.764068     63  laptop\n",
      "4   19.855942  591.132935   273.456604  716.593750    0.761744      0  person\n",
      "5  217.075562  399.199615   463.348389  540.099121    0.709504     63  laptop\n",
      "6  880.673340  285.670471  1043.238525  366.898743    0.360094     13   bench\n"
     ]
    },
    {
     "name": "stderr",
     "output_type": "stream",
     "text": [
      "C:\\Users\\ALFIYA/.cache\\torch\\hub\\ultralytics_yolov5_master\\models\\common.py:892: FutureWarning: `torch.cuda.amp.autocast(args...)` is deprecated. Please use `torch.amp.autocast('cuda', args...)` instead.\n",
      "  with amp.autocast(autocast):\n",
      "C:\\Users\\ALFIYA/.cache\\torch\\hub\\ultralytics_yolov5_master\\models\\common.py:892: FutureWarning: `torch.cuda.amp.autocast(args...)` is deprecated. Please use `torch.amp.autocast('cuda', args...)` instead.\n",
      "  with amp.autocast(autocast):\n"
     ]
    },
    {
     "name": "stdout",
     "output_type": "stream",
     "text": [
      "         xmin        ymin         xmax        ymax  confidence  class    name\n",
      "0    2.108818   93.107315   210.333862  552.286621    0.857217      0  person\n",
      "1  805.382935  405.433899  1277.669556  716.361145    0.848898      0  person\n",
      "2  451.866180  329.596191   828.199219  655.247681    0.797465      0  person\n",
      "3   12.092560  593.207886   275.318695  717.982178    0.758221      0  person\n",
      "4  623.169861  516.663696   845.967834  660.384399    0.753695     63  laptop\n",
      "5  223.309341  398.759247   462.532410  539.452515    0.700655     63  laptop\n",
      "6  879.915527  285.666107  1043.445190  366.915314    0.392137     13   bench\n",
      "         xmin        ymin         xmax        ymax  confidence  class    name\n",
      "0    1.848557   93.080048   209.385529  551.062256    0.869532      0  person\n",
      "1  805.703796  405.451599  1277.936646  716.453674    0.848142      0  person\n",
      "2  455.388611  333.597717   826.805725  654.818176    0.814018      0  person\n",
      "3   11.769669  593.115601   273.508728  718.100098    0.767322      0  person\n",
      "4  205.704193  397.685425   454.001495  537.166138    0.703924     63  laptop\n",
      "5  627.353760  515.203186   846.189941  660.104919    0.682408     63  laptop\n",
      "6  881.097778  285.114197  1041.653442  367.511536    0.339042     13   bench\n",
      "7  423.314697  523.404053   833.113159  707.483032    0.336044     63  laptop\n"
     ]
    },
    {
     "name": "stderr",
     "output_type": "stream",
     "text": [
      "C:\\Users\\ALFIYA/.cache\\torch\\hub\\ultralytics_yolov5_master\\models\\common.py:892: FutureWarning: `torch.cuda.amp.autocast(args...)` is deprecated. Please use `torch.amp.autocast('cuda', args...)` instead.\n",
      "  with amp.autocast(autocast):\n",
      "C:\\Users\\ALFIYA/.cache\\torch\\hub\\ultralytics_yolov5_master\\models\\common.py:892: FutureWarning: `torch.cuda.amp.autocast(args...)` is deprecated. Please use `torch.amp.autocast('cuda', args...)` instead.\n",
      "  with amp.autocast(autocast):\n"
     ]
    },
    {
     "name": "stdout",
     "output_type": "stream",
     "text": [
      "         xmin        ymin         xmax        ymax  confidence  class    name\n",
      "0    1.790863   93.701828   208.614655  550.309082    0.864288      0  person\n",
      "1  806.941040  404.933563  1278.059937  716.773438    0.845220      0  person\n",
      "2  431.172607  332.029602   824.124512  658.437683    0.816330      0  person\n",
      "3   16.559593  591.875671   268.138123  716.736511    0.774470      0  person\n",
      "4  206.887497  396.604462   453.399963  537.664490    0.705055     63  laptop\n",
      "5  625.459534  513.760498   845.446594  659.628784    0.649947     63  laptop\n",
      "6  422.992371  518.664429   832.643372  709.042969    0.405806     63  laptop\n",
      "7  880.301514  285.142700  1041.388794  367.326843    0.321972     13   bench\n",
      "         xmin        ymin         xmax        ymax  confidence  class    name\n",
      "0    1.673050   93.841766   206.935593  548.812744    0.862864      0  person\n",
      "1  806.779419  404.988770  1277.645630  717.018311    0.843543      0  person\n",
      "2  425.810974  331.928528   823.921448  658.124695    0.819823      0  person\n",
      "3   15.194099  592.478394   266.189026  717.135620    0.789230      0  person\n",
      "4  212.566223  396.538269   451.950989  537.905273    0.703870     63  laptop\n",
      "5  622.204041  513.182739   844.295837  659.501099    0.643713     63  laptop\n",
      "6  422.191162  518.303284   832.780762  709.939148    0.406309     63  laptop\n",
      "7  880.056641  285.396759  1041.606323  367.027679    0.318950     13   bench\n"
     ]
    },
    {
     "name": "stderr",
     "output_type": "stream",
     "text": [
      "C:\\Users\\ALFIYA/.cache\\torch\\hub\\ultralytics_yolov5_master\\models\\common.py:892: FutureWarning: `torch.cuda.amp.autocast(args...)` is deprecated. Please use `torch.amp.autocast('cuda', args...)` instead.\n",
      "  with amp.autocast(autocast):\n",
      "C:\\Users\\ALFIYA/.cache\\torch\\hub\\ultralytics_yolov5_master\\models\\common.py:892: FutureWarning: `torch.cuda.amp.autocast(args...)` is deprecated. Please use `torch.amp.autocast('cuda', args...)` instead.\n",
      "  with amp.autocast(autocast):\n"
     ]
    },
    {
     "name": "stdout",
     "output_type": "stream",
     "text": [
      "         xmin        ymin         xmax        ymax  confidence  class    name\n",
      "0    1.681435   94.121094   206.019470  548.864441    0.857775      0  person\n",
      "1  807.208679  404.943176  1277.878174  717.738464    0.844521      0  person\n",
      "2  418.779510  331.883362   824.976807  660.058533    0.830041      0  person\n",
      "3   14.641006  592.903870   266.867188  717.000183    0.791364      0  person\n",
      "4  224.015320  396.035645   450.353943  537.378845    0.698971     63  laptop\n",
      "5  623.256104  513.231384   843.286743  659.209290    0.670786     63  laptop\n",
      "6  419.868378  518.429565   831.796143  710.507202    0.377623     63  laptop\n",
      "7  880.888550  285.474091  1041.637451  367.099213    0.296602     13   bench\n",
      "         xmin        ymin         xmax        ymax  confidence  class    name\n",
      "0    1.791542   93.998367   205.380005  548.458923    0.862160      0  person\n",
      "1  806.253235  404.738342  1278.052979  717.901428    0.847452      0  person\n",
      "2  419.121094  332.260254   824.683838  661.106812    0.841845      0  person\n",
      "3    8.342575  594.173584   269.886475  718.428467    0.780349      0  person\n",
      "4  217.007416  395.782410   449.678253  537.254761    0.710662     63  laptop\n",
      "5  618.469543  513.057312   842.137268  659.842468    0.678493     63  laptop\n",
      "6  417.577301  519.184448   831.628540  711.195068    0.381520     63  laptop\n",
      "7  880.805481  285.860718  1041.291260  367.013916    0.283885     13   bench\n"
     ]
    },
    {
     "name": "stderr",
     "output_type": "stream",
     "text": [
      "C:\\Users\\ALFIYA/.cache\\torch\\hub\\ultralytics_yolov5_master\\models\\common.py:892: FutureWarning: `torch.cuda.amp.autocast(args...)` is deprecated. Please use `torch.amp.autocast('cuda', args...)` instead.\n",
      "  with amp.autocast(autocast):\n",
      "C:\\Users\\ALFIYA/.cache\\torch\\hub\\ultralytics_yolov5_master\\models\\common.py:892: FutureWarning: `torch.cuda.amp.autocast(args...)` is deprecated. Please use `torch.amp.autocast('cuda', args...)` instead.\n",
      "  with amp.autocast(autocast):\n"
     ]
    },
    {
     "name": "stdout",
     "output_type": "stream",
     "text": [
      "         xmin        ymin         xmax        ymax  confidence  class    name\n",
      "0    1.800606   94.463364   204.754517  545.535645    0.874229      0  person\n",
      "1  805.688843  404.780914  1278.263794  717.907959    0.861301      0  person\n",
      "2  430.953400  332.784149   819.954224  658.279053    0.840325      0  person\n",
      "3    7.578720  593.520691   268.324890  718.480286    0.789896      0  person\n",
      "4  616.932312  513.516113   841.260681  660.934204    0.732884     63  laptop\n",
      "5  266.606384  400.182068   442.923828  532.717224    0.708654     63  laptop\n",
      "6  878.316284  286.299133  1041.397583  366.789917    0.327376     13   bench\n",
      "7  416.740204  522.971252   829.509277  710.867859    0.301844     63  laptop\n",
      "         xmin        ymin         xmax        ymax  confidence  class    name\n",
      "0    1.751572   94.244171   204.760223  546.205811    0.877053      0  person\n",
      "1  805.398499  405.020935  1278.420410  718.239807    0.858024      0  person\n",
      "2  425.637573  333.419800   827.364502  652.386597    0.850087      0  person\n",
      "3    7.148544  593.289490   267.399292  718.471130    0.785961      0  person\n",
      "4  266.891479  400.301880   443.692261  533.552002    0.704319     63  laptop\n",
      "5  621.086853  513.584290   841.615784  660.546692    0.692801     63  laptop\n",
      "6  412.795441  518.740906   830.283691  711.463440    0.352373     63  laptop\n",
      "7  878.395752  285.632446  1041.338867  367.008484    0.324818     13   bench\n"
     ]
    },
    {
     "name": "stderr",
     "output_type": "stream",
     "text": [
      "C:\\Users\\ALFIYA/.cache\\torch\\hub\\ultralytics_yolov5_master\\models\\common.py:892: FutureWarning: `torch.cuda.amp.autocast(args...)` is deprecated. Please use `torch.amp.autocast('cuda', args...)` instead.\n",
      "  with amp.autocast(autocast):\n",
      "C:\\Users\\ALFIYA/.cache\\torch\\hub\\ultralytics_yolov5_master\\models\\common.py:892: FutureWarning: `torch.cuda.amp.autocast(args...)` is deprecated. Please use `torch.amp.autocast('cuda', args...)` instead.\n",
      "  with amp.autocast(autocast):\n"
     ]
    },
    {
     "name": "stdout",
     "output_type": "stream",
     "text": [
      "         xmin        ymin         xmax        ymax  confidence  class    name\n",
      "0    1.572655   94.333221   204.239136  547.649658    0.874879      0  person\n",
      "1  805.358704  404.912659  1278.146484  718.969055    0.852999      0  person\n",
      "2  423.271423  333.323059   827.429016  652.887878    0.847311      0  person\n",
      "3    7.474716  592.936157   267.157654  718.229980    0.782666      0  person\n",
      "4  265.531067  397.459778   449.694824  538.630859    0.703915     63  laptop\n",
      "5  620.380371  513.308960   841.423462  660.433838    0.642096     63  laptop\n",
      "6  415.545654  517.295532   829.716064  711.615601    0.424516     63  laptop\n",
      "7  878.946228  285.894196  1040.396606  366.563324    0.280055     13   bench\n",
      "         xmin        ymin         xmax        ymax  confidence  class    name\n",
      "0    1.392525   94.097900   203.788879  548.790771    0.865341      0  person\n",
      "1  423.976013  333.405029   827.400085  653.943970    0.852962      0  person\n",
      "2  804.986206  403.989319  1278.454468  719.863464    0.839250      0  person\n",
      "3    7.732559  593.207031   267.096069  718.125854    0.770357      0  person\n",
      "4  253.009644  394.520386   447.370667  537.675293    0.686787     63  laptop\n",
      "5  617.032166  511.805359   840.736755  660.605896    0.633491     63  laptop\n",
      "6  417.396851  520.040649   828.919067  710.536133    0.422037     63  laptop\n",
      "7  879.017944  286.057007  1039.169922  366.186768    0.259580     13   bench\n"
     ]
    },
    {
     "name": "stderr",
     "output_type": "stream",
     "text": [
      "C:\\Users\\ALFIYA/.cache\\torch\\hub\\ultralytics_yolov5_master\\models\\common.py:892: FutureWarning: `torch.cuda.amp.autocast(args...)` is deprecated. Please use `torch.amp.autocast('cuda', args...)` instead.\n",
      "  with amp.autocast(autocast):\n",
      "C:\\Users\\ALFIYA/.cache\\torch\\hub\\ultralytics_yolov5_master\\models\\common.py:892: FutureWarning: `torch.cuda.amp.autocast(args...)` is deprecated. Please use `torch.amp.autocast('cuda', args...)` instead.\n",
      "  with amp.autocast(autocast):\n"
     ]
    },
    {
     "name": "stdout",
     "output_type": "stream",
     "text": [
      "         xmin        ymin         xmax        ymax  confidence  class    name\n",
      "0    1.326736   94.081909   203.368179  548.253113    0.872229      0  person\n",
      "1  418.181702  332.593506   827.960144  655.217041    0.868727      0  person\n",
      "2  803.174377  404.132629  1278.106323  719.715027    0.834279      0  person\n",
      "3   12.634918  592.785889   260.371368  716.744263    0.780731      0  person\n",
      "4  263.922424  397.267273   450.050110  538.939209    0.687667     63  laptop\n",
      "5  618.762573  511.544250   840.754517  660.623718    0.678624     63  laptop\n",
      "6  410.430054  520.847412   831.020630  711.571777    0.333216     63  laptop\n",
      "7  877.434814  288.335083  1041.210205  367.263062    0.258067     13   bench\n",
      "         xmin        ymin         xmax        ymax  confidence  class    name\n",
      "0    1.288536   93.929184   203.077118  548.476807    0.872885      0  person\n",
      "1  422.678040  332.354919   828.221863  656.359924    0.857731      0  person\n",
      "2  801.752686  403.556763  1278.609863  719.309326    0.833353      0  person\n",
      "3   13.373207  593.194092   259.269135  716.639771    0.780911      0  person\n",
      "4  618.886536  511.067871   840.413513  660.040039    0.676642     63  laptop\n",
      "5  232.084854  394.199402   448.594727  538.762695    0.676237     63  laptop\n",
      "6  875.734253  288.304504  1040.716064  367.076721    0.262341     13   bench\n",
      "7  406.588806  521.002502   832.051697  712.383484    0.251490     63  laptop\n"
     ]
    },
    {
     "name": "stderr",
     "output_type": "stream",
     "text": [
      "C:\\Users\\ALFIYA/.cache\\torch\\hub\\ultralytics_yolov5_master\\models\\common.py:892: FutureWarning: `torch.cuda.amp.autocast(args...)` is deprecated. Please use `torch.amp.autocast('cuda', args...)` instead.\n",
      "  with amp.autocast(autocast):\n",
      "C:\\Users\\ALFIYA/.cache\\torch\\hub\\ultralytics_yolov5_master\\models\\common.py:892: FutureWarning: `torch.cuda.amp.autocast(args...)` is deprecated. Please use `torch.amp.autocast('cuda', args...)` instead.\n",
      "  with amp.autocast(autocast):\n"
     ]
    },
    {
     "name": "stdout",
     "output_type": "stream",
     "text": [
      "         xmin        ymin         xmax        ymax  confidence  class    name\n",
      "0    1.180771   93.471283   202.853943  548.816895    0.879202      0  person\n",
      "1  422.247803  331.952881   826.089722  658.254150    0.863664      0  person\n",
      "2  800.526794  403.011902  1279.610474  718.818420    0.836157      0  person\n",
      "3    7.738159  593.358704   264.833740  718.069397    0.782321      0  person\n",
      "4  616.254456  511.467957   840.084778  659.497253    0.676233     63  laptop\n",
      "5  228.957703  393.963165   451.275085  538.896240    0.674447     63  laptop\n",
      "6  409.052063  518.626221   831.929749  713.384277    0.295301     63  laptop\n",
      "7  876.795776  286.479553  1037.631226  366.296509    0.285487     13   bench\n",
      "         xmin        ymin         xmax        ymax  confidence  class    name\n",
      "0    0.946541   93.636719   202.097107  547.684998    0.875043      0  person\n",
      "1  427.071167  332.346313   824.810791  658.921997    0.869451      0  person\n",
      "2  798.884033  403.005066  1279.840088  719.104675    0.829233      0  person\n",
      "3    8.215683  593.266907   264.498230  717.785461    0.794992      0  person\n",
      "4  613.915161  512.259338   839.152466  659.593445    0.705378     63  laptop\n",
      "5  233.286682  393.976990   450.495544  538.767761    0.674647     63  laptop\n",
      "6  414.410431  521.275269   829.460571  712.777710    0.272725     63  laptop\n",
      "7  877.779297  286.522827  1038.503418  366.258484    0.251621     13   bench\n"
     ]
    },
    {
     "name": "stderr",
     "output_type": "stream",
     "text": [
      "C:\\Users\\ALFIYA/.cache\\torch\\hub\\ultralytics_yolov5_master\\models\\common.py:892: FutureWarning: `torch.cuda.amp.autocast(args...)` is deprecated. Please use `torch.amp.autocast('cuda', args...)` instead.\n",
      "  with amp.autocast(autocast):\n",
      "C:\\Users\\ALFIYA/.cache\\torch\\hub\\ultralytics_yolov5_master\\models\\common.py:892: FutureWarning: `torch.cuda.amp.autocast(args...)` is deprecated. Please use `torch.amp.autocast('cuda', args...)` instead.\n",
      "  with amp.autocast(autocast):\n"
     ]
    },
    {
     "name": "stdout",
     "output_type": "stream",
     "text": [
      "         xmin        ymin         xmax        ymax  confidence  class    name\n",
      "0    0.960373   93.394501   201.568939  547.016846    0.878053      0  person\n",
      "1  430.736877  332.869080   823.926697  658.721008    0.865403      0  person\n",
      "2  798.226379  402.764740  1279.692505  718.872559    0.820247      0  person\n",
      "3    8.915344  593.533447   263.857910  718.153931    0.789717      0  person\n",
      "4  613.956970  512.090698   838.783020  659.534058    0.712000     63  laptop\n",
      "5  232.897095  393.561584   450.990051  539.565063    0.669999     63  laptop\n",
      "6  417.625244  521.024658   828.257080  712.718750    0.274840     63  laptop\n",
      "7  878.592651  286.313110  1037.548706  366.222900    0.274452     13   bench\n",
      "         xmin        ymin         xmax        ymax  confidence  class    name\n",
      "0    0.936440   93.428467   201.560730  545.717896    0.874896      0  person\n",
      "1  433.326660  333.206604   823.445557  659.329773    0.866253      0  person\n",
      "2  798.418823  402.209717  1279.802368  718.629150    0.813682      0  person\n",
      "3    8.615677  593.253052   263.355835  718.105713    0.787601      0  person\n",
      "4  615.519348  512.471985   839.471619  659.116516    0.733337     63  laptop\n",
      "5  207.372757  393.415588   451.876648  539.609375    0.687662     63  laptop\n",
      "6  878.206543  286.551697  1036.887207  365.889832    0.307110     13   bench\n"
     ]
    },
    {
     "name": "stderr",
     "output_type": "stream",
     "text": [
      "C:\\Users\\ALFIYA/.cache\\torch\\hub\\ultralytics_yolov5_master\\models\\common.py:892: FutureWarning: `torch.cuda.amp.autocast(args...)` is deprecated. Please use `torch.amp.autocast('cuda', args...)` instead.\n",
      "  with amp.autocast(autocast):\n",
      "C:\\Users\\ALFIYA/.cache\\torch\\hub\\ultralytics_yolov5_master\\models\\common.py:892: FutureWarning: `torch.cuda.amp.autocast(args...)` is deprecated. Please use `torch.amp.autocast('cuda', args...)` instead.\n",
      "  with amp.autocast(autocast):\n"
     ]
    },
    {
     "name": "stdout",
     "output_type": "stream",
     "text": [
      "         xmin        ymin         xmax        ymax  confidence  class    name\n",
      "0    1.070602   93.402939   201.725586  545.563538    0.875409      0  person\n",
      "1  434.635254  333.518341   823.693359  659.196289    0.864136      0  person\n",
      "2  797.488647  402.132751  1279.726440  718.544006    0.816697      0  person\n",
      "3    8.431236  593.090332   264.094727  717.850708    0.787818      0  person\n",
      "4  613.576721  512.546509   839.025330  659.093750    0.756283     63  laptop\n",
      "5  210.581635  393.491089   450.570221  539.183472    0.690402     63  laptop\n",
      "6  878.053528  286.405487  1037.430054  366.248688    0.306370     13   bench\n",
      "         xmin        ymin         xmax        ymax  confidence  class    name\n",
      "0    1.046364   93.685211   201.696808  545.748779    0.872548      0  person\n",
      "1  436.248108  333.803375   822.164734  658.488770    0.863564      0  person\n",
      "2  797.253906  401.315277  1279.533691  719.095703    0.817410      0  person\n",
      "3    8.491867  592.991150   263.886292  718.159241    0.791561      0  person\n",
      "4  612.629700  512.346741   838.197449  659.486145    0.783853     63  laptop\n",
      "5  227.409576  393.745728   450.218597  539.763184    0.680339     63  laptop\n",
      "6  878.051941  286.362030  1037.325317  365.949982    0.296900     13   bench\n"
     ]
    },
    {
     "name": "stderr",
     "output_type": "stream",
     "text": [
      "C:\\Users\\ALFIYA/.cache\\torch\\hub\\ultralytics_yolov5_master\\models\\common.py:892: FutureWarning: `torch.cuda.amp.autocast(args...)` is deprecated. Please use `torch.amp.autocast('cuda', args...)` instead.\n",
      "  with amp.autocast(autocast):\n",
      "C:\\Users\\ALFIYA/.cache\\torch\\hub\\ultralytics_yolov5_master\\models\\common.py:892: FutureWarning: `torch.cuda.amp.autocast(args...)` is deprecated. Please use `torch.amp.autocast('cuda', args...)` instead.\n",
      "  with amp.autocast(autocast):\n"
     ]
    },
    {
     "name": "stdout",
     "output_type": "stream",
     "text": [
      "         xmin        ymin         xmax        ymax  confidence  class    name\n",
      "0    1.146873   93.781433   201.904175  546.356201    0.873848      0  person\n",
      "1  437.567810  333.686981   821.325256  659.562256    0.864703      0  person\n",
      "2  796.970703  401.240417  1279.528320  718.955139    0.815000      0  person\n",
      "3    8.175117  592.684631   263.227356  718.030579    0.795832      0  person\n",
      "4  612.253845  512.693481   837.903503  659.598145    0.788863     63  laptop\n",
      "5  236.345200  393.949188   450.764282  539.820862    0.679832     63  laptop\n",
      "6  877.986877  286.279022  1037.164062  365.928558    0.322183     13   bench\n",
      "         xmin        ymin         xmax        ymax  confidence  class    name\n",
      "0    1.109131   93.963394   201.768661  546.096497    0.873922      0  person\n",
      "1  437.439728  333.376404   821.166748  659.040588    0.864884      0  person\n",
      "2  796.682007  400.787292  1279.781372  718.752747    0.822851      0  person\n",
      "3  611.552979  512.800049   837.020874  659.703003    0.803547     63  laptop\n",
      "4    7.880562  592.453979   262.557526  718.050781    0.798486      0  person\n",
      "5  227.421356  394.105591   450.262848  539.928284    0.681193     63  laptop\n",
      "6  877.047791  286.491821  1037.108765  365.978271    0.328254     13   bench\n"
     ]
    },
    {
     "name": "stderr",
     "output_type": "stream",
     "text": [
      "C:\\Users\\ALFIYA/.cache\\torch\\hub\\ultralytics_yolov5_master\\models\\common.py:892: FutureWarning: `torch.cuda.amp.autocast(args...)` is deprecated. Please use `torch.amp.autocast('cuda', args...)` instead.\n",
      "  with amp.autocast(autocast):\n",
      "C:\\Users\\ALFIYA/.cache\\torch\\hub\\ultralytics_yolov5_master\\models\\common.py:892: FutureWarning: `torch.cuda.amp.autocast(args...)` is deprecated. Please use `torch.amp.autocast('cuda', args...)` instead.\n",
      "  with amp.autocast(autocast):\n"
     ]
    },
    {
     "name": "stdout",
     "output_type": "stream",
     "text": [
      "         xmin        ymin         xmax        ymax  confidence  class    name\n",
      "0    0.960205   94.076691   201.763123  546.660278    0.878137      0  person\n",
      "1  437.088043  333.121643   821.526611  659.270447    0.862884      0  person\n",
      "2  796.720215  401.300720  1279.810303  718.962219    0.813961      0  person\n",
      "3  610.134155  513.098328   836.885864  659.660706    0.806131     63  laptop\n",
      "4    7.143250  592.538208   262.922882  718.100098    0.800948      0  person\n",
      "5  206.448181  394.203186   451.654968  539.912292    0.690852     63  laptop\n",
      "6  875.605530  287.337067  1037.159912  365.765106    0.322606     13   bench\n",
      "         xmin        ymin         xmax        ymax  confidence  class    name\n",
      "0    0.772842   93.643143   200.992691  546.027954    0.875291      0  person\n",
      "1  436.169556  333.147339   821.799683  659.498413    0.864862      0  person\n",
      "2  796.745972  401.633362  1279.971558  718.781189    0.820402      0  person\n",
      "3  609.058472  512.872803   836.518677  659.744141    0.802505     63  laptop\n",
      "4    7.121971  592.749329   262.940582  718.238220    0.794086      0  person\n",
      "5  202.248779  394.279663   450.208130  539.936523    0.699669     63  laptop\n",
      "6  872.635437  287.334167  1036.882568  365.460999    0.356698     13   bench\n"
     ]
    },
    {
     "name": "stderr",
     "output_type": "stream",
     "text": [
      "C:\\Users\\ALFIYA/.cache\\torch\\hub\\ultralytics_yolov5_master\\models\\common.py:892: FutureWarning: `torch.cuda.amp.autocast(args...)` is deprecated. Please use `torch.amp.autocast('cuda', args...)` instead.\n",
      "  with amp.autocast(autocast):\n",
      "C:\\Users\\ALFIYA/.cache\\torch\\hub\\ultralytics_yolov5_master\\models\\common.py:892: FutureWarning: `torch.cuda.amp.autocast(args...)` is deprecated. Please use `torch.amp.autocast('cuda', args...)` instead.\n",
      "  with amp.autocast(autocast):\n"
     ]
    },
    {
     "name": "stdout",
     "output_type": "stream",
     "text": [
      "         xmin        ymin         xmax        ymax  confidence  class    name\n",
      "0    0.643456   93.841675   200.616486  546.458008    0.874318      0  person\n",
      "1  435.207764  332.946350   823.019165  658.185974    0.864653      0  person\n",
      "2  796.761230  402.576935  1279.896729  718.485474    0.827936      0  person\n",
      "3  610.322327  513.658630   836.314026  659.565735    0.805909     63  laptop\n",
      "4    6.275803  593.013489   262.348145  718.219177    0.792543      0  person\n",
      "5  201.019287  394.088684   448.662720  539.461609    0.695604     63  laptop\n",
      "6  871.958313  287.744415  1037.105957  366.624054    0.357706     13   bench\n",
      "         xmin        ymin         xmax        ymax  confidence  class    name\n",
      "0    0.660767   93.944687   199.984146  546.602966    0.880225      0  person\n",
      "1  433.243347  332.834320   826.039978  658.201172    0.858699      0  person\n",
      "2  796.205200  402.944885  1279.918335  718.589661    0.831537      0  person\n",
      "3    5.745361  593.323792   262.031677  717.936951    0.802648      0  person\n",
      "4  607.526489  513.327515   836.448242  658.885254    0.786550     63  laptop\n",
      "5  198.022247  394.016968   447.599945  538.785217    0.696345     63  laptop\n",
      "6  869.663330  288.143829  1036.286133  366.927765    0.379141     13   bench\n"
     ]
    },
    {
     "name": "stderr",
     "output_type": "stream",
     "text": [
      "C:\\Users\\ALFIYA/.cache\\torch\\hub\\ultralytics_yolov5_master\\models\\common.py:892: FutureWarning: `torch.cuda.amp.autocast(args...)` is deprecated. Please use `torch.amp.autocast('cuda', args...)` instead.\n",
      "  with amp.autocast(autocast):\n",
      "C:\\Users\\ALFIYA/.cache\\torch\\hub\\ultralytics_yolov5_master\\models\\common.py:892: FutureWarning: `torch.cuda.amp.autocast(args...)` is deprecated. Please use `torch.amp.autocast('cuda', args...)` instead.\n",
      "  with amp.autocast(autocast):\n"
     ]
    },
    {
     "name": "stdout",
     "output_type": "stream",
     "text": [
      "         xmin        ymin         xmax        ymax  confidence  class    name\n",
      "0    0.594528   94.601898   199.903091  546.107910    0.876742      0  person\n",
      "1  433.528015  333.136353   825.650940  658.724243    0.858407      0  person\n",
      "2  793.735962  403.480255  1280.000000  718.639893    0.819914      0  person\n",
      "3    5.593719  592.968933   261.071808  717.660339    0.795952      0  person\n",
      "4  605.690369  512.919800   836.051331  658.541992    0.773475     63  laptop\n",
      "5  188.513260  394.169037   447.880432  538.482361    0.725302     63  laptop\n",
      "6  869.292419  288.256592  1035.363281  366.976746    0.352631     13   bench\n",
      "         xmin        ymin         xmax        ymax  confidence  class    name\n",
      "0    0.669838   95.522888   199.700897  545.201782    0.879565      0  person\n",
      "1  432.835876  332.950348   827.784363  658.780396    0.846844      0  person\n",
      "2  790.566833  403.932617  1279.772583  718.184326    0.800159      0  person\n",
      "3    5.105362  592.310425   260.388733  717.732666    0.798675      0  person\n",
      "4  607.160645  512.744080   834.674683  658.640686    0.748760     63  laptop\n",
      "5  189.777039  394.273407   446.425903  538.685303    0.705473     63  laptop\n",
      "6  869.076050  284.648438  1031.826416  365.053406    0.356386     13   bench\n"
     ]
    },
    {
     "name": "stderr",
     "output_type": "stream",
     "text": [
      "C:\\Users\\ALFIYA/.cache\\torch\\hub\\ultralytics_yolov5_master\\models\\common.py:892: FutureWarning: `torch.cuda.amp.autocast(args...)` is deprecated. Please use `torch.amp.autocast('cuda', args...)` instead.\n",
      "  with amp.autocast(autocast):\n",
      "C:\\Users\\ALFIYA/.cache\\torch\\hub\\ultralytics_yolov5_master\\models\\common.py:892: FutureWarning: `torch.cuda.amp.autocast(args...)` is deprecated. Please use `torch.amp.autocast('cuda', args...)` instead.\n",
      "  with amp.autocast(autocast):\n"
     ]
    },
    {
     "name": "stdout",
     "output_type": "stream",
     "text": [
      "         xmin        ymin         xmax        ymax  confidence  class    name\n",
      "0    0.675529   95.812042   200.020050  544.348877    0.880141      0  person\n",
      "1  433.516113  333.430969   826.805176  657.685242    0.854270      0  person\n",
      "2  789.362732  403.872955  1279.615356  718.364624    0.807477      0  person\n",
      "3    4.721336  592.410583   258.910980  717.608215    0.799975      0  person\n",
      "4  605.775818  512.555908   834.176453  658.147705    0.744507     63  laptop\n",
      "5  185.451004  394.512817   444.978577  538.603333    0.720996     63  laptop\n",
      "6  869.990051  284.924255  1031.126099  364.929504    0.319636     13   bench\n",
      "         xmin        ymin         xmax        ymax  confidence  class    name\n",
      "0    0.640701   96.181534   199.907120  544.127808    0.883165      0  person\n",
      "1  432.345673  333.381409   825.021606  657.103821    0.854009      0  person\n",
      "2  789.514404  404.214539  1280.000000  719.077087    0.820015      0  person\n",
      "3    4.336838  591.882080   258.851379  717.590820    0.804037      0  person\n",
      "4  604.565247  512.270935   833.072815  658.254456    0.750094     63  laptop\n",
      "5  187.402481  394.162109   443.796631  538.719604    0.707252     63  laptop\n",
      "6  869.659424  284.740143  1030.919067  364.935272    0.304968     13   bench\n"
     ]
    },
    {
     "name": "stderr",
     "output_type": "stream",
     "text": [
      "C:\\Users\\ALFIYA/.cache\\torch\\hub\\ultralytics_yolov5_master\\models\\common.py:892: FutureWarning: `torch.cuda.amp.autocast(args...)` is deprecated. Please use `torch.amp.autocast('cuda', args...)` instead.\n",
      "  with amp.autocast(autocast):\n",
      "C:\\Users\\ALFIYA/.cache\\torch\\hub\\ultralytics_yolov5_master\\models\\common.py:892: FutureWarning: `torch.cuda.amp.autocast(args...)` is deprecated. Please use `torch.amp.autocast('cuda', args...)` instead.\n",
      "  with amp.autocast(autocast):\n"
     ]
    },
    {
     "name": "stdout",
     "output_type": "stream",
     "text": [
      "         xmin        ymin         xmax        ymax  confidence  class    name\n",
      "0    0.537071   96.100082   199.392273  543.939270    0.884222      0  person\n",
      "1  432.628845  332.221436   823.178894  657.001099    0.856879      0  person\n",
      "2  789.119690  404.386169  1280.000000  719.251404    0.823064      0  person\n",
      "3    4.022636  591.742554   258.000488  717.489014    0.807931      0  person\n",
      "4  604.859863  512.764038   832.502930  658.608521    0.762218     63  laptop\n",
      "5  187.396042  394.778595   443.095398  539.128296    0.711025     63  laptop\n",
      "6  870.211487  288.440918  1033.817017  366.440002    0.309821     13   bench\n"
     ]
    },
    {
     "name": "stderr",
     "output_type": "stream",
     "text": [
      "C:\\Users\\ALFIYA/.cache\\torch\\hub\\ultralytics_yolov5_master\\models\\common.py:892: FutureWarning: `torch.cuda.amp.autocast(args...)` is deprecated. Please use `torch.amp.autocast('cuda', args...)` instead.\n",
      "  with amp.autocast(autocast):\n"
     ]
    },
    {
     "name": "stdout",
     "output_type": "stream",
     "text": [
      "         xmin        ymin         xmax        ymax  confidence  class    name\n",
      "0    0.412155   96.106049   199.426193  544.150146    0.885148      0  person\n",
      "1  434.218994  331.443848   821.679077  654.095825    0.848796      0  person\n",
      "2    3.976135  591.093567   258.100464  717.397522    0.811891      0  person\n",
      "3  787.948547  404.281128  1280.000000  719.720581    0.793663      0  person\n",
      "4  605.991516  512.615173   831.208679  658.156555    0.780569     63  laptop\n",
      "5  187.396576  394.958710   442.747833  539.012573    0.721579     63  laptop\n",
      "6  869.686768  288.214630  1033.373169  366.422638    0.320908     13   bench\n",
      "         xmin        ymin         xmax        ymax  confidence  class    name\n",
      "0    0.512680   95.945953   199.158569  544.250610    0.887497      0  person\n",
      "1  434.060760  332.085327   819.226318  652.447144    0.856667      0  person\n",
      "2    3.672791  590.716736   257.284668  717.312805    0.816951      0  person\n",
      "3  786.419067  403.938843  1280.000000  719.079224    0.792983      0  person\n",
      "4  603.825439  512.891724   830.472168  658.433105    0.790281     63  laptop\n",
      "5  187.645691  395.321289   441.284058  538.911255    0.735847     63  laptop\n",
      "6  869.019775  287.880707  1033.107178  366.621735    0.329710     13   bench\n"
     ]
    },
    {
     "name": "stderr",
     "output_type": "stream",
     "text": [
      "C:\\Users\\ALFIYA/.cache\\torch\\hub\\ultralytics_yolov5_master\\models\\common.py:892: FutureWarning: `torch.cuda.amp.autocast(args...)` is deprecated. Please use `torch.amp.autocast('cuda', args...)` instead.\n",
      "  with amp.autocast(autocast):\n",
      "C:\\Users\\ALFIYA/.cache\\torch\\hub\\ultralytics_yolov5_master\\models\\common.py:892: FutureWarning: `torch.cuda.amp.autocast(args...)` is deprecated. Please use `torch.amp.autocast('cuda', args...)` instead.\n",
      "  with amp.autocast(autocast):\n"
     ]
    },
    {
     "name": "stdout",
     "output_type": "stream",
     "text": [
      "         xmin        ymin         xmax        ymax  confidence  class    name\n",
      "0    0.519707   96.347992   199.026917  544.372925    0.885339      0  person\n",
      "1  435.559204  331.810364   818.303955  652.192200    0.855019      0  person\n",
      "2    3.432159  590.545166   256.250275  717.254028    0.818252      0  person\n",
      "3  786.549805  404.423828  1280.000000  718.720825    0.805584      0  person\n",
      "4  602.930908  512.825928   829.748901  658.475952    0.774502     63  laptop\n",
      "5  187.071442  395.505737   441.078705  538.337769    0.753482     63  laptop\n",
      "6  869.878479  287.979553  1031.700317  366.764954    0.305474     13   bench\n",
      "7  411.238647  526.132751   816.830078  708.385437    0.262366     63  laptop\n",
      "         xmin        ymin         xmax        ymax  confidence  class    name\n",
      "0    0.514816   96.135406   198.834976  543.826172    0.886958      0  person\n",
      "1  436.517029  330.951111   816.824280  651.835266    0.856529      0  person\n",
      "2    3.195999  590.015808   255.423599  717.253357    0.819033      0  person\n",
      "3  786.876038  404.218811  1280.000000  718.879944    0.813565      0  person\n",
      "4  602.505737  512.662964   829.034302  658.208008    0.776394     63  laptop\n",
      "5  188.385223  395.530762   442.892303  538.581238    0.726522     63  laptop\n",
      "6  869.342712  287.790375  1032.409302  366.759308    0.325339     13   bench\n",
      "7  413.350220  526.361511   815.907715  708.502625    0.258458     63  laptop\n"
     ]
    },
    {
     "name": "stderr",
     "output_type": "stream",
     "text": [
      "C:\\Users\\ALFIYA/.cache\\torch\\hub\\ultralytics_yolov5_master\\models\\common.py:892: FutureWarning: `torch.cuda.amp.autocast(args...)` is deprecated. Please use `torch.amp.autocast('cuda', args...)` instead.\n",
      "  with amp.autocast(autocast):\n",
      "C:\\Users\\ALFIYA/.cache\\torch\\hub\\ultralytics_yolov5_master\\models\\common.py:892: FutureWarning: `torch.cuda.amp.autocast(args...)` is deprecated. Please use `torch.amp.autocast('cuda', args...)` instead.\n",
      "  with amp.autocast(autocast):\n"
     ]
    },
    {
     "name": "stdout",
     "output_type": "stream",
     "text": [
      "         xmin        ymin         xmax        ymax  confidence  class    name\n",
      "0    0.453804   95.955353   198.049500  543.499268    0.877331      0  person\n",
      "1  436.427795  329.970642   814.690491  655.389465    0.842935      0  person\n",
      "2  787.408752  404.564117  1279.680176  718.974731    0.824223      0  person\n",
      "3    2.623238  588.627319   255.813049  716.795166    0.817611      0  person\n",
      "4  601.796143  511.615051   828.029663  658.098083    0.744441     63  laptop\n",
      "5  187.201675  395.254364   444.214050  538.177246    0.715227     63  laptop\n",
      "6  869.062134  287.567444  1031.157104  366.844421    0.299923     13   bench\n",
      "         xmin        ymin         xmax        ymax  confidence  class    name\n",
      "0    0.593262   96.178909   197.760910  544.084290    0.878060      0  person\n",
      "1  437.467590  324.631958   812.163757  654.320190    0.851004      0  person\n",
      "2  788.080994  404.460754  1278.431152  719.485779    0.821905      0  person\n",
      "3    2.602173  587.994690   255.474976  716.753723    0.810636      0  person\n",
      "4  598.798828  511.089233   827.519043  657.680420    0.742562     63  laptop\n",
      "5  183.710403  394.639709   442.802795  538.390747    0.725048     63  laptop\n",
      "6  870.510681  287.254913  1031.187622  365.621490    0.298335     13   bench\n"
     ]
    },
    {
     "name": "stderr",
     "output_type": "stream",
     "text": [
      "C:\\Users\\ALFIYA/.cache\\torch\\hub\\ultralytics_yolov5_master\\models\\common.py:892: FutureWarning: `torch.cuda.amp.autocast(args...)` is deprecated. Please use `torch.amp.autocast('cuda', args...)` instead.\n",
      "  with amp.autocast(autocast):\n",
      "C:\\Users\\ALFIYA/.cache\\torch\\hub\\ultralytics_yolov5_master\\models\\common.py:892: FutureWarning: `torch.cuda.amp.autocast(args...)` is deprecated. Please use `torch.amp.autocast('cuda', args...)` instead.\n",
      "  with amp.autocast(autocast):\n"
     ]
    },
    {
     "name": "stdout",
     "output_type": "stream",
     "text": [
      "         xmin        ymin         xmax        ymax  confidence  class    name\n",
      "0    0.651588   96.265686   198.122498  543.561157    0.875993      0  person\n",
      "1  438.276825  324.964294   811.415771  650.769470    0.852849      0  person\n",
      "2  787.588623  403.536774  1277.879150  719.442871    0.817767      0  person\n",
      "3    2.429131  586.886902   254.419434  716.720398    0.815643      0  person\n",
      "4  597.780090  510.904968   827.260193  657.679626    0.759330     63  laptop\n",
      "5  181.907288  394.537811   440.350769  537.741943    0.755481     63  laptop\n",
      "6  869.326172  287.017883  1029.462646  365.671997    0.327922     13   bench\n",
      "         xmin        ymin         xmax        ymax  confidence  class    name\n",
      "0    0.599937   96.192505   198.256927  543.229370    0.877618      0  person\n",
      "1  438.174713  324.875732   810.099365  651.317383    0.856579      0  person\n",
      "2    2.367577  586.036865   253.588684  716.821899    0.819796      0  person\n",
      "3  786.712524  403.510559  1276.866821  719.106384    0.789781      0  person\n",
      "4  597.187805  509.839722   827.116150  658.055420    0.771924     63  laptop\n",
      "5  182.124863  394.328125   441.195374  537.602905    0.751258     63  laptop\n",
      "6  868.663086  286.953186  1029.204102  365.628235    0.322784     13   bench\n"
     ]
    },
    {
     "name": "stderr",
     "output_type": "stream",
     "text": [
      "C:\\Users\\ALFIYA/.cache\\torch\\hub\\ultralytics_yolov5_master\\models\\common.py:892: FutureWarning: `torch.cuda.amp.autocast(args...)` is deprecated. Please use `torch.amp.autocast('cuda', args...)` instead.\n",
      "  with amp.autocast(autocast):\n",
      "C:\\Users\\ALFIYA/.cache\\torch\\hub\\ultralytics_yolov5_master\\models\\common.py:892: FutureWarning: `torch.cuda.amp.autocast(args...)` is deprecated. Please use `torch.amp.autocast('cuda', args...)` instead.\n",
      "  with amp.autocast(autocast):\n"
     ]
    },
    {
     "name": "stdout",
     "output_type": "stream",
     "text": [
      "         xmin        ymin         xmax        ymax  confidence  class    name\n",
      "0    0.621414   96.312744   198.402023  543.292297    0.880430      0  person\n",
      "1  438.699524  324.609009   809.587463  651.734985    0.835343      0  person\n",
      "2    2.178970  584.910400   251.947632  716.726196    0.816981      0  person\n",
      "3  787.294678  403.825623  1275.754395  719.211365    0.764383      0  person\n",
      "4  596.554810  508.769775   826.788574  657.928101    0.751539     63  laptop\n",
      "5  180.420441  393.725525   439.568085  537.454712    0.737959     63  laptop\n",
      "6  869.312744  287.248413  1028.400513  365.380615    0.295142     13   bench\n",
      "         xmin        ymin         xmax        ymax  confidence  class    name\n",
      "0    0.714203   96.534546   198.220245  542.995667    0.876137      0  person\n",
      "1  436.827576  324.511292   809.387634  654.872742    0.848681      0  person\n",
      "2    2.045990  584.313049   252.075714  716.680725    0.817241      0  person\n",
      "3  788.308899  403.787872  1274.755615  719.221313    0.754944      0  person\n",
      "4  596.462158  508.193726   825.963501  658.249023    0.753738     63  laptop\n",
      "5  179.297638  393.897217   440.175934  537.733032    0.745806     63  laptop\n",
      "6  869.237915  287.422760  1027.963745  365.223785    0.263807     13   bench\n"
     ]
    },
    {
     "name": "stderr",
     "output_type": "stream",
     "text": [
      "C:\\Users\\ALFIYA/.cache\\torch\\hub\\ultralytics_yolov5_master\\models\\common.py:892: FutureWarning: `torch.cuda.amp.autocast(args...)` is deprecated. Please use `torch.amp.autocast('cuda', args...)` instead.\n",
      "  with amp.autocast(autocast):\n",
      "C:\\Users\\ALFIYA/.cache\\torch\\hub\\ultralytics_yolov5_master\\models\\common.py:892: FutureWarning: `torch.cuda.amp.autocast(args...)` is deprecated. Please use `torch.amp.autocast('cuda', args...)` instead.\n",
      "  with amp.autocast(autocast):\n"
     ]
    },
    {
     "name": "stdout",
     "output_type": "stream",
     "text": [
      "         xmin        ymin         xmax        ymax  confidence  class    name\n",
      "0    0.725906   96.697311   198.462891  543.489502    0.873623      0  person\n",
      "1  435.922180  324.234528   810.525696  655.700317    0.845087      0  person\n",
      "2    1.829445  583.286194   251.070984  716.523743    0.819908      0  person\n",
      "3  595.582153  508.421753   825.106201  658.574097    0.784241     63  laptop\n",
      "4  787.775635  403.100342  1275.145752  719.234497    0.761982      0  person\n",
      "5  179.427704  393.158112   439.506012  537.714539    0.739245     63  laptop\n",
      "6  869.027283  287.638428  1027.127930  365.023071    0.282216     13   bench\n",
      "         xmin        ymin         xmax        ymax  confidence  class    name\n",
      "0    0.724197   96.554092   198.262970  543.572510    0.875587      0  person\n",
      "1  438.881500  323.549500   810.442017  651.523010    0.867424      0  person\n",
      "2    1.673744  583.066772   250.020660  716.711914    0.818899      0  person\n",
      "3  595.816711  507.458069   825.209290  658.660095    0.785043     63  laptop\n",
      "4  788.610046  402.967957  1275.270264  718.906799    0.751038      0  person\n",
      "5  177.949051  393.143616   440.631897  537.579712    0.746704     63  laptop\n",
      "6  868.065857  287.275146  1027.838989  365.150146    0.313343     13   bench\n",
      "7  868.080200  285.858948  1026.147949  364.826660    0.279457     56   chair\n"
     ]
    },
    {
     "name": "stderr",
     "output_type": "stream",
     "text": [
      "C:\\Users\\ALFIYA/.cache\\torch\\hub\\ultralytics_yolov5_master\\models\\common.py:892: FutureWarning: `torch.cuda.amp.autocast(args...)` is deprecated. Please use `torch.amp.autocast('cuda', args...)` instead.\n",
      "  with amp.autocast(autocast):\n",
      "C:\\Users\\ALFIYA/.cache\\torch\\hub\\ultralytics_yolov5_master\\models\\common.py:892: FutureWarning: `torch.cuda.amp.autocast(args...)` is deprecated. Please use `torch.amp.autocast('cuda', args...)` instead.\n",
      "  with amp.autocast(autocast):\n"
     ]
    },
    {
     "name": "stdout",
     "output_type": "stream",
     "text": [
      "         xmin        ymin         xmax        ymax  confidence  class    name\n",
      "0  438.473969  323.093628   810.216431  651.354797    0.872120      0  person\n",
      "1    0.698372   96.412521   197.973633  543.722229    0.870141      0  person\n",
      "2    1.685219  582.316467   250.030334  716.576599    0.821298      0  person\n",
      "3  594.833618  508.204285   825.469238  658.508850    0.802267     63  laptop\n",
      "4  788.455627  402.847473  1275.626953  718.428284    0.736083      0  person\n",
      "5  179.341751  392.738403   439.960449  537.650452    0.731472     63  laptop\n",
      "6  867.954529  287.248596  1027.553955  365.039062    0.317132     13   bench\n",
      "7  867.937805  285.916229  1025.976929  364.689667    0.279084     56   chair\n",
      "         xmin        ymin         xmax        ymax  confidence  class    name\n",
      "0  431.542114  321.878937   808.995605  650.742676    0.875143      0  person\n",
      "1    0.606697   96.318192   197.688599  544.007507    0.870313      0  person\n",
      "2    1.578758  581.990601   249.651001  716.600464    0.817370      0  person\n",
      "3  594.705078  508.424866   825.029907  658.126892    0.807299     63  laptop\n",
      "4  788.902100  402.687164  1275.922607  718.063843    0.739453      0  person\n",
      "5  182.664932  392.552429   440.102966  537.219971    0.717092     63  laptop\n",
      "6  866.942932  287.232056  1027.648071  365.356628    0.332159     13   bench\n",
      "7  867.206360  286.202789  1026.152100  364.902130    0.325946     56   chair\n"
     ]
    },
    {
     "name": "stderr",
     "output_type": "stream",
     "text": [
      "C:\\Users\\ALFIYA/.cache\\torch\\hub\\ultralytics_yolov5_master\\models\\common.py:892: FutureWarning: `torch.cuda.amp.autocast(args...)` is deprecated. Please use `torch.amp.autocast('cuda', args...)` instead.\n",
      "  with amp.autocast(autocast):\n",
      "C:\\Users\\ALFIYA/.cache\\torch\\hub\\ultralytics_yolov5_master\\models\\common.py:892: FutureWarning: `torch.cuda.amp.autocast(args...)` is deprecated. Please use `torch.amp.autocast('cuda', args...)` instead.\n",
      "  with amp.autocast(autocast):\n"
     ]
    },
    {
     "name": "stdout",
     "output_type": "stream",
     "text": [
      "         xmin        ymin         xmax        ymax  confidence  class    name\n",
      "0  431.615601  321.180511   809.299805  650.985840    0.875559      0  person\n",
      "1    0.518852   96.530823   197.510193  543.388733    0.869818      0  person\n",
      "2    1.537003  581.727173   249.068909  716.616699    0.819593      0  person\n",
      "3  595.930603  509.299500   824.818665  657.956482    0.815042     63  laptop\n",
      "4  790.299255  402.635040  1276.267944  718.138062    0.731582      0  person\n",
      "5  182.913010  392.478577   439.845703  537.207581    0.711323     63  laptop\n",
      "6  867.100342  286.216431  1026.128662  364.796387    0.334342     56   chair\n",
      "7  866.681458  287.185760  1027.557861  365.297577    0.332088     13   bench\n",
      "         xmin        ymin         xmax        ymax  confidence  class    name\n",
      "0  424.994568  320.403351   808.790466  651.845215    0.870871      0  person\n",
      "1    0.568665   96.215103   197.904892  543.227112    0.870392      0  person\n",
      "2    1.534607  581.809021   249.278549  716.713684    0.815935      0  person\n",
      "3  596.854614  509.545044   824.651489  657.586914    0.812070     63  laptop\n",
      "4  789.152832  402.961914  1276.303711  718.110229    0.738703      0  person\n",
      "5  181.752716  392.565857   440.402496  537.579895    0.707958     63  laptop\n",
      "6  866.649719  287.275909  1027.449585  365.343597    0.343466     13   bench\n",
      "7  867.233398  286.342468  1025.875732  364.731567    0.328346     56   chair\n"
     ]
    },
    {
     "name": "stderr",
     "output_type": "stream",
     "text": [
      "C:\\Users\\ALFIYA/.cache\\torch\\hub\\ultralytics_yolov5_master\\models\\common.py:892: FutureWarning: `torch.cuda.amp.autocast(args...)` is deprecated. Please use `torch.amp.autocast('cuda', args...)` instead.\n",
      "  with amp.autocast(autocast):\n",
      "C:\\Users\\ALFIYA/.cache\\torch\\hub\\ultralytics_yolov5_master\\models\\common.py:892: FutureWarning: `torch.cuda.amp.autocast(args...)` is deprecated. Please use `torch.amp.autocast('cuda', args...)` instead.\n",
      "  with amp.autocast(autocast):\n"
     ]
    },
    {
     "name": "stdout",
     "output_type": "stream",
     "text": [
      "         xmin        ymin         xmax        ymax  confidence  class    name\n",
      "0  413.813904  319.781097   808.003113  654.733276    0.875869      0  person\n",
      "1    0.664139   96.095367   198.413116  543.394531    0.874650      0  person\n",
      "2  597.889771  510.105408   824.142456  657.503479    0.818266     63  laptop\n",
      "3    1.493164  581.231018   249.049957  716.856628    0.817722      0  person\n",
      "4  179.162125  392.569519   439.155457  537.529114    0.732115     63  laptop\n",
      "5  789.982483  402.947144  1275.994995  717.718384    0.729264      0  person\n",
      "6  866.818237  286.234009  1026.580200  364.607239    0.369070     56   chair\n",
      "7  865.798035  286.940582  1028.294312  365.253387    0.359803     13   bench\n",
      "         xmin        ymin         xmax        ymax  confidence  class    name\n",
      "0    0.672432   96.598602   198.531097  542.982910    0.874997      0  person\n",
      "1  413.968658  319.106812   807.630493  656.036316    0.870755      0  person\n",
      "2  598.119507  510.622314   823.979370  657.671997    0.818368     63  laptop\n",
      "3    1.356468  581.644714   248.176483  716.958069    0.813961      0  person\n",
      "4  178.451752  392.884430   438.430756  537.696655    0.761490     63  laptop\n",
      "5  791.713562  403.165466  1275.588135  717.390076    0.724878      0  person\n",
      "6  867.302612  286.179901  1026.557861  364.627838    0.390522     56   chair\n",
      "7  866.023132  286.787689  1028.225586  365.261383    0.354807     13   bench\n"
     ]
    },
    {
     "name": "stderr",
     "output_type": "stream",
     "text": [
      "C:\\Users\\ALFIYA/.cache\\torch\\hub\\ultralytics_yolov5_master\\models\\common.py:892: FutureWarning: `torch.cuda.amp.autocast(args...)` is deprecated. Please use `torch.amp.autocast('cuda', args...)` instead.\n",
      "  with amp.autocast(autocast):\n",
      "C:\\Users\\ALFIYA/.cache\\torch\\hub\\ultralytics_yolov5_master\\models\\common.py:892: FutureWarning: `torch.cuda.amp.autocast(args...)` is deprecated. Please use `torch.amp.autocast('cuda', args...)` instead.\n",
      "  with amp.autocast(autocast):\n"
     ]
    },
    {
     "name": "stdout",
     "output_type": "stream",
     "text": [
      "         xmin        ymin         xmax        ymax  confidence  class    name\n",
      "0    0.772659   96.856400   199.131439  543.315247    0.875711      0  person\n",
      "1  410.913757  318.305603   807.320862  658.235168    0.874289      0  person\n",
      "2  597.527466  511.111877   824.466187  657.508606    0.827604     63  laptop\n",
      "3    1.539383  581.166565   248.813522  716.829163    0.813680      0  person\n",
      "4  178.961777  392.553009   438.653320  537.235901    0.746956     63  laptop\n",
      "5  790.149353  402.626648  1275.489746  717.690735    0.721855      0  person\n",
      "6  867.007141  286.156097  1026.275391  364.572784    0.417014     56   chair\n",
      "7  865.625183  286.668488  1028.074463  365.139557    0.361021     13   bench\n",
      "         xmin        ymin         xmax        ymax  confidence  class    name\n",
      "0  395.310059  317.440033   807.848755  660.172485    0.876453      0  person\n",
      "1    0.826637   96.844650   199.346893  543.026733    0.868926      0  person\n",
      "2  596.494812  511.358276   824.576843  657.595459    0.822133     63  laptop\n",
      "3    1.720505  580.492737   248.622742  716.884583    0.807607      0  person\n",
      "4  177.095978  392.449646   438.240692  537.050293    0.764688     63  laptop\n",
      "5  791.497803  402.582886  1275.241943  717.568970    0.712590      0  person\n",
      "6  866.792480  286.101715  1026.827148  364.475006    0.449513     56   chair\n",
      "7  865.439209  286.560150  1028.859741  365.040253    0.360686     13   bench\n"
     ]
    },
    {
     "name": "stderr",
     "output_type": "stream",
     "text": [
      "C:\\Users\\ALFIYA/.cache\\torch\\hub\\ultralytics_yolov5_master\\models\\common.py:892: FutureWarning: `torch.cuda.amp.autocast(args...)` is deprecated. Please use `torch.amp.autocast('cuda', args...)` instead.\n",
      "  with amp.autocast(autocast):\n",
      "C:\\Users\\ALFIYA/.cache\\torch\\hub\\ultralytics_yolov5_master\\models\\common.py:892: FutureWarning: `torch.cuda.amp.autocast(args...)` is deprecated. Please use `torch.amp.autocast('cuda', args...)` instead.\n",
      "  with amp.autocast(autocast):\n"
     ]
    },
    {
     "name": "stdout",
     "output_type": "stream",
     "text": [
      "         xmin        ymin         xmax        ymax  confidence  class    name\n",
      "0  387.321411  316.153198   808.761841  661.837158    0.875749      0  person\n",
      "1    0.912910   96.620377   199.000458  542.859985    0.869754      0  person\n",
      "2  597.394043  511.787964   824.836426  657.288086    0.823305     63  laptop\n",
      "3    1.820496  579.745056   248.490295  716.870789    0.811903      0  person\n",
      "4  178.328613  392.264465   438.379517  536.884460    0.751389     63  laptop\n",
      "5  789.311279  402.250000  1274.525391  717.384521    0.721060      0  person\n",
      "6  866.766846  286.087250  1026.746582  364.508087    0.464634     56   chair\n",
      "7  865.124207  286.324463  1028.735352  365.186890    0.364479     13   bench\n",
      "8  779.928711  452.891510   950.982422  546.427124    0.257318     63  laptop\n",
      "         xmin        ymin         xmax        ymax  confidence  class    name\n",
      "0    0.875542   96.286224   198.746765  542.626343    0.867168      0  person\n",
      "1  394.908081  314.321716   810.058960  657.262207    0.845684      0  person\n",
      "2  595.964172  512.488647   824.602112  657.275513    0.825448     63  laptop\n",
      "3    1.923210  579.093628   250.052338  716.687500    0.811235      0  person\n",
      "4  179.496765  392.167847   439.871643  536.902710    0.746178     63  laptop\n",
      "5  792.672607  401.913330  1274.381836  717.057007    0.711737      0  person\n",
      "6  866.552490  286.107574  1026.818481  364.679779    0.464376     56   chair\n",
      "7  865.329773  286.364685  1028.732666  365.309998    0.339228     13   bench\n"
     ]
    },
    {
     "name": "stderr",
     "output_type": "stream",
     "text": [
      "C:\\Users\\ALFIYA/.cache\\torch\\hub\\ultralytics_yolov5_master\\models\\common.py:892: FutureWarning: `torch.cuda.amp.autocast(args...)` is deprecated. Please use `torch.amp.autocast('cuda', args...)` instead.\n",
      "  with amp.autocast(autocast):\n",
      "C:\\Users\\ALFIYA/.cache\\torch\\hub\\ultralytics_yolov5_master\\models\\common.py:892: FutureWarning: `torch.cuda.amp.autocast(args...)` is deprecated. Please use `torch.amp.autocast('cuda', args...)` instead.\n",
      "  with amp.autocast(autocast):\n"
     ]
    },
    {
     "name": "stdout",
     "output_type": "stream",
     "text": [
      "         xmin        ymin         xmax        ymax  confidence  class    name\n",
      "0    0.968613   96.543243   198.539871  542.532349    0.872518      0  person\n",
      "1  379.980713  313.583740   811.441528  660.152527    0.825432      0  person\n",
      "2  594.043701  513.140808   824.052856  656.697571    0.821357     63  laptop\n",
      "3    2.208672  577.850891   249.886963  716.609558    0.807810      0  person\n",
      "4  178.619720  391.808960   439.950714  536.362244    0.751041     63  laptop\n",
      "5  801.097778  401.979584  1274.432983  716.982788    0.698032      0  person\n",
      "6  867.172485  286.360352  1026.500977  364.334229    0.463224     56   chair\n",
      "7  866.312805  287.119751  1028.522583  365.138550    0.344993     13   bench\n",
      "         xmin        ymin         xmax        ymax  confidence  class    name\n",
      "0    1.026443   96.472519   198.489197  542.140930    0.875427      0  person\n",
      "1  592.722717  513.107605   823.269470  656.710632    0.817644     63  laptop\n",
      "2    2.102196  577.673157   249.999359  716.505066    0.812781      0  person\n",
      "3  397.105194  312.876038   810.734375  659.715820    0.803946      0  person\n",
      "4  179.850082  391.761169   438.837769  536.575134    0.746844     63  laptop\n",
      "5  809.253540  402.300842  1274.307983  716.682190    0.687420      0  person\n",
      "6  867.100342  286.322357  1026.629639  364.352081    0.445250     56   chair\n",
      "7  866.350098  287.159790  1028.571533  365.141602    0.349494     13   bench\n"
     ]
    },
    {
     "name": "stderr",
     "output_type": "stream",
     "text": [
      "C:\\Users\\ALFIYA/.cache\\torch\\hub\\ultralytics_yolov5_master\\models\\common.py:892: FutureWarning: `torch.cuda.amp.autocast(args...)` is deprecated. Please use `torch.amp.autocast('cuda', args...)` instead.\n",
      "  with amp.autocast(autocast):\n",
      "C:\\Users\\ALFIYA/.cache\\torch\\hub\\ultralytics_yolov5_master\\models\\common.py:892: FutureWarning: `torch.cuda.amp.autocast(args...)` is deprecated. Please use `torch.amp.autocast('cuda', args...)` instead.\n",
      "  with amp.autocast(autocast):\n"
     ]
    },
    {
     "name": "stdout",
     "output_type": "stream",
     "text": [
      "         xmin        ymin         xmax        ymax  confidence  class    name\n",
      "0    1.133339   96.480438   198.203217  541.593506    0.871201      0  person\n",
      "1  366.629700  316.363464   815.792175  661.616516    0.833397      0  person\n",
      "2  592.407715  513.406067   821.632690  656.558289    0.824636     63  laptop\n",
      "3    2.251106  577.375854   250.137177  716.454834    0.814441      0  person\n",
      "4  178.837402  391.634460   437.769714  536.140442    0.751063     63  laptop\n",
      "5  813.438843  402.235992  1274.730835  716.769775    0.689013      0  person\n",
      "6  867.190674  286.276550  1026.790039  364.208923    0.450514     56   chair\n",
      "7  866.244751  287.207855  1028.731323  364.794525    0.344150     13   bench\n",
      "         xmin        ymin         xmax        ymax  confidence  class    name\n",
      "0    1.115578   96.524307   198.012482  541.077881    0.866712      0  person\n",
      "1  366.084229  316.098938   814.464966  661.719177    0.844952      0  person\n",
      "2    2.039688  577.015076   249.577194  716.617004    0.813845      0  person\n",
      "3  592.444763  513.303528   821.691711  656.565369    0.809692     63  laptop\n",
      "4  180.979294  391.306213   437.442566  536.087524    0.726885     63  laptop\n",
      "5  812.605713  402.215515  1274.944092  716.488464    0.685281      0  person\n",
      "6  867.297913  286.365326  1026.788208  364.218109    0.440418     56   chair\n",
      "7  866.513306  287.621246  1029.374512  366.433075    0.337620     13   bench\n"
     ]
    },
    {
     "name": "stderr",
     "output_type": "stream",
     "text": [
      "C:\\Users\\ALFIYA/.cache\\torch\\hub\\ultralytics_yolov5_master\\models\\common.py:892: FutureWarning: `torch.cuda.amp.autocast(args...)` is deprecated. Please use `torch.amp.autocast('cuda', args...)` instead.\n",
      "  with amp.autocast(autocast):\n",
      "C:\\Users\\ALFIYA/.cache\\torch\\hub\\ultralytics_yolov5_master\\models\\common.py:892: FutureWarning: `torch.cuda.amp.autocast(args...)` is deprecated. Please use `torch.amp.autocast('cuda', args...)` instead.\n",
      "  with amp.autocast(autocast):\n"
     ]
    },
    {
     "name": "stdout",
     "output_type": "stream",
     "text": [
      "         xmin        ymin         xmax        ymax  confidence  class    name\n",
      "0    1.072258   96.538330   197.754059  541.742188    0.866050      0  person\n",
      "1  363.459534  311.334656   811.115173  664.052917    0.844579      0  person\n",
      "2  591.495483  512.974243   821.287354  656.582520    0.822351     63  laptop\n",
      "3    1.979347  576.871765   249.426025  716.653870    0.816330      0  person\n",
      "4  181.416336  391.375153   437.718506  536.111267    0.712028     63  laptop\n",
      "5  815.110718  402.247375  1274.495239  716.220154    0.686046      0  person\n",
      "6  867.299866  286.358002  1026.468872  364.237274    0.449925     56   chair\n",
      "7  866.527344  287.655029  1028.993286  366.427917    0.342479     13   bench\n",
      "8  781.994141  452.117981   950.058350  545.545349    0.256859     63  laptop\n",
      "         xmin        ymin         xmax        ymax  confidence  class    name\n",
      "0    1.207504   96.424576   197.703842  541.102661    0.866872      0  person\n",
      "1  361.867188  315.183289   815.330566  662.690735    0.824431      0  person\n",
      "2  590.750732  512.671021   821.295410  656.614868    0.823183     63  laptop\n",
      "3    2.059021  576.770935   249.415146  716.661194    0.808827      0  person\n",
      "4  183.776901  390.976685   437.786987  536.424316    0.693108     63  laptop\n",
      "5  822.251831  402.201233  1274.542603  716.343689    0.681124      0  person\n",
      "6  867.605957  286.506866  1026.458618  364.225433    0.437210     56   chair\n",
      "7  866.886536  287.742859  1028.779175  366.294617    0.342907     13   bench\n"
     ]
    },
    {
     "name": "stderr",
     "output_type": "stream",
     "text": [
      "C:\\Users\\ALFIYA/.cache\\torch\\hub\\ultralytics_yolov5_master\\models\\common.py:892: FutureWarning: `torch.cuda.amp.autocast(args...)` is deprecated. Please use `torch.amp.autocast('cuda', args...)` instead.\n",
      "  with amp.autocast(autocast):\n",
      "C:\\Users\\ALFIYA/.cache\\torch\\hub\\ultralytics_yolov5_master\\models\\common.py:892: FutureWarning: `torch.cuda.amp.autocast(args...)` is deprecated. Please use `torch.amp.autocast('cuda', args...)` instead.\n",
      "  with amp.autocast(autocast):\n"
     ]
    },
    {
     "name": "stdout",
     "output_type": "stream",
     "text": [
      "         xmin        ymin         xmax        ymax  confidence  class    name\n",
      "0    0.769180   96.410461   197.333313  541.353882    0.873081      0  person\n",
      "1  590.013550  512.173706   821.117310  656.531982    0.834057     63  laptop\n",
      "2    1.968163  577.065918   249.137146  716.479492    0.812317      0  person\n",
      "3  369.114197  316.099792   815.191101  659.666992    0.809653      0  person\n",
      "4  186.802155  390.815674   436.107147  536.217529    0.696109     63  laptop\n",
      "5  825.338623  402.236542  1273.916260  716.266602    0.676825      0  person\n",
      "6  867.941528  286.545746  1027.001099  364.170929    0.463234     56   chair\n",
      "7  867.143555  287.820648  1029.323730  366.156158    0.322173     13   bench\n",
      "8  781.554565  451.998322   949.535522  544.974915    0.251159     63  laptop\n",
      "         xmin        ymin         xmax        ymax  confidence  class    name\n",
      "0    0.645638   96.464996   197.084900  541.642822    0.865982      0  person\n",
      "1  589.925476  511.906250   820.616028  656.676392    0.832745     63  laptop\n",
      "2  364.227356  310.270020   811.157043  661.836182    0.824040      0  person\n",
      "3    1.855400  577.165710   248.539551  716.436584    0.813310      0  person\n",
      "4  191.799713  390.735443   435.687592  536.407532    0.690827     63  laptop\n",
      "5  825.917236  402.637085  1273.728516  716.316406    0.671737      0  person\n",
      "6  867.431274  286.687714  1026.498901  364.141754    0.479392     56   chair\n",
      "7  866.552185  287.767731  1028.499512  366.287384    0.308961     13   bench\n"
     ]
    },
    {
     "name": "stderr",
     "output_type": "stream",
     "text": [
      "C:\\Users\\ALFIYA/.cache\\torch\\hub\\ultralytics_yolov5_master\\models\\common.py:892: FutureWarning: `torch.cuda.amp.autocast(args...)` is deprecated. Please use `torch.amp.autocast('cuda', args...)` instead.\n",
      "  with amp.autocast(autocast):\n",
      "C:\\Users\\ALFIYA/.cache\\torch\\hub\\ultralytics_yolov5_master\\models\\common.py:892: FutureWarning: `torch.cuda.amp.autocast(args...)` is deprecated. Please use `torch.amp.autocast('cuda', args...)` instead.\n",
      "  with amp.autocast(autocast):\n"
     ]
    },
    {
     "name": "stdout",
     "output_type": "stream",
     "text": [
      "         xmin        ymin         xmax        ymax  confidence  class    name\n",
      "0    0.796700   96.957245   196.051208  541.190796    0.863717      0  person\n",
      "1  367.020538  314.551392   812.380249  662.533569    0.829561      0  person\n",
      "2  590.733826  511.480957   820.651550  657.036865    0.822137     63  laptop\n",
      "3    1.794922  577.439087   247.481674  716.404907    0.815487      0  person\n",
      "4  189.823334  390.809784   435.622711  536.334961    0.694571     63  laptop\n",
      "5  818.987427  403.066467  1273.243286  716.065613    0.666900      0  person\n",
      "6  866.891785  287.118896  1026.474487  364.332031    0.450491     56   chair\n",
      "7  866.226807  288.272095  1028.447998  366.522461    0.299035     13   bench\n",
      "         xmin        ymin         xmax        ymax  confidence  class    name\n",
      "0    0.827583   96.995697   196.052673  540.983398    0.866884      0  person\n",
      "1  367.635956  314.442566   811.977051  663.241028    0.835623      0  person\n",
      "2    1.704727  577.430359   247.361008  716.378967    0.813075      0  person\n",
      "3  590.504517  511.595154   820.586914  656.952576    0.803382     63  laptop\n",
      "4  186.300079  390.820648   436.818756  536.571899    0.699792     63  laptop\n",
      "5  798.166016  403.369324  1272.576416  715.991760    0.681654      0  person\n",
      "6  866.929810  287.178436  1026.308716  364.530975    0.456931     56   chair\n",
      "7  866.284607  288.341461  1027.903931  366.721222    0.315531     13   bench\n"
     ]
    },
    {
     "name": "stderr",
     "output_type": "stream",
     "text": [
      "C:\\Users\\ALFIYA/.cache\\torch\\hub\\ultralytics_yolov5_master\\models\\common.py:892: FutureWarning: `torch.cuda.amp.autocast(args...)` is deprecated. Please use `torch.amp.autocast('cuda', args...)` instead.\n",
      "  with amp.autocast(autocast):\n",
      "C:\\Users\\ALFIYA/.cache\\torch\\hub\\ultralytics_yolov5_master\\models\\common.py:892: FutureWarning: `torch.cuda.amp.autocast(args...)` is deprecated. Please use `torch.amp.autocast('cuda', args...)` instead.\n",
      "  with amp.autocast(autocast):\n"
     ]
    },
    {
     "name": "stdout",
     "output_type": "stream",
     "text": [
      "         xmin        ymin         xmax        ymax  confidence  class    name\n",
      "0    1.070152   96.952591   195.483398  540.729614    0.860938      0  person\n",
      "1  370.268188  314.634216   811.485718  663.407288    0.843845      0  person\n",
      "2    1.700974  577.722961   247.533127  716.286194    0.816098      0  person\n",
      "3  589.860229  511.944275   819.503662  656.668518    0.806580     63  laptop\n",
      "4  794.098022  404.211975  1272.693481  716.168518    0.692531      0  person\n",
      "5  189.509186  390.958557   435.949982  536.517822    0.685715     63  laptop\n",
      "6  865.974915  287.198120  1025.754395  364.513611    0.445674     56   chair\n",
      "7  865.315613  288.357941  1027.193359  366.723236    0.344230     13   bench\n",
      "         xmin        ymin         xmax        ymax  confidence  class    name\n",
      "0    1.144096   97.372055   195.571625  540.456970    0.854614      0  person\n",
      "1  371.542053  315.462036   810.622253  662.636841    0.846981      0  person\n",
      "2  589.334473  512.270996   818.734863  656.704590    0.818479     63  laptop\n",
      "3    1.743187  577.655151   246.108185  716.412720    0.815017      0  person\n",
      "4  788.869629  404.708557  1272.609375  715.814880    0.697124      0  person\n",
      "5  196.516907  391.063965   435.391479  536.521118    0.670919     63  laptop\n",
      "6  865.543823  287.117188  1025.704468  364.848022    0.412947     56   chair\n",
      "7  864.959045  288.348145  1026.849365  367.017273    0.361312     13   bench\n",
      "8  783.021301  451.599487   945.545959  544.356689    0.286317     63  laptop\n"
     ]
    },
    {
     "name": "stderr",
     "output_type": "stream",
     "text": [
      "C:\\Users\\ALFIYA/.cache\\torch\\hub\\ultralytics_yolov5_master\\models\\common.py:892: FutureWarning: `torch.cuda.amp.autocast(args...)` is deprecated. Please use `torch.amp.autocast('cuda', args...)` instead.\n",
      "  with amp.autocast(autocast):\n",
      "C:\\Users\\ALFIYA/.cache\\torch\\hub\\ultralytics_yolov5_master\\models\\common.py:892: FutureWarning: `torch.cuda.amp.autocast(args...)` is deprecated. Please use `torch.amp.autocast('cuda', args...)` instead.\n",
      "  with amp.autocast(autocast):\n"
     ]
    },
    {
     "name": "stdout",
     "output_type": "stream",
     "text": [
      "         xmin        ymin         xmax        ymax  confidence  class    name\n",
      "0    1.173622   97.496719   195.495392  540.304993    0.862187      0  person\n",
      "1  371.912231  316.687195   810.621338  661.957336    0.848197      0  person\n",
      "2  589.543823  512.435303   818.712769  656.901367    0.819058     63  laptop\n",
      "3    1.699364  577.958679   245.455139  716.299255    0.817963      0  person\n",
      "4  790.923218  405.265442  1272.729858  715.658386    0.699088      0  person\n",
      "5  198.571930  391.481659   435.746918  536.570923    0.664171     63  laptop\n",
      "6  865.458862  287.741608  1026.196777  365.304230    0.436485     56   chair\n",
      "7  864.799927  288.538818  1027.113281  367.391296    0.362477     13   bench\n",
      "8  782.153198  451.991547   944.992432  544.670898    0.254072     63  laptop\n",
      "         xmin        ymin         xmax        ymax  confidence  class    name\n",
      "0    1.252815   97.501175   195.332092  540.253601    0.866688      0  person\n",
      "1  371.253296  317.077881   810.502197  661.676392    0.834397      0  person\n",
      "2  589.260193  512.340637   818.668396  657.019836    0.818792     63  laptop\n",
      "3    1.743401  578.390015   245.188721  716.360718    0.817282      0  person\n",
      "4  193.513443  391.639313   435.405884  536.653442    0.696604     63  laptop\n",
      "5  790.107849  405.129700  1272.259155  715.692322    0.694261      0  person\n",
      "6  865.283325  287.662781  1025.973145  365.213928    0.432174     56   chair\n",
      "7  864.612854  288.702820  1026.874390  367.433899    0.361032     13   bench\n",
      "8  780.885498  451.817139   944.852783  545.766968    0.302909     63  laptop\n"
     ]
    },
    {
     "name": "stderr",
     "output_type": "stream",
     "text": [
      "C:\\Users\\ALFIYA/.cache\\torch\\hub\\ultralytics_yolov5_master\\models\\common.py:892: FutureWarning: `torch.cuda.amp.autocast(args...)` is deprecated. Please use `torch.amp.autocast('cuda', args...)` instead.\n",
      "  with amp.autocast(autocast):\n",
      "C:\\Users\\ALFIYA/.cache\\torch\\hub\\ultralytics_yolov5_master\\models\\common.py:892: FutureWarning: `torch.cuda.amp.autocast(args...)` is deprecated. Please use `torch.amp.autocast('cuda', args...)` instead.\n",
      "  with amp.autocast(autocast):\n"
     ]
    },
    {
     "name": "stdout",
     "output_type": "stream",
     "text": [
      "         xmin        ymin         xmax        ymax  confidence  class    name\n",
      "0    1.473679   97.635117   195.310135  540.667114    0.862822      0  person\n",
      "1  368.586060  317.310913   809.230469  661.801636    0.832000      0  person\n",
      "2    1.546898  578.546936   244.823029  716.365906    0.818623      0  person\n",
      "3  590.405640  512.401062   817.963135  657.295837    0.817862     63  laptop\n",
      "4  788.246094  405.309448  1272.484375  715.752808    0.688558      0  person\n",
      "5  199.954071  391.833679   435.857697  536.585144    0.676556     63  laptop\n",
      "6  864.911499  288.547180  1025.558594  365.310486    0.422369     56   chair\n",
      "7  864.191223  289.430664  1026.755127  367.691406    0.360663     13   bench\n",
      "8  779.807129  451.767883   944.262817  546.015686    0.261007     63  laptop\n",
      "         xmin        ymin         xmax        ymax  confidence  class    name\n",
      "0    1.343864   97.421066   195.340454  540.880859    0.872639      0  person\n",
      "1  372.821320  317.294769   810.192261  660.562744    0.840076      0  person\n",
      "2    1.474403  578.753845   244.023834  716.437073    0.817724      0  person\n",
      "3  590.771729  513.689880   818.365112  657.509827    0.807456     63  laptop\n",
      "4  787.502869  405.307861  1272.501465  715.864990    0.697002      0  person\n",
      "5  200.505951  392.137054   436.462250  536.645386    0.683033     63  laptop\n",
      "6  865.257263  289.007233  1025.484131  365.498932    0.430774     56   chair\n",
      "7  864.530212  289.761993  1026.387451  367.840851    0.365749     13   bench\n"
     ]
    },
    {
     "name": "stderr",
     "output_type": "stream",
     "text": [
      "C:\\Users\\ALFIYA/.cache\\torch\\hub\\ultralytics_yolov5_master\\models\\common.py:892: FutureWarning: `torch.cuda.amp.autocast(args...)` is deprecated. Please use `torch.amp.autocast('cuda', args...)` instead.\n",
      "  with amp.autocast(autocast):\n",
      "C:\\Users\\ALFIYA/.cache\\torch\\hub\\ultralytics_yolov5_master\\models\\common.py:892: FutureWarning: `torch.cuda.amp.autocast(args...)` is deprecated. Please use `torch.amp.autocast('cuda', args...)` instead.\n",
      "  with amp.autocast(autocast):\n"
     ]
    },
    {
     "name": "stdout",
     "output_type": "stream",
     "text": [
      "         xmin        ymin         xmax        ymax  confidence  class    name\n",
      "0    1.354767   97.528992   194.987686  540.836365    0.871468      0  person\n",
      "1  374.146423  317.386200   809.017517  660.597900    0.851881      0  person\n",
      "2    1.424431  579.971313   243.607788  716.470947    0.819791      0  person\n",
      "3  590.591064  513.610352   818.579224  657.667480    0.818539     63  laptop\n",
      "4  785.578430  405.724182  1272.589111  715.908875    0.693814      0  person\n",
      "5  252.367249  395.116058   428.850403  532.041199    0.676952     63  laptop\n",
      "6  864.844910  289.226990  1025.357544  365.627869    0.462730     56   chair\n",
      "7  864.024475  289.834778  1026.881348  368.328430    0.348741     13   bench\n",
      "8  779.602356  452.128510   943.108337  547.250000    0.289387     63  laptop\n",
      "9  498.415771  235.353699   664.749512  300.047302    0.252155     56   chair\n",
      "         xmin        ymin         xmax        ymax  confidence  class    name\n",
      "0    1.371048   97.068710   195.187561  540.893005    0.875582      0  person\n",
      "1  372.958435  317.166992   808.638733  660.921997    0.847422      0  person\n",
      "2  590.110718  514.646240   818.105835  658.029419    0.822782     63  laptop\n",
      "3    1.351013  581.039490   243.865448  716.486267    0.812891      0  person\n",
      "4  771.081482  407.045380  1268.648071  716.648438    0.713487      0  person\n",
      "5  252.681885  395.726135   429.393494  531.730347    0.660645     63  laptop\n",
      "6  865.295837  290.203949  1025.230591  366.102448    0.481281     56   chair\n",
      "7  864.320801  290.350220  1027.003662  368.978149    0.378850     13   bench\n",
      "8  779.867249  452.442657   943.425598  546.998352    0.320838     63  laptop\n",
      "9  499.067749  235.756348   664.692993  300.144775    0.289801     56   chair\n"
     ]
    },
    {
     "name": "stderr",
     "output_type": "stream",
     "text": [
      "C:\\Users\\ALFIYA/.cache\\torch\\hub\\ultralytics_yolov5_master\\models\\common.py:892: FutureWarning: `torch.cuda.amp.autocast(args...)` is deprecated. Please use `torch.amp.autocast('cuda', args...)` instead.\n",
      "  with amp.autocast(autocast):\n",
      "C:\\Users\\ALFIYA/.cache\\torch\\hub\\ultralytics_yolov5_master\\models\\common.py:892: FutureWarning: `torch.cuda.amp.autocast(args...)` is deprecated. Please use `torch.amp.autocast('cuda', args...)` instead.\n",
      "  with amp.autocast(autocast):\n"
     ]
    },
    {
     "name": "stdout",
     "output_type": "stream",
     "text": [
      "         xmin        ymin         xmax        ymax  confidence  class    name\n",
      "0    1.246323   97.375153   194.400452  541.022583    0.877549      0  person\n",
      "1  370.969238  316.278992   809.315918  662.396179    0.850796      0  person\n",
      "2  591.054382  515.063293   817.751160  658.664246    0.821575     63  laptop\n",
      "3    1.187378  581.568481   242.766922  716.408813    0.818692      0  person\n",
      "4  770.873474  408.027893  1268.409790  716.689392    0.735136      0  person\n",
      "5  195.992218  394.440796   438.993744  537.899841    0.686176     63  laptop\n",
      "6  864.519592  290.576538  1025.176880  366.569763    0.505612     56   chair\n",
      "7  498.870758  236.725250   664.203552  300.329498    0.339532     56   chair\n",
      "8  777.581665  452.302429   943.559082  548.336853    0.329861     63  laptop\n",
      "9  485.724213  142.709045   633.908264  205.479065    0.264414     56   chair\n",
      "          xmin        ymin         xmax        ymax  confidence  class    name\n",
      "0     1.214775   97.256134   193.655731  541.031494    0.883191      0  person\n",
      "1   370.430939  316.384766   807.934814  663.267944    0.856529      0  person\n",
      "2   591.023438  515.801331   816.427246  658.739075    0.824647     63  laptop\n",
      "3     1.069916  582.449585   243.011505  716.433594    0.817059      0  person\n",
      "4   770.178955  408.262451  1268.542480  716.920410    0.739237      0  person\n",
      "5   207.631134  395.070618   436.601898  537.777161    0.686033     63  laptop\n",
      "6   863.474487  290.848846  1024.871582  366.719269    0.475830     56   chair\n",
      "7   862.796753  291.251740  1026.955566  369.796539    0.357914     13   bench\n",
      "8   776.498108  452.789825   943.346985  548.733948    0.356993     63  laptop\n",
      "9   499.804504  237.066772   664.430237  300.414368    0.339694     56   chair\n",
      "10  485.971954  142.461563   634.133728  205.437698    0.266619     56   chair\n"
     ]
    },
    {
     "name": "stderr",
     "output_type": "stream",
     "text": [
      "C:\\Users\\ALFIYA/.cache\\torch\\hub\\ultralytics_yolov5_master\\models\\common.py:892: FutureWarning: `torch.cuda.amp.autocast(args...)` is deprecated. Please use `torch.amp.autocast('cuda', args...)` instead.\n",
      "  with amp.autocast(autocast):\n",
      "C:\\Users\\ALFIYA/.cache\\torch\\hub\\ultralytics_yolov5_master\\models\\common.py:892: FutureWarning: `torch.cuda.amp.autocast(args...)` is deprecated. Please use `torch.amp.autocast('cuda', args...)` instead.\n",
      "  with amp.autocast(autocast):\n"
     ]
    },
    {
     "name": "stdout",
     "output_type": "stream",
     "text": [
      "          xmin        ymin         xmax        ymax  confidence  class    name\n",
      "0     1.319542   96.787216   193.028595  541.268982    0.888032      0  person\n",
      "1   371.309265  316.278137   807.777161  663.257751    0.857371      0  person\n",
      "2   593.510010  515.965820   816.651489  659.150879    0.822711     63  laptop\n",
      "3     1.045616  582.006958   241.268250  716.445435    0.818412      0  person\n",
      "4   770.173584  408.504395  1269.570801  716.646484    0.732062      0  person\n",
      "5   213.480408  395.921326   435.429749  537.541443    0.685340     63  laptop\n",
      "6   861.685425  290.606750  1024.890137  367.326477    0.437141     56   chair\n",
      "7   861.511230  291.297821  1026.731323  370.379059    0.386067     13   bench\n",
      "8   774.349548  452.730103   942.870789  549.429688    0.385145     63  laptop\n",
      "9   500.040405  237.472809   664.083130  300.494659    0.341736     56   chair\n",
      "10  485.720367  140.873413   633.816406  205.546326    0.270576     56   chair\n",
      "          xmin        ymin         xmax        ymax  confidence  class    name\n",
      "0     1.434586   96.792908   192.324356  540.915894    0.890291      0  person\n",
      "1   371.068726  316.266663   807.142822  662.937073    0.857246      0  person\n",
      "2   593.093445  515.538635   816.729675  659.410217    0.823007     63  laptop\n",
      "3     1.027168  581.661804   241.352234  716.409119    0.819827      0  person\n",
      "4   771.614319  408.037262  1269.526978  717.024170    0.750355      0  person\n",
      "5   219.768036  396.528442   432.879974  537.403870    0.697174     63  laptop\n",
      "6   861.857666  290.706390  1024.964844  367.690399    0.446082     56   chair\n",
      "7   861.813843  291.295166  1026.870605  370.866394    0.387404     13   bench\n",
      "8   774.911133  453.045563   942.699951  548.938660    0.368164     63  laptop\n",
      "9   500.035797  237.728638   664.314209  300.570007    0.337347     56   chair\n",
      "10  486.022034  142.101227   633.570007  205.476227    0.277792     56   chair\n"
     ]
    },
    {
     "name": "stderr",
     "output_type": "stream",
     "text": [
      "C:\\Users\\ALFIYA/.cache\\torch\\hub\\ultralytics_yolov5_master\\models\\common.py:892: FutureWarning: `torch.cuda.amp.autocast(args...)` is deprecated. Please use `torch.amp.autocast('cuda', args...)` instead.\n",
      "  with amp.autocast(autocast):\n",
      "C:\\Users\\ALFIYA/.cache\\torch\\hub\\ultralytics_yolov5_master\\models\\common.py:892: FutureWarning: `torch.cuda.amp.autocast(args...)` is deprecated. Please use `torch.amp.autocast('cuda', args...)` instead.\n",
      "  with amp.autocast(autocast):\n"
     ]
    },
    {
     "name": "stdout",
     "output_type": "stream",
     "text": [
      "          xmin        ymin         xmax        ymax  confidence  class    name\n",
      "0     1.325729   96.752655   192.225128  540.602783    0.889774      0  person\n",
      "1   370.555145  316.061340   807.357300  663.459167    0.859631      0  person\n",
      "2   593.804199  515.669006   816.730103  659.432556    0.823393     63  laptop\n",
      "3     0.992554  581.535583   241.749298  716.495544    0.822359      0  person\n",
      "4   772.480408  408.200378  1269.708984  716.977356    0.744118      0  person\n",
      "5   219.792709  396.321198   432.752686  537.308838    0.703678     63  laptop\n",
      "6   861.378235  290.814148  1025.057129  367.714905    0.429903     56   chair\n",
      "7   861.570984  291.468445  1026.790283  371.011292    0.380073     13   bench\n",
      "8   774.417236  452.917633   942.800903  548.894409    0.371589     63  laptop\n",
      "9   499.727112  237.335968   664.678528  300.621735    0.320173     56   chair\n",
      "10  486.039185  140.132202   633.402954  205.502960    0.274588     56   chair\n",
      "          xmin        ymin         xmax        ymax  confidence  class    name\n",
      "0     1.207077   97.009735   192.446289  541.267578    0.886634      0  person\n",
      "1   367.755615  315.940857   807.295288  664.268494    0.850444      0  person\n",
      "2   593.214722  515.466370   817.655884  659.594666    0.823998     63  laptop\n",
      "3     0.987541  581.815613   241.457092  716.467834    0.822878      0  person\n",
      "4   772.218689  407.817383  1269.526123  717.214722    0.767585      0  person\n",
      "5   218.575897  396.150757   432.819977  537.417419    0.700977     63  laptop\n",
      "6   861.450806  290.739258  1024.971558  367.905823    0.408795     56   chair\n",
      "7   861.726013  291.539185  1026.732666  371.267090    0.385403     13   bench\n",
      "8   775.323486  452.822327   942.934570  548.471741    0.344915     63  laptop\n",
      "9   499.494263  237.050842   664.965576  300.805542    0.298605     56   chair\n",
      "10  486.500702  140.904343   633.887207  205.700760    0.260123     56   chair\n"
     ]
    },
    {
     "name": "stderr",
     "output_type": "stream",
     "text": [
      "C:\\Users\\ALFIYA/.cache\\torch\\hub\\ultralytics_yolov5_master\\models\\common.py:892: FutureWarning: `torch.cuda.amp.autocast(args...)` is deprecated. Please use `torch.amp.autocast('cuda', args...)` instead.\n",
      "  with amp.autocast(autocast):\n",
      "C:\\Users\\ALFIYA/.cache\\torch\\hub\\ultralytics_yolov5_master\\models\\common.py:892: FutureWarning: `torch.cuda.amp.autocast(args...)` is deprecated. Please use `torch.amp.autocast('cuda', args...)` instead.\n",
      "  with amp.autocast(autocast):\n"
     ]
    },
    {
     "name": "stdout",
     "output_type": "stream",
     "text": [
      "          xmin        ymin         xmax        ymax  confidence  class    name\n",
      "0     1.155357   97.142441   192.183441  541.771606    0.887086      0  person\n",
      "1   366.280487  315.762695   807.406738  665.462402    0.849736      0  person\n",
      "2   592.546509  515.331055   817.935913  659.711426    0.816045     63  laptop\n",
      "3     0.929153  582.193970   240.758484  716.488770    0.815522      0  person\n",
      "4   773.624390  407.641602  1269.674438  717.297363    0.774993      0  person\n",
      "5   223.780426  396.481323   431.967560  537.200073    0.709390     63  laptop\n",
      "6   861.664673  290.633728  1025.020630  367.851074    0.397838     56   chair\n",
      "7   862.100769  291.462769  1026.741211  371.142883    0.373939     13   bench\n",
      "8   774.671753  452.844391   942.923462  548.433594    0.342680     63  laptop\n",
      "9   499.697754  236.965515   665.084229  300.818237    0.291721     56   chair\n",
      "10  487.203308  141.515671   633.978455  205.383041    0.256748     56   chair\n",
      "          xmin        ymin         xmax        ymax  confidence  class    name\n",
      "0     1.154587   97.010910   192.289825  541.250183    0.888219      0  person\n",
      "1   365.758759  315.860107   807.146240  665.969849    0.850774      0  person\n",
      "2   592.378052  515.356628   817.910645  659.428040    0.813908     63  laptop\n",
      "3     0.868736  582.376709   239.845428  716.400391    0.811906      0  person\n",
      "4   773.583618  407.417816  1269.432861  717.347412    0.775752      0  person\n",
      "5   219.148193  396.900879   432.844604  537.244019    0.708461     63  laptop\n",
      "6   861.699890  290.615173  1025.288818  368.141052    0.401516     56   chair\n",
      "7   862.180115  291.376862  1026.787231  371.342438    0.376397     13   bench\n",
      "8   774.864502  452.885986   942.979004  548.185669    0.361203     63  laptop\n",
      "9   500.075562  237.162048   664.914673  300.898499    0.298266     56   chair\n",
      "10  487.032745  141.647415   633.873962  205.202530    0.259222     56   chair\n"
     ]
    },
    {
     "name": "stderr",
     "output_type": "stream",
     "text": [
      "C:\\Users\\ALFIYA/.cache\\torch\\hub\\ultralytics_yolov5_master\\models\\common.py:892: FutureWarning: `torch.cuda.amp.autocast(args...)` is deprecated. Please use `torch.amp.autocast('cuda', args...)` instead.\n",
      "  with amp.autocast(autocast):\n",
      "C:\\Users\\ALFIYA/.cache\\torch\\hub\\ultralytics_yolov5_master\\models\\common.py:892: FutureWarning: `torch.cuda.amp.autocast(args...)` is deprecated. Please use `torch.amp.autocast('cuda', args...)` instead.\n",
      "  with amp.autocast(autocast):\n"
     ]
    },
    {
     "name": "stdout",
     "output_type": "stream",
     "text": [
      "         xmin        ymin         xmax        ymax  confidence  class    name\n",
      "0    1.089912   97.159225   192.159241  542.148804    0.884565      0  person\n",
      "1  367.159424  315.896912   806.900635  665.682190    0.843158      0  person\n",
      "2    0.773430  583.234741   241.907928  716.579346    0.811261      0  person\n",
      "3  593.065918  514.902710   817.279785  660.097412    0.803177     63  laptop\n",
      "4  774.873413  407.216553  1269.453613  717.287842    0.776290      0  person\n",
      "5  234.133118  397.034973   430.253479  536.914978    0.695702     63  laptop\n",
      "6  862.427307  290.113831  1025.752197  368.101624    0.360387     56   chair\n",
      "7  863.552856  291.025696  1027.223145  371.260925    0.351453     13   bench\n",
      "8  775.156799  452.898193   942.557190  548.037109    0.313643     63  laptop\n",
      "9  499.861603  237.048401   664.853516  300.826355    0.294683     56   chair\n",
      "          xmin        ymin         xmax        ymax  confidence  class    name\n",
      "0     1.154404   97.117661   192.664581  542.695618    0.885195      0  person\n",
      "1   368.232788  316.017578   806.676392  664.731445    0.839035      0  person\n",
      "2   592.800110  514.923462   817.218689  660.110962    0.812467     63  laptop\n",
      "3     0.753036  583.082031   240.400970  716.599365    0.802638      0  person\n",
      "4   774.550781  407.510651  1269.055786  717.378784    0.790329      0  person\n",
      "5   227.536835  397.318512   431.305450  536.843933    0.706257     63  laptop\n",
      "6   862.957642  291.065063  1027.553223  371.496460    0.377538     13   bench\n",
      "7   861.901733  290.283752  1025.908203  368.309204    0.354835     56   chair\n",
      "8   500.022858  236.943268   664.933350  300.927032    0.313898     56   chair\n",
      "9   775.166443  452.836029   942.940735  548.162964    0.305222     63  laptop\n",
      "10  486.642578  142.724930   634.723267  205.656204    0.262337     56   chair\n"
     ]
    },
    {
     "name": "stderr",
     "output_type": "stream",
     "text": [
      "C:\\Users\\ALFIYA/.cache\\torch\\hub\\ultralytics_yolov5_master\\models\\common.py:892: FutureWarning: `torch.cuda.amp.autocast(args...)` is deprecated. Please use `torch.amp.autocast('cuda', args...)` instead.\n",
      "  with amp.autocast(autocast):\n",
      "C:\\Users\\ALFIYA/.cache\\torch\\hub\\ultralytics_yolov5_master\\models\\common.py:892: FutureWarning: `torch.cuda.amp.autocast(args...)` is deprecated. Please use `torch.amp.autocast('cuda', args...)` instead.\n",
      "  with amp.autocast(autocast):\n"
     ]
    },
    {
     "name": "stdout",
     "output_type": "stream",
     "text": [
      "          xmin        ymin         xmax        ymax  confidence  class    name\n",
      "0     1.102074   97.479141   192.523834  542.112122    0.885400      0  person\n",
      "1   368.195099  316.105957   806.687256  664.694824    0.838830      0  person\n",
      "2   592.840515  515.254395   816.899475  659.905151    0.803721     63  laptop\n",
      "3   774.855957  407.676392  1268.187012  717.398438    0.800639      0  person\n",
      "4     0.678116  583.410400   240.545166  716.452759    0.799140      0  person\n",
      "5   227.455353  397.568573   430.811371  537.024658    0.714716     63  laptop\n",
      "6   861.524048  290.315979  1025.480591  368.374207    0.372238     56   chair\n",
      "7   862.711792  291.292816  1027.380981  371.726593    0.360413     13   bench\n",
      "8   775.239990  452.927582   942.411133  548.612671    0.322987     63  laptop\n",
      "9   499.962982  236.718597   665.174316  300.999664    0.308413     56   chair\n",
      "10  486.556519  141.915054   634.464111  205.646347    0.255578     56   chair\n",
      "         xmin        ymin         xmax        ymax  confidence  class    name\n",
      "0    1.239075   97.372055   191.494080  541.967285    0.883696      0  person\n",
      "1  368.166718  316.064636   807.082886  664.404602    0.834451      0  person\n",
      "2  774.740356  408.084839  1268.255615  717.358521    0.807440      0  person\n",
      "3    0.714600  583.265930   238.753677  716.464905    0.804631      0  person\n",
      "4  593.164185  515.473511   816.413696  659.918335    0.791319     63  laptop\n",
      "5  225.893127  397.701996   430.367920  536.892090    0.718151     63  laptop\n",
      "6  861.973389  291.204895  1027.278442  371.989685    0.384381     13   bench\n",
      "7  859.324036  290.246857  1027.741699  368.776459    0.334776     56   chair\n",
      "8  774.605042  453.022980   942.436707  548.176453    0.319412     63  laptop\n",
      "9  500.290283  236.822540   665.175049  301.157623    0.298766     56   chair\n"
     ]
    },
    {
     "name": "stderr",
     "output_type": "stream",
     "text": [
      "C:\\Users\\ALFIYA/.cache\\torch\\hub\\ultralytics_yolov5_master\\models\\common.py:892: FutureWarning: `torch.cuda.amp.autocast(args...)` is deprecated. Please use `torch.amp.autocast('cuda', args...)` instead.\n",
      "  with amp.autocast(autocast):\n",
      "C:\\Users\\ALFIYA/.cache\\torch\\hub\\ultralytics_yolov5_master\\models\\common.py:892: FutureWarning: `torch.cuda.amp.autocast(args...)` is deprecated. Please use `torch.amp.autocast('cuda', args...)` instead.\n",
      "  with amp.autocast(autocast):\n"
     ]
    },
    {
     "name": "stdout",
     "output_type": "stream",
     "text": [
      "         xmin        ymin         xmax        ymax  confidence  class    name\n",
      "0    1.595001   97.199707   191.186188  543.020996    0.881964      0  person\n",
      "1  367.635864  316.051544   806.550293  664.443604    0.833299      0  person\n",
      "2  774.524048  408.015564  1267.335938  717.388000    0.803318      0  person\n",
      "3  590.761108  515.198242   816.435059  659.969360    0.800011     63  laptop\n",
      "4    0.521866  584.442261   239.108322  716.444092    0.794871      0  person\n",
      "5  227.353760  397.927979   429.632080  537.165527    0.722334     63  laptop\n",
      "6  862.427612  291.260895  1026.922974  372.198334    0.369198     13   bench\n",
      "7  774.087952  453.194000   942.324280  548.343140    0.343990     63  laptop\n",
      "8  859.356445  290.162170  1027.767700  369.175476    0.308056     56   chair\n",
      "9  500.180603  237.091339   664.942810  301.216400    0.291004     56   chair\n",
      "          xmin        ymin         xmax        ymax  confidence  class    name\n",
      "0     1.780937   96.925888   190.901062  542.628723    0.885827      0  person\n",
      "1   366.645996  315.680359   806.550659  664.958313    0.835164      0  person\n",
      "2   591.157043  515.593140   815.911804  660.388550    0.800051     63  laptop\n",
      "3     0.366112  583.821838   238.399811  716.503601    0.797676      0  person\n",
      "4   775.196533  408.002655  1267.388306  717.443237    0.797661      0  person\n",
      "5   241.059143  398.017731   426.238586  536.713501    0.720727     63  laptop\n",
      "6   862.297607  291.552765  1026.163452  371.901093    0.360559     13   bench\n",
      "7   775.513611  453.494385   941.586121  547.593994    0.337489     63  laptop\n",
      "8   499.741089  236.914124   665.041870  301.162170    0.303712     56   chair\n",
      "9   859.078430  290.337952  1026.810059  368.732117    0.296189     56   chair\n",
      "10  486.099243  143.520004   634.686768  205.837051    0.255940     56   chair\n"
     ]
    },
    {
     "name": "stderr",
     "output_type": "stream",
     "text": [
      "C:\\Users\\ALFIYA/.cache\\torch\\hub\\ultralytics_yolov5_master\\models\\common.py:892: FutureWarning: `torch.cuda.amp.autocast(args...)` is deprecated. Please use `torch.amp.autocast('cuda', args...)` instead.\n",
      "  with amp.autocast(autocast):\n",
      "C:\\Users\\ALFIYA/.cache\\torch\\hub\\ultralytics_yolov5_master\\models\\common.py:892: FutureWarning: `torch.cuda.amp.autocast(args...)` is deprecated. Please use `torch.amp.autocast('cuda', args...)` instead.\n",
      "  with amp.autocast(autocast):\n"
     ]
    },
    {
     "name": "stdout",
     "output_type": "stream",
     "text": [
      "          xmin        ymin         xmax        ymax  confidence  class    name\n",
      "0     1.714485   96.363876   190.162079  543.106628    0.889900      0  person\n",
      "1   367.267517  315.680054   805.801331  664.707275    0.836515      0  person\n",
      "2   589.678650  515.173035   815.710999  660.357483    0.805277     63  laptop\n",
      "3   775.790527  407.775391  1267.013794  717.915527    0.802807      0  person\n",
      "4     0.375771  584.255615   237.372620  716.404297    0.791087      0  person\n",
      "5   242.355881  397.816589   425.623657  536.876831    0.719236     63  laptop\n",
      "6   862.924561  291.389313  1025.988525  372.012360    0.360291     13   bench\n",
      "7   774.910461  453.415588   941.483826  547.805969    0.307766     63  laptop\n",
      "8   499.647034  237.033936   664.825378  301.143127    0.298434     56   chair\n",
      "9   859.772644  290.053314  1026.805664  368.910248    0.273853     56   chair\n",
      "10  486.018372  143.065582   634.642273  205.703400    0.256157     56   chair\n",
      "          xmin        ymin         xmax        ymax  confidence  class    name\n",
      "0     1.551651   96.286743   189.812576  543.061340    0.891391      0  person\n",
      "1   367.392761  315.566010   805.486877  664.484497    0.833541      0  person\n",
      "2   776.306091  407.715454  1266.586548  717.935791    0.807148      0  person\n",
      "3   589.080566  515.357056   815.229126  660.526611    0.805726     63  laptop\n",
      "4     0.231056  584.458130   237.374146  716.611450    0.786341      0  person\n",
      "5   240.274811  398.007385   425.617279  536.881042    0.716964     63  laptop\n",
      "6   863.024841  291.348419  1025.989258  372.022186    0.364169     13   bench\n",
      "7   499.602783  236.978333   664.920532  301.129211    0.298995     56   chair\n",
      "8   774.245361  453.389038   941.412720  547.850220    0.289126     63  laptop\n",
      "9   859.770386  290.063293  1026.948242  368.975830    0.276565     56   chair\n",
      "10  486.014587  142.514511   634.583801  205.657547    0.264472     56   chair\n"
     ]
    },
    {
     "name": "stderr",
     "output_type": "stream",
     "text": [
      "C:\\Users\\ALFIYA/.cache\\torch\\hub\\ultralytics_yolov5_master\\models\\common.py:892: FutureWarning: `torch.cuda.amp.autocast(args...)` is deprecated. Please use `torch.amp.autocast('cuda', args...)` instead.\n",
      "  with amp.autocast(autocast):\n",
      "C:\\Users\\ALFIYA/.cache\\torch\\hub\\ultralytics_yolov5_master\\models\\common.py:892: FutureWarning: `torch.cuda.amp.autocast(args...)` is deprecated. Please use `torch.amp.autocast('cuda', args...)` instead.\n",
      "  with amp.autocast(autocast):\n"
     ]
    },
    {
     "name": "stdout",
     "output_type": "stream",
     "text": [
      "          xmin        ymin         xmax        ymax  confidence  class    name\n",
      "0     1.410606   96.137207   189.653564  542.373596    0.884279      0  person\n",
      "1   367.845703  315.673279   805.756226  664.071960    0.832931      0  person\n",
      "2   775.782776  407.889740  1265.727295  717.570801    0.810262      0  person\n",
      "3   586.894531  515.506287   814.285645  660.639465    0.810180     63  laptop\n",
      "4     0.185257  584.180542   238.278244  716.427002    0.785361      0  person\n",
      "5   237.536652  398.085541   425.610870  537.021729    0.710610     63  laptop\n",
      "6   862.546631  291.334839  1025.835938  372.150452    0.344442     13   bench\n",
      "7   499.634857  237.171753   664.612183  301.241394    0.305495     56   chair\n",
      "8   773.383911  453.458801   941.521240  548.226379    0.297686     63  laptop\n",
      "9   859.244263  289.903870  1026.780029  369.004761    0.268701     56   chair\n",
      "10  486.059692  143.021332   634.355103  205.640442    0.266935     56   chair\n",
      "         xmin        ymin         xmax        ymax  confidence  class    name\n",
      "0    1.657845   96.575500   189.302643  542.240723    0.881799      0  person\n",
      "1  367.945618  315.529846   805.454529  663.921082    0.832392      0  person\n",
      "2  585.528320  515.580811   813.471436  660.796387    0.817989     63  laptop\n",
      "3  775.885864  408.592834  1264.982056  717.292053    0.812097      0  person\n",
      "4    0.272301  584.257202   238.444916  716.262695    0.783267      0  person\n",
      "5  216.875183  397.688782   428.184631  537.320435    0.721451     63  laptop\n",
      "6  863.488831  291.404297  1025.567261  372.200806    0.316776     13   bench\n",
      "7  772.829468  453.421051   941.267334  548.278442    0.307853     63  laptop\n",
      "8  498.895752  237.005432   664.792114  301.242859    0.297623     56   chair\n",
      "9  860.981812  289.761475  1024.386841  368.932678    0.266185     56   chair\n"
     ]
    },
    {
     "name": "stderr",
     "output_type": "stream",
     "text": [
      "C:\\Users\\ALFIYA/.cache\\torch\\hub\\ultralytics_yolov5_master\\models\\common.py:892: FutureWarning: `torch.cuda.amp.autocast(args...)` is deprecated. Please use `torch.amp.autocast('cuda', args...)` instead.\n",
      "  with amp.autocast(autocast):\n",
      "C:\\Users\\ALFIYA/.cache\\torch\\hub\\ultralytics_yolov5_master\\models\\common.py:892: FutureWarning: `torch.cuda.amp.autocast(args...)` is deprecated. Please use `torch.amp.autocast('cuda', args...)` instead.\n",
      "  with amp.autocast(autocast):\n"
     ]
    },
    {
     "name": "stdout",
     "output_type": "stream",
     "text": [
      "         xmin        ymin         xmax        ymax  confidence  class    name\n",
      "0    1.576912   96.459747   189.203552  541.837280    0.887589      0  person\n",
      "1  367.858063  315.595093   805.172852  663.694214    0.829774      0  person\n",
      "2  583.732849  515.435913   812.524719  660.951294    0.824290     63  laptop\n",
      "3  774.254028  408.602997  1264.296997  716.786377    0.807307      0  person\n",
      "4    0.271042  583.693420   237.356262  716.298035    0.788853      0  person\n",
      "5  218.148254  397.728088   427.968689  537.230713    0.721714     63  laptop\n",
      "6  863.812683  291.363953  1025.314941  372.151917    0.310983     13   bench\n",
      "7  772.868652  453.409424   940.868774  548.199829    0.310737     63  laptop\n",
      "8  498.716064  237.102753   664.417480  301.181610    0.271182     56   chair\n",
      "9  861.419617  289.668152  1024.072754  368.879272    0.264291     56   chair\n",
      "         xmin        ymin         xmax        ymax  confidence  class    name\n",
      "0    1.596970   96.156250   188.456497  541.524353    0.878646      0  person\n",
      "1  367.425720  315.633728   805.752136  663.900330    0.829190      0  person\n",
      "2  583.146118  515.567200   811.576416  661.685852    0.824057     63  laptop\n",
      "3  773.719238  408.392059  1264.426025  716.767944    0.802188      0  person\n",
      "4    0.264084  583.513245   237.272415  716.270569    0.784417      0  person\n",
      "5  212.152542  397.954742   428.703186  537.281372    0.720805     63  laptop\n",
      "6  863.771301  291.456268  1024.535400  372.325348    0.294741     13   bench\n",
      "7  498.686218  237.211182   664.157776  301.102661    0.269058     56   chair\n",
      "8  861.207764  289.771820  1023.343628  368.870697    0.259246     56   chair\n",
      "9  773.506104  453.412628   940.901855  547.929626    0.255158     63  laptop\n"
     ]
    },
    {
     "name": "stderr",
     "output_type": "stream",
     "text": [
      "C:\\Users\\ALFIYA/.cache\\torch\\hub\\ultralytics_yolov5_master\\models\\common.py:892: FutureWarning: `torch.cuda.amp.autocast(args...)` is deprecated. Please use `torch.amp.autocast('cuda', args...)` instead.\n",
      "  with amp.autocast(autocast):\n",
      "C:\\Users\\ALFIYA/.cache\\torch\\hub\\ultralytics_yolov5_master\\models\\common.py:892: FutureWarning: `torch.cuda.amp.autocast(args...)` is deprecated. Please use `torch.amp.autocast('cuda', args...)` instead.\n",
      "  with amp.autocast(autocast):\n"
     ]
    },
    {
     "name": "stdout",
     "output_type": "stream",
     "text": [
      "         xmin        ymin         xmax        ymax  confidence  class    name\n",
      "0    1.376709   95.851700   187.758148  541.926270    0.881364      0  person\n",
      "1  366.815094  315.707062   805.134644  663.776733    0.826989      0  person\n",
      "2  581.941467  515.591675   810.312073  661.962769    0.824931     63  laptop\n",
      "3  772.985229  408.369476  1264.071655  717.168213    0.813282      0  person\n",
      "4    0.231964  583.899536   235.800125  716.359863    0.775211      0  person\n",
      "5  194.950684  398.099884   430.612305  537.186646    0.737444     63  laptop\n",
      "6  862.823242  291.479156  1024.721924  372.220551    0.287884     13   bench\n",
      "7  860.550903  289.702728  1023.429321  368.767731    0.277243     56   chair\n",
      "8  498.264709  237.227203   664.206848  301.305878    0.276186     56   chair\n",
      "         xmin        ymin         xmax        ymax  confidence  class    name\n",
      "0    1.355232   95.269623   187.948181  541.933228    0.881394      0  person\n",
      "1  366.219391  315.791138   804.346313  664.277466    0.822524      0  person\n",
      "2  581.002258  515.530945   809.100037  662.067566    0.817502     63  laptop\n",
      "3  772.249451  408.506622  1263.447754  717.129150    0.809491      0  person\n",
      "4    0.202667  584.386230   234.289566  716.043335    0.778678      0  person\n",
      "5  199.932770  397.840393   430.109955  537.054871    0.732155     63  laptop\n",
      "6  862.148682  291.342438  1024.785034  371.823578    0.291433     13   bench\n",
      "7  859.820251  289.530945  1023.844543  368.511597    0.268988     56   chair\n",
      "8  498.802948  237.443604   664.145203  301.350769    0.268767     56   chair\n",
      "9  773.679321  453.334381   940.375854  548.020203    0.254478     63  laptop\n"
     ]
    },
    {
     "name": "stderr",
     "output_type": "stream",
     "text": [
      "C:\\Users\\ALFIYA/.cache\\torch\\hub\\ultralytics_yolov5_master\\models\\common.py:892: FutureWarning: `torch.cuda.amp.autocast(args...)` is deprecated. Please use `torch.amp.autocast('cuda', args...)` instead.\n",
      "  with amp.autocast(autocast):\n",
      "C:\\Users\\ALFIYA/.cache\\torch\\hub\\ultralytics_yolov5_master\\models\\common.py:892: FutureWarning: `torch.cuda.amp.autocast(args...)` is deprecated. Please use `torch.amp.autocast('cuda', args...)` instead.\n",
      "  with amp.autocast(autocast):\n"
     ]
    },
    {
     "name": "stdout",
     "output_type": "stream",
     "text": [
      "         xmin        ymin         xmax        ymax  confidence  class    name\n",
      "0    1.362091   94.757294   187.680740  541.492798    0.881551      0  person\n",
      "1  365.305115  315.788818   804.481628  664.145752    0.818385      0  person\n",
      "2  581.379517  515.456055   809.999268  662.011475    0.814081     63  laptop\n",
      "3  771.426636  408.491516  1263.162354  717.216980    0.804531      0  person\n",
      "4    0.174194  583.571777   234.221664  715.939087    0.764053      0  person\n",
      "5  203.451721  397.880066   429.102905  536.949402    0.729251     63  laptop\n",
      "6  860.444092  289.615936  1023.059570  368.532257    0.308316     56   chair\n",
      "7  773.562256  453.272064   940.061523  547.800415    0.303419     63  laptop\n",
      "8  861.295410  290.125549  1024.807739  369.530090    0.294578     13   bench\n",
      "         xmin        ymin         xmax        ymax  confidence  class    name\n",
      "0    1.365372   94.733887   188.105850  541.204041    0.884825      0  person\n",
      "1  362.864258  315.732056   804.182983  664.775635    0.818174      0  person\n",
      "2  580.265808  515.455933   809.282288  662.226440    0.815270     63  laptop\n",
      "3  769.992920  408.435120  1263.720215  717.130310    0.796032      0  person\n",
      "4    0.185577  583.797791   235.155594  715.953796    0.767984      0  person\n",
      "5  204.738708  398.027832   429.034058  537.144836    0.722796     63  laptop\n",
      "6  773.154724  453.175629   939.886414  548.029053    0.312262     63  laptop\n",
      "7  860.386475  289.765900  1022.973633  368.415131    0.305967     56   chair\n",
      "8  862.599182  291.345886  1024.232056  371.973877    0.297458     13   bench\n"
     ]
    },
    {
     "name": "stderr",
     "output_type": "stream",
     "text": [
      "C:\\Users\\ALFIYA/.cache\\torch\\hub\\ultralytics_yolov5_master\\models\\common.py:892: FutureWarning: `torch.cuda.amp.autocast(args...)` is deprecated. Please use `torch.amp.autocast('cuda', args...)` instead.\n",
      "  with amp.autocast(autocast):\n",
      "C:\\Users\\ALFIYA/.cache\\torch\\hub\\ultralytics_yolov5_master\\models\\common.py:892: FutureWarning: `torch.cuda.amp.autocast(args...)` is deprecated. Please use `torch.amp.autocast('cuda', args...)` instead.\n",
      "  with amp.autocast(autocast):\n"
     ]
    },
    {
     "name": "stdout",
     "output_type": "stream",
     "text": [
      "         xmin        ymin         xmax        ymax  confidence  class    name\n",
      "0    1.433189   94.880371   187.921082  541.244263    0.882795      0  person\n",
      "1  579.926270  514.939209   808.445801  662.340820    0.821475     63  laptop\n",
      "2  362.525391  315.656586   802.545044  664.957520    0.812218      0  person\n",
      "3  769.007690  408.226654  1263.951294  717.120117    0.795552      0  person\n",
      "4    0.168625  583.868835   235.507187  715.903259    0.774441      0  person\n",
      "5  206.343658  398.069580   429.039215  537.162109    0.719433     63  laptop\n",
      "6  862.684570  291.347565  1024.553467  371.880890    0.285570     13   bench\n",
      "7  860.602661  289.713104  1023.256348  368.378632    0.282833     56   chair\n",
      "8  772.175293  452.945312   939.389526  548.164917    0.259322     63  laptop\n",
      "         xmin        ymin         xmax        ymax  confidence  class    name\n",
      "0    1.540627   94.686279   187.404633  541.670654    0.882502      0  person\n",
      "1  361.771545  315.248718   802.724915  664.607727    0.804412      0  person\n",
      "2  579.183960  514.453613   808.495361  662.422974    0.803520     63  laptop\n",
      "3  768.651733  408.194733  1264.601440  717.155640    0.790550      0  person\n",
      "4    0.234665  583.363892   234.967026  715.956909    0.775481      0  person\n",
      "5  189.773529  397.888214   429.693512  537.329956    0.740692     63  laptop\n",
      "6  862.661133  291.165405  1024.588501  372.013306    0.298263     13   bench\n",
      "7  771.712769  452.571960   938.997803  548.304749    0.277119     63  laptop\n",
      "8  860.637939  289.443909  1023.604248  368.570923    0.272327     56   chair\n"
     ]
    },
    {
     "name": "stderr",
     "output_type": "stream",
     "text": [
      "C:\\Users\\ALFIYA/.cache\\torch\\hub\\ultralytics_yolov5_master\\models\\common.py:892: FutureWarning: `torch.cuda.amp.autocast(args...)` is deprecated. Please use `torch.amp.autocast('cuda', args...)` instead.\n",
      "  with amp.autocast(autocast):\n",
      "C:\\Users\\ALFIYA/.cache\\torch\\hub\\ultralytics_yolov5_master\\models\\common.py:892: FutureWarning: `torch.cuda.amp.autocast(args...)` is deprecated. Please use `torch.amp.autocast('cuda', args...)` instead.\n",
      "  with amp.autocast(autocast):\n"
     ]
    },
    {
     "name": "stdout",
     "output_type": "stream",
     "text": [
      "         xmin        ymin         xmax        ymax  confidence  class    name\n",
      "0    1.730453   94.672638   187.387314  541.668457    0.873218      0  person\n",
      "1  579.223511  514.868347   808.247681  662.595886    0.806921     63  laptop\n",
      "2  360.466248  315.006775   802.744934  664.793152    0.800260      0  person\n",
      "3  768.701233  407.788635  1264.651855  717.112488    0.783621      0  person\n",
      "4    0.388634  583.766541   234.286346  715.906433    0.762617      0  person\n",
      "5  183.346359  397.840363   429.444580  537.477539    0.739993     63  laptop\n",
      "6  862.962097  291.067780  1024.299194  371.943512    0.304263     13   bench\n",
      "7  860.773804  289.378021  1023.514160  368.671600    0.258931     56   chair\n",
      "         xmin        ymin         xmax        ymax  confidence  class    name\n",
      "0    2.036674   94.788620   187.252838  541.584900    0.873873      0  person\n",
      "1  577.844055  514.568176   809.056091  662.421448    0.805683     63  laptop\n",
      "2  359.893372  314.946960   802.473938  664.695862    0.796075      0  person\n",
      "3  769.028809  407.809387  1264.437012  717.025208    0.776640      0  person\n",
      "4    0.475639  583.558350   232.039734  715.905518    0.767935      0  person\n",
      "5  187.098206  397.677277   428.919006  537.550781    0.728273     63  laptop\n",
      "6  863.531921  291.052734  1023.771057  371.890564    0.297068     13   bench\n"
     ]
    },
    {
     "name": "stderr",
     "output_type": "stream",
     "text": [
      "C:\\Users\\ALFIYA/.cache\\torch\\hub\\ultralytics_yolov5_master\\models\\common.py:892: FutureWarning: `torch.cuda.amp.autocast(args...)` is deprecated. Please use `torch.amp.autocast('cuda', args...)` instead.\n",
      "  with amp.autocast(autocast):\n",
      "C:\\Users\\ALFIYA/.cache\\torch\\hub\\ultralytics_yolov5_master\\models\\common.py:892: FutureWarning: `torch.cuda.amp.autocast(args...)` is deprecated. Please use `torch.amp.autocast('cuda', args...)` instead.\n",
      "  with amp.autocast(autocast):\n"
     ]
    },
    {
     "name": "stdout",
     "output_type": "stream",
     "text": [
      "         xmin        ymin         xmax        ymax  confidence  class    name\n",
      "0    2.169640   94.848389   187.134399  541.479858    0.870298      0  person\n",
      "1  577.995239  514.608887   808.838867  662.458252    0.798119     63  laptop\n",
      "2  359.049316  314.883362   802.000488  664.662781    0.788157      0  person\n",
      "3  769.073730  407.724426  1264.078369  717.033997    0.774194      0  person\n",
      "4    0.443916  583.509521   233.608887  715.895264    0.767586      0  person\n",
      "5  188.544983  397.786621   428.927185  537.572449    0.725145     63  laptop\n",
      "6  863.380798  291.007751  1023.977356  371.927246    0.303643     13   bench\n",
      "         xmin        ymin         xmax        ymax  confidence  class    name\n",
      "0    2.090569   95.028168   186.742401  541.587402    0.871715      0  person\n",
      "1  577.886475  514.334595   808.778442  662.292358    0.801958     63  laptop\n",
      "2  357.948822  314.623230   802.000610  665.243591    0.784774      0  person\n",
      "3    0.280144  582.807434   233.141296  715.760315    0.778609      0  person\n",
      "4  770.472168  407.578674  1264.032227  717.072815    0.767097      0  person\n",
      "5  193.019043  397.849640   428.342407  537.337524    0.725395     63  laptop\n",
      "6  863.347656  290.914886  1024.130737  371.965729    0.307433     13   bench\n"
     ]
    },
    {
     "name": "stderr",
     "output_type": "stream",
     "text": [
      "C:\\Users\\ALFIYA/.cache\\torch\\hub\\ultralytics_yolov5_master\\models\\common.py:892: FutureWarning: `torch.cuda.amp.autocast(args...)` is deprecated. Please use `torch.amp.autocast('cuda', args...)` instead.\n",
      "  with amp.autocast(autocast):\n",
      "C:\\Users\\ALFIYA/.cache\\torch\\hub\\ultralytics_yolov5_master\\models\\common.py:892: FutureWarning: `torch.cuda.amp.autocast(args...)` is deprecated. Please use `torch.amp.autocast('cuda', args...)` instead.\n",
      "  with amp.autocast(autocast):\n"
     ]
    },
    {
     "name": "stdout",
     "output_type": "stream",
     "text": [
      "         xmin        ymin         xmax        ymax  confidence  class    name\n",
      "0    2.003494   95.272568   186.982071  541.147949    0.874079      0  person\n",
      "1  578.506897  514.399170   808.549133  662.106812    0.788804     63  laptop\n",
      "2  357.046417  314.543915   801.749634  665.725098    0.781039      0  person\n",
      "3    0.269234  582.960693   233.015259  715.810913    0.779258      0  person\n",
      "4  770.842529  407.346863  1263.827515  716.941589    0.745904      0  person\n",
      "5  192.327866  397.777344   428.244202  537.302795    0.723552     63  laptop\n",
      "6  863.162598  290.916748  1024.028442  371.991089    0.317792     13   bench\n",
      "         xmin        ymin         xmax        ymax  confidence  class    name\n",
      "0    2.123657   95.232468   186.728851  541.245789    0.875185      0  person\n",
      "1  579.001953  514.147888   808.690796  662.428040    0.794110     63  laptop\n",
      "2  356.897034  314.610168   801.023132  665.860291    0.777992      0  person\n",
      "3    0.262062  582.749695   233.296204  715.908997    0.777098      0  person\n",
      "4  770.924805  407.303680  1263.548828  717.097656    0.750326      0  person\n",
      "5  192.276611  397.473694   428.358276  537.479919    0.726099     63  laptop\n",
      "6  862.680359  291.074921  1023.646667  372.051361    0.339352     13   bench\n"
     ]
    },
    {
     "name": "stderr",
     "output_type": "stream",
     "text": [
      "C:\\Users\\ALFIYA/.cache\\torch\\hub\\ultralytics_yolov5_master\\models\\common.py:892: FutureWarning: `torch.cuda.amp.autocast(args...)` is deprecated. Please use `torch.amp.autocast('cuda', args...)` instead.\n",
      "  with amp.autocast(autocast):\n",
      "C:\\Users\\ALFIYA/.cache\\torch\\hub\\ultralytics_yolov5_master\\models\\common.py:892: FutureWarning: `torch.cuda.amp.autocast(args...)` is deprecated. Please use `torch.amp.autocast('cuda', args...)` instead.\n",
      "  with amp.autocast(autocast):\n"
     ]
    },
    {
     "name": "stdout",
     "output_type": "stream",
     "text": [
      "         xmin        ymin         xmax        ymax  confidence  class    name\n",
      "0    2.358467   95.478241   186.793091  540.683838    0.863650      0  person\n",
      "1  578.545776  514.078308   808.165161  662.521301    0.804282     63  laptop\n",
      "2    0.283897  582.753662   233.052399  715.853516    0.774962      0  person\n",
      "3  356.965942  314.347198   800.437134  666.014404    0.772877      0  person\n",
      "4  770.387207  407.166931  1263.466431  717.105896    0.741498      0  person\n",
      "5  191.859940  397.602783   428.833130  537.497559    0.728457     63  laptop\n",
      "6  862.291016  291.035370  1023.879761  372.312958    0.339527     13   bench\n",
      "7  859.060181  289.577820  1025.296509  369.028687    0.272678     56   chair\n",
      "         xmin        ymin         xmax        ymax  confidence  class    name\n",
      "0    2.672455   95.364197   187.696594  541.177124    0.858063      0  person\n",
      "1  578.502563  514.058655   808.131348  662.528992    0.802234     63  laptop\n",
      "2    0.360397  583.285889   233.062851  715.845947    0.775636      0  person\n",
      "3  357.532410  314.317139   800.817200  665.590088    0.771406      0  person\n",
      "4  770.477844  407.294067  1263.682373  716.985962    0.740201      0  person\n",
      "5  195.834808  397.335938   428.520416  537.355896    0.717878     63  laptop\n",
      "6  862.482605  291.089569  1023.778381  372.084503    0.341030     13   bench\n",
      "7  859.234985  289.682922  1025.236084  368.908875    0.274099     56   chair\n"
     ]
    },
    {
     "name": "stderr",
     "output_type": "stream",
     "text": [
      "C:\\Users\\ALFIYA/.cache\\torch\\hub\\ultralytics_yolov5_master\\models\\common.py:892: FutureWarning: `torch.cuda.amp.autocast(args...)` is deprecated. Please use `torch.amp.autocast('cuda', args...)` instead.\n",
      "  with amp.autocast(autocast):\n",
      "C:\\Users\\ALFIYA/.cache\\torch\\hub\\ultralytics_yolov5_master\\models\\common.py:892: FutureWarning: `torch.cuda.amp.autocast(args...)` is deprecated. Please use `torch.amp.autocast('cuda', args...)` instead.\n",
      "  with amp.autocast(autocast):\n"
     ]
    },
    {
     "name": "stdout",
     "output_type": "stream",
     "text": [
      "         xmin        ymin         xmax        ymax  confidence  class    name\n",
      "0    2.769684   95.766068   187.958206  541.627930    0.865486      0  person\n",
      "1  578.568848  514.196167   808.228638  662.381226    0.803666     63  laptop\n",
      "2    0.341095  583.044189   233.415817  715.792725    0.775579      0  person\n",
      "3  356.782532  314.159027   800.674866  665.710327    0.765035      0  person\n",
      "4  768.591858  407.577820  1263.729980  716.910950    0.743890      0  person\n",
      "5  201.507812  397.256348   428.473083  537.164612    0.708710     63  laptop\n",
      "6  862.343323  291.063538  1023.990662  372.120850    0.354943     13   bench\n",
      "7  859.333069  289.815186  1025.365234  368.969727    0.289551     56   chair\n",
      "8  498.095734  237.389008   663.166138  301.149567    0.256297     56   chair\n",
      "         xmin        ymin         xmax        ymax  confidence  class    name\n",
      "0    2.733597   96.652649   188.672943  541.659424    0.861749      0  person\n",
      "1  578.268982  514.357788   808.278625  662.312988    0.803331     63  laptop\n",
      "2    0.374138  582.526672   233.425293  715.819397    0.783006      0  person\n",
      "3  356.729431  314.067810   800.387024  666.019958    0.763150      0  person\n",
      "4  768.737549  407.562927  1265.046143  716.825989    0.742341      0  person\n",
      "5  191.257309  397.431519   429.469727  537.432739    0.722914     63  laptop\n",
      "6  862.388245  291.069305  1024.086670  372.092255    0.351859     13   bench\n",
      "7  859.349854  289.869781  1025.550293  368.875702    0.301871     56   chair\n",
      "8  498.407166  237.638702   663.130066  301.200836    0.266617     56   chair\n",
      "9  485.793427  142.494247   633.246338  205.279221    0.253563     56   chair\n"
     ]
    },
    {
     "name": "stderr",
     "output_type": "stream",
     "text": [
      "C:\\Users\\ALFIYA/.cache\\torch\\hub\\ultralytics_yolov5_master\\models\\common.py:892: FutureWarning: `torch.cuda.amp.autocast(args...)` is deprecated. Please use `torch.amp.autocast('cuda', args...)` instead.\n",
      "  with amp.autocast(autocast):\n",
      "C:\\Users\\ALFIYA/.cache\\torch\\hub\\ultralytics_yolov5_master\\models\\common.py:892: FutureWarning: `torch.cuda.amp.autocast(args...)` is deprecated. Please use `torch.amp.autocast('cuda', args...)` instead.\n",
      "  with amp.autocast(autocast):\n"
     ]
    },
    {
     "name": "stdout",
     "output_type": "stream",
     "text": [
      "          xmin        ymin         xmax        ymax  confidence  class    name\n",
      "0     3.395065   97.678543   188.828018  542.188171    0.829281      0  person\n",
      "1   578.411621  514.575684   807.795288  662.234863    0.810634     63  laptop\n",
      "2     0.381905  583.024170   233.338867  715.859619    0.782353      0  person\n",
      "3   768.972290  407.778015  1264.603638  716.845642    0.764641      0  person\n",
      "4   355.326904  313.786499   800.091064  666.452393    0.757665      0  person\n",
      "5   184.935867  397.350037   429.674622  537.596252    0.737634     63  laptop\n",
      "6   862.137390  290.915894  1024.701782  372.004395    0.346008     13   bench\n",
      "7   859.398010  289.904358  1026.113525  368.841125    0.326559     56   chair\n",
      "8   954.746277  579.722229   984.695374  719.598083    0.254955     27     tie\n",
      "9   485.602417  142.281158   633.421631  205.199921    0.254949     56   chair\n",
      "10  497.902527  237.468628   663.418030  301.318298    0.254513     56   chair\n",
      "         xmin        ymin         xmax        ymax  confidence  class    name\n",
      "0    2.559448   98.731110   188.877075  540.265869    0.857779      0  person\n",
      "1  577.859924  514.528748   807.998352  662.229797    0.810755     63  laptop\n",
      "2    0.420334  582.986633   232.458588  716.031189    0.785606      0  person\n",
      "3  770.370728  407.507080  1264.697388  717.185913    0.772704      0  person\n",
      "4  355.794617  314.215393   800.605164  665.791443    0.771282      0  person\n",
      "5  186.129852  397.558319   428.841705  537.245361    0.738397     63  laptop\n",
      "6  862.060120  291.131592  1024.975220  371.864990    0.357151     13   bench\n",
      "7  859.605591  290.277191  1026.142578  368.639496    0.352180     56   chair\n",
      "8  954.463562  579.439941   984.740173  719.508911    0.264974     27     tie\n",
      "9  497.285217  237.772491   663.211243  301.545807    0.264048     56   chair\n"
     ]
    },
    {
     "name": "stderr",
     "output_type": "stream",
     "text": [
      "C:\\Users\\ALFIYA/.cache\\torch\\hub\\ultralytics_yolov5_master\\models\\common.py:892: FutureWarning: `torch.cuda.amp.autocast(args...)` is deprecated. Please use `torch.amp.autocast('cuda', args...)` instead.\n",
      "  with amp.autocast(autocast):\n",
      "C:\\Users\\ALFIYA/.cache\\torch\\hub\\ultralytics_yolov5_master\\models\\common.py:892: FutureWarning: `torch.cuda.amp.autocast(args...)` is deprecated. Please use `torch.amp.autocast('cuda', args...)` instead.\n",
      "  with amp.autocast(autocast):\n"
     ]
    },
    {
     "name": "stdout",
     "output_type": "stream",
     "text": [
      "         xmin        ymin         xmax        ymax  confidence  class    name\n",
      "0    1.998337   99.833710   188.488144  540.280762    0.875712      0  person\n",
      "1  577.510376  514.135254   807.372559  662.186890    0.805615     63  laptop\n",
      "2    0.261703  582.797302   232.624100  716.130310    0.796179      0  person\n",
      "3  366.234802  314.742432   800.394226  660.447510    0.772188      0  person\n",
      "4  768.498352  407.461487  1264.870972  717.085266    0.767807      0  person\n",
      "5  184.084351  397.832428   428.546997  537.252808    0.748505     63  laptop\n",
      "6  861.730591  290.385315  1026.155884  369.551208    0.333280     13   bench\n",
      "7  859.702271  290.011139  1026.559937  368.727448    0.322287     56   chair\n",
      "8  953.581543  579.512512   983.884033  719.649231    0.264302     27     tie\n",
      "9  497.318665  237.746490   663.325500  301.458160    0.258378     56   chair\n",
      "         xmin        ymin         xmax        ymax  confidence  class    name\n",
      "0    2.014435  101.096313   187.575592  540.296143    0.876448      0  person\n",
      "1  372.607788  312.679443   797.104126  654.971558    0.838066      0  person\n",
      "2  577.535583  514.011475   807.364319  661.971191    0.805722     63  laptop\n",
      "3    0.216522  581.956787   232.375885  716.038208    0.797273      0  person\n",
      "4  767.549438  407.460815  1264.037964  716.931152    0.757623      0  person\n",
      "5  186.844025  397.483459   427.256683  537.181152    0.748977     63  laptop\n",
      "6  860.828979  289.900421  1024.268555  368.623810    0.359333     56   chair\n",
      "7  861.403137  290.136505  1025.901855  369.409149    0.342504     13   bench\n",
      "8  497.618286  237.760620   663.163574  301.474670    0.276113     56   chair\n",
      "9  953.443481  579.941467   983.754028  719.562073    0.259487     27     tie\n"
     ]
    },
    {
     "name": "stderr",
     "output_type": "stream",
     "text": [
      "C:\\Users\\ALFIYA/.cache\\torch\\hub\\ultralytics_yolov5_master\\models\\common.py:892: FutureWarning: `torch.cuda.amp.autocast(args...)` is deprecated. Please use `torch.amp.autocast('cuda', args...)` instead.\n",
      "  with amp.autocast(autocast):\n",
      "C:\\Users\\ALFIYA/.cache\\torch\\hub\\ultralytics_yolov5_master\\models\\common.py:892: FutureWarning: `torch.cuda.amp.autocast(args...)` is deprecated. Please use `torch.amp.autocast('cuda', args...)` instead.\n",
      "  with amp.autocast(autocast):\n"
     ]
    },
    {
     "name": "stdout",
     "output_type": "stream",
     "text": [
      "         xmin        ymin         xmax        ymax  confidence  class    name\n",
      "0    2.084808  101.535507   188.177719  539.204712    0.880965      0  person\n",
      "1  377.248718  312.895203   796.179749  652.261292    0.861174      0  person\n",
      "2  577.569946  514.103027   806.875610  661.651245    0.801861     63  laptop\n",
      "3    0.276375  581.658142   230.939453  715.921326    0.798129      0  person\n",
      "4  767.044312  407.647278  1263.039062  716.929016    0.750405      0  person\n",
      "5  184.826767  397.547791   427.144897  537.399353    0.743589     63  laptop\n",
      "6  860.501160  289.651184  1024.245117  368.827026    0.357386     56   chair\n",
      "7  861.050049  290.073761  1025.862793  369.771393    0.334646     13   bench\n",
      "8  497.345520  237.618713   663.184143  301.565369    0.285840     56   chair\n",
      "9  485.688477  144.500214   633.477417  205.201294    0.254198     56   chair\n",
      "         xmin        ymin         xmax        ymax  confidence  class    name\n",
      "0    2.098907  102.314606   188.108093  539.305908    0.876773      0  person\n",
      "1  378.633545  313.224945   795.434570  653.254761    0.862529      0  person\n",
      "2    0.283890  581.359314   230.679565  715.886292    0.801989      0  person\n",
      "3  577.686829  513.877625   807.098450  661.357971    0.800480     63  laptop\n",
      "4  767.418884  407.745728  1262.636353  716.860229    0.748243      0  person\n",
      "5  184.782440  397.611206   427.864227  537.298035    0.744504     63  laptop\n",
      "6  860.403564  289.878784  1024.087036  368.697388    0.365479     56   chair\n",
      "7  860.412476  290.165619  1025.788940  369.581940    0.354853     13   bench\n",
      "8  497.272797  237.581116   663.126831  301.458557    0.283566     56   chair\n",
      "9  485.474152  144.501007   633.496948  205.185181    0.260833     56   chair\n"
     ]
    },
    {
     "name": "stderr",
     "output_type": "stream",
     "text": [
      "C:\\Users\\ALFIYA/.cache\\torch\\hub\\ultralytics_yolov5_master\\models\\common.py:892: FutureWarning: `torch.cuda.amp.autocast(args...)` is deprecated. Please use `torch.amp.autocast('cuda', args...)` instead.\n",
      "  with amp.autocast(autocast):\n",
      "C:\\Users\\ALFIYA/.cache\\torch\\hub\\ultralytics_yolov5_master\\models\\common.py:892: FutureWarning: `torch.cuda.amp.autocast(args...)` is deprecated. Please use `torch.amp.autocast('cuda', args...)` instead.\n",
      "  with amp.autocast(autocast):\n"
     ]
    },
    {
     "name": "stdout",
     "output_type": "stream",
     "text": [
      "          xmin        ymin         xmax        ymax  confidence  class    name\n",
      "0     2.576538  102.432617   187.680313  539.587524    0.871606      0  person\n",
      "1   363.904785  313.047913   793.626709  653.772400    0.801398      0  person\n",
      "2   577.173340  513.576294   807.448364  661.262329    0.797209     63  laptop\n",
      "3     0.278160  581.848389   231.404724  715.747925    0.796124      0  person\n",
      "4   179.639191  397.664673   428.689972  537.682983    0.755207     63  laptop\n",
      "5   767.419250  407.782471  1262.441895  716.934692    0.748436      0  person\n",
      "6   860.194336  290.489075  1026.529663  370.140442    0.365747     13   bench\n",
      "7   858.609436  289.825134  1026.358765  369.064087    0.332026     56   chair\n",
      "8   496.953644  237.505249   663.415527  301.471558    0.286249     56   chair\n",
      "9   355.305634  558.424683   453.058014  621.023560    0.266714     63  laptop\n",
      "10  485.660431  144.079178   633.460327  205.239700    0.266281     56   chair\n",
      "         xmin        ymin         xmax        ymax  confidence  class    name\n",
      "0    2.655510  101.937592   188.701233  540.210571    0.868536      0  person\n",
      "1  352.657288  310.771759   790.063538  656.035645    0.810517      0  person\n",
      "2    0.298119  581.358887   231.012421  715.867310    0.799552      0  person\n",
      "3  578.126709  514.552246   806.966431  660.629883    0.795081     63  laptop\n",
      "4  179.195114  397.394043   426.501465  537.145935    0.757235     63  laptop\n",
      "5  768.400879  407.741150  1262.205688  716.862244    0.742597      0  person\n",
      "6  860.385559  290.198608  1026.545410  370.245605    0.351199     13   bench\n",
      "7  858.950806  289.888702  1026.410645  369.243988    0.350641     56   chair\n",
      "8  497.427887  237.451721   663.351074  301.430237    0.285102     56   chair\n",
      "9  485.745331  145.179733   633.201355  205.329880    0.258606     56   chair\n"
     ]
    },
    {
     "name": "stderr",
     "output_type": "stream",
     "text": [
      "C:\\Users\\ALFIYA/.cache\\torch\\hub\\ultralytics_yolov5_master\\models\\common.py:892: FutureWarning: `torch.cuda.amp.autocast(args...)` is deprecated. Please use `torch.amp.autocast('cuda', args...)` instead.\n",
      "  with amp.autocast(autocast):\n",
      "C:\\Users\\ALFIYA/.cache\\torch\\hub\\ultralytics_yolov5_master\\models\\common.py:892: FutureWarning: `torch.cuda.amp.autocast(args...)` is deprecated. Please use `torch.amp.autocast('cuda', args...)` instead.\n",
      "  with amp.autocast(autocast):\n"
     ]
    },
    {
     "name": "stdout",
     "output_type": "stream",
     "text": [
      "         xmin        ymin         xmax        ymax  confidence  class    name\n",
      "0    2.699348  101.386765   188.010223  540.343079    0.865831      0  person\n",
      "1  577.805176  514.641479   805.419067  660.629761    0.801091     63  laptop\n",
      "2    0.385361  580.970825   230.990891  716.005249    0.793739      0  person\n",
      "3  354.795044  310.444611   789.714844  657.862915    0.787238      0  person\n",
      "4  177.545395  397.508911   426.729919  537.511230    0.761753     63  laptop\n",
      "5  767.724609  407.761658  1261.979492  717.043396    0.752297      0  person\n",
      "6  860.888367  290.171173  1026.218140  370.406586    0.352507     13   bench\n",
      "7  859.101379  289.787872  1026.259521  369.286163    0.348701     56   chair\n",
      "8  497.458313  237.555725   663.518005  301.419495    0.278748     56   chair\n",
      "9  485.926971  145.030151   633.406982  205.424133    0.263590     56   chair\n",
      "          xmin        ymin         xmax        ymax  confidence  class  \\\n",
      "0     2.350708  100.623886   187.455536  540.128174    0.874922      0   \n",
      "1   576.728394  513.529541   805.307129  661.308716    0.805033     63   \n",
      "2     0.466217  580.703491   229.897598  715.893555    0.798597      0   \n",
      "3   352.450195  310.636810   789.895752  656.489258    0.784914      0   \n",
      "4   178.845337  396.723480   427.776184  538.281494    0.766961     63   \n",
      "5   765.576294  408.168182  1261.849121  716.959717    0.762271      0   \n",
      "6   860.883606  290.205841  1026.393311  370.337128    0.358591     13   \n",
      "7   859.233704  289.902557  1026.392944  369.258698    0.352815     56   \n",
      "8   340.282166  535.450256   429.454163  610.584412    0.309479     67   \n",
      "9   497.505249  237.485504   663.528564  301.287994    0.269525     56   \n",
      "10  485.682526  145.690445   633.374146  205.413010    0.255888     56   \n",
      "\n",
      "          name  \n",
      "0       person  \n",
      "1       laptop  \n",
      "2       person  \n",
      "3       person  \n",
      "4       laptop  \n",
      "5       person  \n",
      "6        bench  \n",
      "7        chair  \n",
      "8   cell phone  \n",
      "9        chair  \n",
      "10       chair  \n"
     ]
    },
    {
     "name": "stderr",
     "output_type": "stream",
     "text": [
      "C:\\Users\\ALFIYA/.cache\\torch\\hub\\ultralytics_yolov5_master\\models\\common.py:892: FutureWarning: `torch.cuda.amp.autocast(args...)` is deprecated. Please use `torch.amp.autocast('cuda', args...)` instead.\n",
      "  with amp.autocast(autocast):\n",
      "C:\\Users\\ALFIYA/.cache\\torch\\hub\\ultralytics_yolov5_master\\models\\common.py:892: FutureWarning: `torch.cuda.amp.autocast(args...)` is deprecated. Please use `torch.amp.autocast('cuda', args...)` instead.\n",
      "  with amp.autocast(autocast):\n"
     ]
    },
    {
     "name": "stdout",
     "output_type": "stream",
     "text": [
      "         xmin        ymin         xmax        ymax  confidence  class    name\n",
      "0    2.427414   99.333099   187.666458  540.349365    0.874192      0  person\n",
      "1    0.471336  580.890381   230.119751  715.941528    0.802414      0  person\n",
      "2  576.581299  513.692139   805.385620  661.218018    0.799467     63  laptop\n",
      "3  352.299377  310.772797   790.171326  654.961304    0.799178      0  person\n",
      "4  174.846497  396.622345   428.663147  537.851257    0.785941     63  laptop\n",
      "5  765.787109  408.141357  1261.952515  716.915283    0.758364      0  person\n",
      "6  860.586365  290.204956  1026.350464  370.515076    0.366307     13   bench\n",
      "7  858.537842  289.507080  1026.250854  369.346375    0.316631     56   chair\n",
      "8  497.094147  237.260223   663.767456  301.300079    0.283626     56   chair\n",
      "9  486.233368  143.953751   633.588623  205.215500    0.259685     56   chair\n",
      "         xmin        ymin         xmax        ymax  confidence  class    name\n",
      "0    2.355858   98.530502   187.263184  539.891479    0.876604      0  person\n",
      "1  343.178467  311.982544   788.153442  658.182129    0.841300      0  person\n",
      "2    0.405518  581.107910   230.787811  715.728027    0.804071      0  person\n",
      "3  575.867859  514.221497   805.028748  661.021179    0.796902     63  laptop\n",
      "4  171.639084  397.482239   427.161194  537.887024    0.783193     63  laptop\n",
      "5  767.076599  407.972504  1261.749756  716.959717    0.757379      0  person\n",
      "6  860.656616  290.312073  1026.385132  370.435242    0.358978     13   bench\n",
      "7  858.750305  289.648041  1026.271851  369.304779    0.313246     56   chair\n",
      "8  497.615784  237.530792   663.568542  301.223053    0.308616     56   chair\n",
      "9  486.388977  144.470978   633.580994  205.215149    0.270996     56   chair\n"
     ]
    },
    {
     "name": "stderr",
     "output_type": "stream",
     "text": [
      "C:\\Users\\ALFIYA/.cache\\torch\\hub\\ultralytics_yolov5_master\\models\\common.py:892: FutureWarning: `torch.cuda.amp.autocast(args...)` is deprecated. Please use `torch.amp.autocast('cuda', args...)` instead.\n",
      "  with amp.autocast(autocast):\n",
      "C:\\Users\\ALFIYA/.cache\\torch\\hub\\ultralytics_yolov5_master\\models\\common.py:892: FutureWarning: `torch.cuda.amp.autocast(args...)` is deprecated. Please use `torch.amp.autocast('cuda', args...)` instead.\n",
      "  with amp.autocast(autocast):\n"
     ]
    },
    {
     "name": "stdout",
     "output_type": "stream",
     "text": [
      "         xmin        ymin         xmax        ymax  confidence  class    name\n",
      "0    1.775352   97.452560   187.111450  539.642822    0.876404      0  person\n",
      "1  336.304779  312.567627   789.641968  660.236084    0.843952      0  person\n",
      "2    0.537872  581.320679   230.188858  715.859619    0.800571      0  person\n",
      "3  575.131104  514.386658   805.056152  661.282410    0.797914     63  laptop\n",
      "4  172.999298  397.223267   426.518097  537.548645    0.777580     63  laptop\n",
      "5  767.528198  408.005981  1261.748901  717.009033    0.755491      0  person\n",
      "6  860.664307  290.365387  1026.335327  370.355316    0.350710     13   bench\n",
      "7  497.968933  237.657806   663.480042  301.195282    0.320524     56   chair\n",
      "8  858.891479  289.596191  1026.327393  369.265869    0.309787     56   chair\n",
      "9  486.045654  143.528214   633.403198  205.214462    0.267917     56   chair\n",
      "         xmin        ymin         xmax        ymax  confidence  class    name\n",
      "0    2.125626   96.826111   187.033890  540.679382    0.866647      0  person\n",
      "1  325.498718  312.966736   791.164490  663.661560    0.852705      0  person\n",
      "2    0.537384  581.346191   229.216690  715.801270    0.804471      0  person\n",
      "3  577.428833  517.184631   805.125977  660.627869    0.792372     63  laptop\n",
      "4  173.863846  396.896912   425.564026  537.712219    0.774195     63  laptop\n",
      "5  766.602783  407.698364  1261.486084  716.824585    0.746021      0  person\n",
      "6  860.231567  290.434845  1026.156982  370.434601    0.347796     13   bench\n",
      "7  498.144928  237.623260   663.826904  301.193451    0.318965     56   chair\n",
      "8  858.741333  289.473907  1026.239502  369.337006    0.287840     56   chair\n",
      "9  486.839081  144.656601   633.557861  205.113327    0.257359     56   chair\n"
     ]
    },
    {
     "name": "stderr",
     "output_type": "stream",
     "text": [
      "C:\\Users\\ALFIYA/.cache\\torch\\hub\\ultralytics_yolov5_master\\models\\common.py:892: FutureWarning: `torch.cuda.amp.autocast(args...)` is deprecated. Please use `torch.amp.autocast('cuda', args...)` instead.\n",
      "  with amp.autocast(autocast):\n",
      "C:\\Users\\ALFIYA/.cache\\torch\\hub\\ultralytics_yolov5_master\\models\\common.py:892: FutureWarning: `torch.cuda.amp.autocast(args...)` is deprecated. Please use `torch.amp.autocast('cuda', args...)` instead.\n",
      "  with amp.autocast(autocast):\n"
     ]
    },
    {
     "name": "stdout",
     "output_type": "stream",
     "text": [
      "         xmin        ymin         xmax        ymax  confidence  class    name\n",
      "0    2.357811   95.816513   186.574707  540.474365    0.865118      0  person\n",
      "1  321.307526  316.928894   789.516113  660.480042    0.857313      0  person\n",
      "2    0.509377  581.227844   229.345184  715.636169    0.804270      0  person\n",
      "3  577.760681  517.397034   804.665710  660.247864    0.789095     63  laptop\n",
      "4  171.019684  397.920837   422.990387  537.099426    0.785358     63  laptop\n",
      "5  766.024536  407.784302  1261.269897  716.812988    0.754163      0  person\n",
      "6  860.234131  289.877258  1026.203613  370.540710    0.357984     13   bench\n",
      "7  498.247742  237.948120   663.673157  301.122620    0.323306     56   chair\n",
      "8  858.915222  289.381165  1026.275635  369.397888    0.307271     56   chair\n",
      "9  486.589325  144.956650   633.570923  204.964951    0.268426     56   chair\n",
      "         xmin        ymin         xmax        ymax  confidence  class    name\n",
      "0  322.061279  317.093842   788.951904  661.126343    0.865583      0  person\n",
      "1    2.375618   95.209488   185.843567  539.767822    0.860902      0  person\n",
      "2    0.412903  580.961121   229.354584  715.685486    0.802375      0  person\n",
      "3  577.310730  517.388733   804.424622  659.987488    0.802005     63  laptop\n",
      "4  168.933975  397.938263   423.743652  537.693787    0.789640     63  laptop\n",
      "5  766.266968  407.591858  1260.973267  716.761414    0.755322      0  person\n",
      "6  860.717041  290.069122  1026.508789  370.534576    0.336475     13   bench\n",
      "7  859.230896  289.580811  1026.629272  369.374695    0.314716     56   chair\n",
      "8  498.271454  237.659088   663.737549  301.030792    0.305631     56   chair\n",
      "9  486.056824  145.999207   633.700989  205.072571    0.270834     56   chair\n"
     ]
    },
    {
     "name": "stderr",
     "output_type": "stream",
     "text": [
      "C:\\Users\\ALFIYA/.cache\\torch\\hub\\ultralytics_yolov5_master\\models\\common.py:892: FutureWarning: `torch.cuda.amp.autocast(args...)` is deprecated. Please use `torch.amp.autocast('cuda', args...)` instead.\n",
      "  with amp.autocast(autocast):\n",
      "C:\\Users\\ALFIYA/.cache\\torch\\hub\\ultralytics_yolov5_master\\models\\common.py:892: FutureWarning: `torch.cuda.amp.autocast(args...)` is deprecated. Please use `torch.amp.autocast('cuda', args...)` instead.\n",
      "  with amp.autocast(autocast):\n"
     ]
    },
    {
     "name": "stdout",
     "output_type": "stream",
     "text": [
      "         xmin        ymin         xmax        ymax  confidence  class    name\n",
      "0  323.712769  317.265076   788.839722  663.170105    0.868418      0  person\n",
      "1    2.041588   95.100250   185.583374  539.572388    0.861870      0  person\n",
      "2  577.336548  517.500305   803.902710  660.015320    0.802406     63  laptop\n",
      "3    0.457489  580.973328   229.104721  715.749207    0.798205      0  person\n",
      "4  168.451828  398.433594   425.548157  538.490967    0.778843     63  laptop\n",
      "5  766.046326  407.675293  1260.892578  716.741577    0.758272      0  person\n",
      "6  860.136841  289.926086  1026.405884  370.392029    0.348736     13   bench\n",
      "7  859.190491  289.571838  1026.545044  369.232727    0.326167     56   chair\n",
      "8  498.207489  237.625061   663.791870  300.792419    0.292537     56   chair\n",
      "9  485.944458  143.577942   634.048828  204.951385    0.277095     56   chair\n",
      "         xmin        ymin         xmax        ymax  confidence  class    name\n",
      "0  319.913544  316.771240   788.625977  664.549072    0.881494      0  person\n",
      "1    1.806160   94.740387   185.336731  539.471313    0.868514      0  person\n",
      "2  577.192810  517.133850   803.851624  660.330872    0.803493     63  laptop\n",
      "3    0.443985  581.334961   229.440018  715.741333    0.796697      0  person\n",
      "4  166.990799  398.183899   426.922302  540.061707    0.769505     63  laptop\n",
      "5  765.842529  407.402649  1260.881470  716.838318    0.761686      0  person\n",
      "6  861.743042  290.864319  1025.862061  372.528992    0.344216     13   bench\n",
      "7  859.730835  289.607300  1026.711914  369.288025    0.328723     56   chair\n",
      "8  498.078094  237.604950   663.716309  300.771393    0.274639     56   chair\n",
      "9  485.922821  143.788239   634.117310  204.958801    0.270910     56   chair\n"
     ]
    },
    {
     "name": "stderr",
     "output_type": "stream",
     "text": [
      "C:\\Users\\ALFIYA/.cache\\torch\\hub\\ultralytics_yolov5_master\\models\\common.py:892: FutureWarning: `torch.cuda.amp.autocast(args...)` is deprecated. Please use `torch.amp.autocast('cuda', args...)` instead.\n",
      "  with amp.autocast(autocast):\n",
      "C:\\Users\\ALFIYA/.cache\\torch\\hub\\ultralytics_yolov5_master\\models\\common.py:892: FutureWarning: `torch.cuda.amp.autocast(args...)` is deprecated. Please use `torch.amp.autocast('cuda', args...)` instead.\n",
      "  with amp.autocast(autocast):\n"
     ]
    },
    {
     "name": "stdout",
     "output_type": "stream",
     "text": [
      "         xmin        ymin         xmax        ymax  confidence  class    name\n",
      "0  321.268372  317.207764   788.797668  663.871582    0.879299      0  person\n",
      "1    1.660805   95.060623   185.328430  539.052063    0.859972      0  person\n",
      "2  577.182617  517.121460   803.576660  660.233521    0.798969     63  laptop\n",
      "3    2.613281  580.546326   226.071228  715.033752    0.797861      0  person\n",
      "4  164.929260  397.970520   427.396423  541.380859    0.776186     63  laptop\n",
      "5  765.267029  407.324463  1261.413086  716.875732    0.763002      0  person\n",
      "6  861.250427  289.663452  1024.674072  368.894836    0.384339     56   chair\n",
      "7  861.380798  290.798004  1026.450806  372.084930    0.345228     13   bench\n",
      "8  497.814697  237.239471   663.602051  300.859283    0.305748     56   chair\n",
      "9  485.364868  144.551941   634.331787  204.848999    0.289418     56   chair\n",
      "         xmin        ymin         xmax        ymax  confidence  class    name\n",
      "0  322.136810  317.330811   789.145386  664.549194    0.879078      0  person\n",
      "1    1.506355   95.058868   185.366516  539.324707    0.852559      0  person\n",
      "2  577.106812  516.629761   803.860474  660.086304    0.805013     63  laptop\n",
      "3    2.547676  580.966797   226.058167  715.172852    0.791305      0  person\n",
      "4  163.991852  398.092712   423.525421  540.650635    0.788171     63  laptop\n",
      "5  764.987061  407.167908  1261.038574  716.791443    0.759969      0  person\n",
      "6  861.150574  289.656677  1024.818848  368.896851    0.388991     56   chair\n",
      "7  861.253113  290.723511  1026.388916  371.965454    0.357453     13   bench\n",
      "8  497.815247  237.444092   663.535217  300.700806    0.320186     56   chair\n",
      "9  487.017090  145.571457   633.712036  204.659470    0.281811     56   chair\n"
     ]
    },
    {
     "name": "stderr",
     "output_type": "stream",
     "text": [
      "C:\\Users\\ALFIYA/.cache\\torch\\hub\\ultralytics_yolov5_master\\models\\common.py:892: FutureWarning: `torch.cuda.amp.autocast(args...)` is deprecated. Please use `torch.amp.autocast('cuda', args...)` instead.\n",
      "  with amp.autocast(autocast):\n",
      "C:\\Users\\ALFIYA/.cache\\torch\\hub\\ultralytics_yolov5_master\\models\\common.py:892: FutureWarning: `torch.cuda.amp.autocast(args...)` is deprecated. Please use `torch.amp.autocast('cuda', args...)` instead.\n",
      "  with amp.autocast(autocast):\n"
     ]
    },
    {
     "name": "stdout",
     "output_type": "stream",
     "text": [
      "         xmin        ymin         xmax        ymax  confidence  class    name\n",
      "0  325.210938  317.289307   789.042725  663.343750    0.875909      0  person\n",
      "1    1.603210   95.581711   185.072342  539.121155    0.865278      0  person\n",
      "2  576.820923  516.676392   803.851807  659.883179    0.809627     63  laptop\n",
      "3    2.540787  582.539307   226.319595  715.025513    0.796699      0  person\n",
      "4  164.300934  397.679230   424.620026  540.108704    0.776590     63  laptop\n",
      "5  764.690735  407.323669  1260.926025  716.885437    0.771987      0  person\n",
      "6  860.764221  289.584930  1024.648926  368.774689    0.390777     56   chair\n",
      "7  861.016357  290.713226  1026.298340  371.870087    0.365287     13   bench\n",
      "8  497.454865  237.341339   663.415283  300.632721    0.310176     56   chair\n",
      "9  485.884460  143.501007   634.095276  204.560089    0.280701     56   chair\n",
      "         xmin        ymin         xmax        ymax  confidence  class    name\n",
      "0    1.148888   95.960220   185.426636  539.014221    0.870958      0  person\n",
      "1  327.730286  316.967651   788.504578  663.756470    0.868394      0  person\n",
      "2  577.162659  516.619141   803.186462  660.164795    0.816631     63  laptop\n",
      "3    2.678421  583.825806   227.727859  715.142578    0.793105      0  person\n",
      "4  764.130981  406.600159  1261.259155  717.020081    0.780098      0  person\n",
      "5  163.962219  397.570251   424.021118  541.491333    0.753516     63  laptop\n",
      "6  860.852905  289.515320  1024.831299  368.600952    0.380308     56   chair\n",
      "7  860.937378  290.773010  1026.361206  371.549133    0.364700     13   bench\n",
      "8  497.173431  237.264862   663.424377  300.278656    0.329084     56   chair\n",
      "9  487.013062  143.446503   634.255737  204.443573    0.275451     56   chair\n"
     ]
    },
    {
     "name": "stderr",
     "output_type": "stream",
     "text": [
      "C:\\Users\\ALFIYA/.cache\\torch\\hub\\ultralytics_yolov5_master\\models\\common.py:892: FutureWarning: `torch.cuda.amp.autocast(args...)` is deprecated. Please use `torch.amp.autocast('cuda', args...)` instead.\n",
      "  with amp.autocast(autocast):\n",
      "C:\\Users\\ALFIYA/.cache\\torch\\hub\\ultralytics_yolov5_master\\models\\common.py:892: FutureWarning: `torch.cuda.amp.autocast(args...)` is deprecated. Please use `torch.amp.autocast('cuda', args...)` instead.\n",
      "  with amp.autocast(autocast):\n"
     ]
    },
    {
     "name": "stdout",
     "output_type": "stream",
     "text": [
      "         xmin        ymin         xmax        ymax  confidence  class    name\n",
      "0  322.921387  316.880432   789.093506  663.819275    0.876454      0  person\n",
      "1    1.159256   95.889160   185.598907  538.985474    0.871220      0  person\n",
      "2  577.132019  516.698853   803.301697  660.291626    0.817233     63  laptop\n",
      "3    2.996735  585.415100   229.321609  715.300232    0.792498      0  person\n",
      "4  763.438232  406.868164  1260.959351  716.953979    0.779508      0  person\n",
      "5  163.846497  397.594421   422.909851  543.004639    0.755727     63  laptop\n",
      "6  860.569214  290.877167  1026.492065  371.572540    0.386091     13   bench\n",
      "7  859.549927  289.763153  1026.581909  368.390350    0.361814     56   chair\n",
      "8  497.501221  237.441772   663.784546  300.370789    0.308857     56   chair\n",
      "9  486.591064  143.012909   634.344360  204.295746    0.263925     56   chair\n",
      "         xmin        ymin         xmax        ymax  confidence  class    name\n",
      "0  321.175507  316.931580   789.222168  664.916199    0.878378      0  person\n",
      "1    1.242622   95.502335   186.312683  539.700439    0.866267      0  person\n",
      "2  573.883240  513.827881   804.020447  660.967041    0.820971     63  laptop\n",
      "3  764.014832  407.366577  1261.450073  716.952515    0.778357      0  person\n",
      "4    3.374916  587.746460   230.072388  715.342163    0.764709      0  person\n",
      "5  163.659210  396.949310   425.567841  544.069946    0.750926     63  laptop\n",
      "6  861.038940  289.890228  1025.082520  368.579193    0.387378     56   chair\n",
      "7  861.098633  291.077576  1026.866699  371.778564    0.373006     13   bench\n",
      "8  497.385223  237.479065   663.920105  300.407898    0.320768     56   chair\n",
      "9  486.814148  143.975311   634.231873  204.323944    0.275344     56   chair\n"
     ]
    },
    {
     "name": "stderr",
     "output_type": "stream",
     "text": [
      "C:\\Users\\ALFIYA/.cache\\torch\\hub\\ultralytics_yolov5_master\\models\\common.py:892: FutureWarning: `torch.cuda.amp.autocast(args...)` is deprecated. Please use `torch.amp.autocast('cuda', args...)` instead.\n",
      "  with amp.autocast(autocast):\n",
      "C:\\Users\\ALFIYA/.cache\\torch\\hub\\ultralytics_yolov5_master\\models\\common.py:892: FutureWarning: `torch.cuda.amp.autocast(args...)` is deprecated. Please use `torch.amp.autocast('cuda', args...)` instead.\n",
      "  with amp.autocast(autocast):\n"
     ]
    },
    {
     "name": "stdout",
     "output_type": "stream",
     "text": [
      "         xmin        ymin         xmax        ymax  confidence  class    name\n",
      "0  322.094208  316.852081   788.685547  666.216797    0.879233      0  person\n",
      "1    1.426971   96.492584   187.242126  539.430664    0.867452      0  person\n",
      "2  577.036804  516.889099   803.939514  660.985046    0.813034     63  laptop\n",
      "3    3.270012  589.723755   231.288666  715.529785    0.792930      0  person\n",
      "4  765.084473  407.412659  1261.993286  717.025818    0.775179      0  person\n",
      "5  165.079391  397.131165   425.994873  544.164246    0.737020     63  laptop\n",
      "6  861.056824  289.870148  1025.359253  368.783051    0.407208     56   chair\n",
      "7  861.016296  291.057800  1027.069824  371.776611    0.391291     13   bench\n",
      "8  497.410736  237.309052   663.830383  300.553925    0.328668     56   chair\n",
      "9  487.589996  145.416580   633.887573  204.167496    0.283184     56   chair\n",
      "         xmin        ymin         xmax        ymax  confidence  class    name\n",
      "0  318.412842  316.670685   789.436401  667.072510    0.879862      0  person\n",
      "1    1.378113   96.259735   188.142822  539.504395    0.860460      0  person\n",
      "2  576.872681  516.842102   804.010864  661.041077    0.814445     63  laptop\n",
      "3    2.867088  591.390930   230.684723  715.854431    0.793396      0  person\n",
      "4  764.447388  406.830261  1262.406006  717.146057    0.771539      0  person\n",
      "5  165.477722  397.104645   428.861877  545.391663    0.729069     63  laptop\n",
      "6  860.544678  290.950745  1026.889282  371.931091    0.394267     13   bench\n",
      "7  860.455444  289.656921  1025.191040  368.790283    0.383722     56   chair\n",
      "8  497.883301  237.317017   663.840210  300.305481    0.339607     56   chair\n",
      "9  487.617828  145.897705   634.122437  204.253601    0.294276     56   chair\n"
     ]
    },
    {
     "name": "stderr",
     "output_type": "stream",
     "text": [
      "C:\\Users\\ALFIYA/.cache\\torch\\hub\\ultralytics_yolov5_master\\models\\common.py:892: FutureWarning: `torch.cuda.amp.autocast(args...)` is deprecated. Please use `torch.amp.autocast('cuda', args...)` instead.\n",
      "  with amp.autocast(autocast):\n",
      "C:\\Users\\ALFIYA/.cache\\torch\\hub\\ultralytics_yolov5_master\\models\\common.py:892: FutureWarning: `torch.cuda.amp.autocast(args...)` is deprecated. Please use `torch.amp.autocast('cuda', args...)` instead.\n",
      "  with amp.autocast(autocast):\n"
     ]
    },
    {
     "name": "stdout",
     "output_type": "stream",
     "text": [
      "         xmin        ymin         xmax        ymax  confidence  class    name\n",
      "0  320.672852  316.976074   789.580566  666.491211    0.872678      0  person\n",
      "1    1.491142   96.364853   187.405334  539.526062    0.854930      0  person\n",
      "2  576.652161  516.582825   804.954651  660.834045    0.798121     63  laptop\n",
      "3    3.360329  592.969055   231.858673  715.901794    0.786833      0  person\n",
      "4  765.798706  407.283722  1261.941284  717.157227    0.760042      0  person\n",
      "5  166.067352  397.131500   428.125092  545.395874    0.730950     63  laptop\n",
      "6  860.833923  290.324615  1025.568726  369.101044    0.424031     56   chair\n",
      "7  860.852783  291.192810  1027.656494  372.209778    0.396331     13   bench\n",
      "8  498.283875  237.346832   664.025085  300.430573    0.328800     56   chair\n",
      "9  487.100739  144.118271   634.494324  203.940598    0.282565     56   chair\n",
      "         xmin        ymin         xmax        ymax  confidence  class    name\n",
      "0  319.796936  316.958130   789.764709  666.380249    0.871220      0  person\n",
      "1    1.436623   96.151764   187.566315  538.758301    0.861002      0  person\n",
      "2  576.446106  516.506348   805.003845  660.916992    0.799680     63  laptop\n",
      "3    3.190254  594.223389   232.273407  716.068359    0.783467      0  person\n",
      "4  766.087769  407.268127  1262.576660  717.194397    0.762135      0  person\n",
      "5  165.322952  396.968445   427.975769  545.258606    0.733412     63  laptop\n",
      "6  860.303589  290.178009  1025.410034  369.105804    0.395685     56   chair\n",
      "7  860.611694  291.322205  1027.573608  372.421082    0.376659     13   bench\n",
      "8  498.395752  237.314941   663.985474  300.516296    0.328721     56   chair\n",
      "9  487.186798  142.485107   634.785522  203.994293    0.283359     56   chair\n"
     ]
    },
    {
     "name": "stderr",
     "output_type": "stream",
     "text": [
      "C:\\Users\\ALFIYA/.cache\\torch\\hub\\ultralytics_yolov5_master\\models\\common.py:892: FutureWarning: `torch.cuda.amp.autocast(args...)` is deprecated. Please use `torch.amp.autocast('cuda', args...)` instead.\n",
      "  with amp.autocast(autocast):\n",
      "C:\\Users\\ALFIYA/.cache\\torch\\hub\\ultralytics_yolov5_master\\models\\common.py:892: FutureWarning: `torch.cuda.amp.autocast(args...)` is deprecated. Please use `torch.amp.autocast('cuda', args...)` instead.\n",
      "  with amp.autocast(autocast):\n"
     ]
    },
    {
     "name": "stdout",
     "output_type": "stream",
     "text": [
      "         xmin        ymin         xmax        ymax  confidence  class    name\n",
      "0  318.926331  316.685883   789.625671  666.582397    0.870277      0  person\n",
      "1    1.352463   96.209427   187.475922  539.518188    0.859405      0  person\n",
      "2  576.334351  516.443054   804.984497  661.117371    0.798197     63  laptop\n",
      "3    3.422638  595.210083   234.373489  715.704590    0.767347      0  person\n",
      "4  765.965210  407.206299  1262.640625  717.158325    0.759786      0  person\n",
      "5  165.560440  397.070526   428.330566  546.757507    0.717685     63  laptop\n",
      "6  860.732178  290.341797  1025.640747  368.976929    0.409009     56   chair\n",
      "7  861.032104  291.404114  1027.869995  372.196960    0.377327     13   bench\n",
      "8  498.485138  237.225037   663.945190  300.475647    0.323041     56   chair\n",
      "9  487.987457  143.073532   634.709534  204.095779    0.276346     56   chair\n",
      "         xmin        ymin         xmax        ymax  confidence  class    name\n",
      "0  315.813171  316.724182   789.690735  666.560852    0.873388      0  person\n",
      "1    1.446739   95.924042   187.316956  539.147095    0.861135      0  person\n",
      "2  576.449646  516.428101   804.983704  660.979370    0.798129     63  laptop\n",
      "3    2.975952  596.328308   235.493500  715.753235    0.776019      0  person\n",
      "4  766.099609  407.155762  1262.500122  717.184204    0.758272      0  person\n",
      "5  165.151779  397.275574   429.206238  547.282166    0.715399     63  laptop\n",
      "6  861.328003  290.423157  1025.628052  369.040466    0.399719     56   chair\n",
      "7  861.552979  291.525970  1027.733398  372.187958    0.374638     13   bench\n",
      "8  498.619995  237.314423   664.320190  300.392059    0.330596     56   chair\n",
      "9  488.324158  144.144363   634.813416  204.014633    0.284595     56   chair\n"
     ]
    },
    {
     "name": "stderr",
     "output_type": "stream",
     "text": [
      "C:\\Users\\ALFIYA/.cache\\torch\\hub\\ultralytics_yolov5_master\\models\\common.py:892: FutureWarning: `torch.cuda.amp.autocast(args...)` is deprecated. Please use `torch.amp.autocast('cuda', args...)` instead.\n",
      "  with amp.autocast(autocast):\n",
      "C:\\Users\\ALFIYA/.cache\\torch\\hub\\ultralytics_yolov5_master\\models\\common.py:892: FutureWarning: `torch.cuda.amp.autocast(args...)` is deprecated. Please use `torch.amp.autocast('cuda', args...)` instead.\n",
      "  with amp.autocast(autocast):\n"
     ]
    },
    {
     "name": "stdout",
     "output_type": "stream",
     "text": [
      "         xmin        ymin         xmax        ymax  confidence  class    name\n",
      "0  314.061401  316.566956   789.729004  666.092590    0.877068      0  person\n",
      "1    1.562943   96.103928   187.865738  540.566650    0.852120      0  person\n",
      "2  576.984192  516.491455   804.580383  660.963745    0.800060     63  laptop\n",
      "3    2.919830  597.292114   238.636703  715.767578    0.763835      0  person\n",
      "4  765.745300  407.128418  1263.134521  717.169556    0.763432      0  person\n",
      "5  165.386902  396.762634   429.952759  547.028870    0.709207     63  laptop\n",
      "6  860.778503  291.595001  1027.787964  372.448883    0.393214     13   bench\n",
      "7  860.509888  290.365906  1025.659912  369.041931    0.384567     56   chair\n",
      "8  498.280029  237.100494   664.218750  300.359833    0.317524     56   chair\n",
      "9  487.823212  143.109177   634.742798  204.333176    0.268418     56   chair\n",
      "         xmin        ymin         xmax        ymax  confidence  class    name\n",
      "0  313.166290  316.532227   790.438965  666.091431    0.879743      0  person\n",
      "1    1.749252   95.548065   187.939346  541.522705    0.851007      0  person\n",
      "2  577.022705  516.335449   804.531982  661.121460    0.796308     63  laptop\n",
      "3    3.256577  598.872864   236.944473  715.984802    0.765407      0  person\n",
      "4  765.491943  406.938599  1262.735352  717.176880    0.758762      0  person\n",
      "5  164.607208  396.592865   429.849945  546.069946    0.726534     63  laptop\n",
      "6  860.689819  291.556305  1027.631226  372.492950    0.391013     13   bench\n",
      "7  859.145874  290.361450  1027.623901  368.991760    0.358648     56   chair\n",
      "8  497.960785  236.962341   664.546753  300.419739    0.291039     56   chair\n",
      "9  487.426788  142.494537   635.354492  204.180847    0.252640     56   chair\n"
     ]
    },
    {
     "name": "stderr",
     "output_type": "stream",
     "text": [
      "C:\\Users\\ALFIYA/.cache\\torch\\hub\\ultralytics_yolov5_master\\models\\common.py:892: FutureWarning: `torch.cuda.amp.autocast(args...)` is deprecated. Please use `torch.amp.autocast('cuda', args...)` instead.\n",
      "  with amp.autocast(autocast):\n",
      "C:\\Users\\ALFIYA/.cache\\torch\\hub\\ultralytics_yolov5_master\\models\\common.py:892: FutureWarning: `torch.cuda.amp.autocast(args...)` is deprecated. Please use `torch.amp.autocast('cuda', args...)` instead.\n",
      "  with amp.autocast(autocast):\n"
     ]
    },
    {
     "name": "stdout",
     "output_type": "stream",
     "text": [
      "         xmin        ymin         xmax        ymax  confidence  class    name\n",
      "0  312.194519  316.384583   790.789246  666.834045    0.882063      0  person\n",
      "1    1.883896   95.710938   187.584396  541.501343    0.844989      0  person\n",
      "2  576.909302  516.445312   804.426758  661.200073    0.805868     63  laptop\n",
      "3    3.586632  600.914795   237.251526  716.299561    0.765659      0  person\n",
      "4  765.563232  406.853912  1262.752930  717.118042    0.761188      0  person\n",
      "5  165.354767  396.723083   429.292389  547.265808    0.710996     63  laptop\n",
      "6  860.782227  291.569244  1027.774292  372.449005    0.389784     13   bench\n",
      "7  860.334534  290.238922  1025.933594  369.056183    0.359051     56   chair\n",
      "8  497.910736  236.985779   664.483032  300.371765    0.294346     56   chair\n",
      "9  487.537292  143.222015   635.580627  204.205536    0.262843     56   chair\n",
      "         xmin        ymin         xmax        ymax  confidence  class    name\n",
      "0  310.073975  316.387817   790.543091  667.326416    0.884005      0  person\n",
      "1    1.633575   95.431503   188.021637  541.400024    0.844186      0  person\n",
      "2  577.045044  516.751221   803.691650  661.067749    0.807859     63  laptop\n",
      "3  764.413635  406.828186  1262.622314  717.086853    0.764533      0  person\n",
      "4    4.379662  602.477966   238.085938  716.187683    0.759261      0  person\n",
      "5  164.637436  397.101807   428.331055  551.744019    0.703550     63  laptop\n",
      "6  860.085693  290.354340  1025.609131  368.763153    0.385664     56   chair\n",
      "7  860.387573  291.699371  1027.703979  372.134979    0.381535     13   bench\n",
      "8  498.113678  236.863953   664.616455  300.405762    0.318357     56   chair\n",
      "9  488.022400  144.535797   635.733215  204.208160    0.275623     56   chair\n"
     ]
    },
    {
     "name": "stderr",
     "output_type": "stream",
     "text": [
      "C:\\Users\\ALFIYA/.cache\\torch\\hub\\ultralytics_yolov5_master\\models\\common.py:892: FutureWarning: `torch.cuda.amp.autocast(args...)` is deprecated. Please use `torch.amp.autocast('cuda', args...)` instead.\n",
      "  with amp.autocast(autocast):\n",
      "C:\\Users\\ALFIYA/.cache\\torch\\hub\\ultralytics_yolov5_master\\models\\common.py:892: FutureWarning: `torch.cuda.amp.autocast(args...)` is deprecated. Please use `torch.amp.autocast('cuda', args...)` instead.\n",
      "  with amp.autocast(autocast):\n"
     ]
    },
    {
     "name": "stdout",
     "output_type": "stream",
     "text": [
      "         xmin        ymin         xmax        ymax  confidence  class    name\n",
      "0  307.538971  316.228943   790.066895  666.916443    0.888061      0  person\n",
      "1    1.719307   95.262558   187.577759  541.251831    0.845859      0  person\n",
      "2  576.965149  516.388855   803.544983  660.782288    0.800432     63  laptop\n",
      "3  764.084900  406.569946  1263.056274  717.120605    0.762275      0  person\n",
      "4    5.303604  604.655518   239.113968  716.227905    0.751910      0  person\n",
      "5  162.616760  396.383179   426.182007  552.696777    0.717819     63  laptop\n",
      "6  860.915466  291.707489  1027.120850  371.760162    0.395228     13   bench\n",
      "7  860.845520  290.490387  1024.856445  368.385895    0.385530     56   chair\n",
      "8  497.408875  237.126434   664.289368  300.150726    0.333159     56   chair\n",
      "9  487.135437  144.000000   635.431213  204.202667    0.280379     56   chair\n",
      "         xmin        ymin         xmax        ymax  confidence  class    name\n",
      "0  303.336060  316.324036   790.746582  667.493103    0.890550      0  person\n",
      "1    1.597397   94.893127   187.420609  540.388611    0.857026      0  person\n",
      "2  573.654297  513.918518   803.410278  660.983093    0.802635     63  laptop\n",
      "3  762.440430  406.497375  1262.297974  717.015198    0.776344      0  person\n",
      "4    5.234291  605.841003   240.108063  715.826843    0.749855      0  person\n",
      "5  162.723312  396.483490   423.414124  559.779480    0.721945     63  laptop\n",
      "6  861.058472  291.523071  1027.142578  371.756470    0.390314     13   bench\n",
      "7  861.325806  290.373199  1024.450806  368.214996    0.380877     56   chair\n",
      "8  497.615051  237.334137   664.053406  300.123749    0.334222     56   chair\n",
      "9  487.241608  144.049042   635.291138  204.167938    0.278034     56   chair\n"
     ]
    },
    {
     "name": "stderr",
     "output_type": "stream",
     "text": [
      "C:\\Users\\ALFIYA/.cache\\torch\\hub\\ultralytics_yolov5_master\\models\\common.py:892: FutureWarning: `torch.cuda.amp.autocast(args...)` is deprecated. Please use `torch.amp.autocast('cuda', args...)` instead.\n",
      "  with amp.autocast(autocast):\n",
      "C:\\Users\\ALFIYA/.cache\\torch\\hub\\ultralytics_yolov5_master\\models\\common.py:892: FutureWarning: `torch.cuda.amp.autocast(args...)` is deprecated. Please use `torch.amp.autocast('cuda', args...)` instead.\n",
      "  with amp.autocast(autocast):\n"
     ]
    },
    {
     "name": "stdout",
     "output_type": "stream",
     "text": [
      "         xmin        ymin         xmax        ymax  confidence  class    name\n",
      "0  303.762268  316.359314   790.266296  666.726868    0.887816      0  person\n",
      "1    1.699539   95.010986   187.469894  539.923218    0.855248      0  person\n",
      "2  573.990906  513.739563   803.059753  660.977600    0.803589     63  laptop\n",
      "3  762.926331  406.731720  1262.460938  717.076172    0.782387      0  person\n",
      "4    5.514793  608.031128   240.162537  715.982178    0.739038      0  person\n",
      "5  161.677322  396.613586   422.455872  555.485718    0.725477     63  laptop\n",
      "6  861.062317  291.485809  1027.162354  371.726837    0.387964     13   bench\n",
      "7  861.297302  290.263062  1024.729492  368.344849    0.373627     56   chair\n",
      "8  497.838562  237.384216   663.948547  300.002441    0.342746     56   chair\n",
      "9  487.365845  144.236465   635.110474  204.155014    0.286231     56   chair\n",
      "         xmin        ymin         xmax        ymax  confidence  class    name\n",
      "0  302.116821  316.163147   789.968750  665.527039    0.887617      0  person\n",
      "1    1.555504   94.885422   187.693787  540.086304    0.862769      0  person\n",
      "2  574.110291  513.763489   802.199036  660.489319    0.804894     63  laptop\n",
      "3  761.691895  406.769409  1262.305542  716.994995    0.792666      0  person\n",
      "4    5.533516  608.990417   239.599182  716.098572    0.740718      0  person\n",
      "5  161.466599  395.809692   420.786621  552.208313    0.740038     63  laptop\n",
      "6  861.019897  291.726776  1026.797485  371.314240    0.389210     13   bench\n",
      "7  861.327759  290.485535  1024.208252  367.985413    0.362548     56   chair\n",
      "8  497.948853  237.559998   663.529907  299.721863    0.327179     56   chair\n",
      "9  487.518646  144.158401   634.579041  204.290390    0.287427     56   chair\n"
     ]
    },
    {
     "name": "stderr",
     "output_type": "stream",
     "text": [
      "C:\\Users\\ALFIYA/.cache\\torch\\hub\\ultralytics_yolov5_master\\models\\common.py:892: FutureWarning: `torch.cuda.amp.autocast(args...)` is deprecated. Please use `torch.amp.autocast('cuda', args...)` instead.\n",
      "  with amp.autocast(autocast):\n",
      "C:\\Users\\ALFIYA/.cache\\torch\\hub\\ultralytics_yolov5_master\\models\\common.py:892: FutureWarning: `torch.cuda.amp.autocast(args...)` is deprecated. Please use `torch.amp.autocast('cuda', args...)` instead.\n",
      "  with amp.autocast(autocast):\n"
     ]
    },
    {
     "name": "stdout",
     "output_type": "stream",
     "text": [
      "          xmin        ymin         xmax        ymax  confidence  class    name\n",
      "0   300.127106  315.982483   789.362427  665.531555    0.884113      0  person\n",
      "1     1.630898   94.708755   187.524811  539.448608    0.862238      0  person\n",
      "2   576.841858  516.491943   800.973938  660.076172    0.801359     63  laptop\n",
      "3   762.250061  406.429810  1261.166260  717.026123    0.798300      0  person\n",
      "4   161.840118  395.536530   421.052704  547.479004    0.753957     63  laptop\n",
      "5     5.167770  610.336731   238.838867  716.312561    0.742614      0  person\n",
      "6   860.744385  291.567139  1026.653198  371.665466    0.389991     13   bench\n",
      "7   860.774048  290.183167  1024.423706  368.475891    0.346751     56   chair\n",
      "8   497.156403  237.266052   663.123596  299.807068    0.300609     56   chair\n",
      "9   487.325195  143.947784   634.995483  204.227325    0.279767     56   chair\n",
      "10  384.589966  544.671509   780.358154  712.550293    0.255163     63  laptop\n",
      "         xmin        ymin         xmax        ymax  confidence  class    name\n",
      "0  302.603210  315.836609   789.871155  665.634216    0.882070      0  person\n",
      "1    1.626877   94.268890   187.124603  539.864136    0.867937      0  person\n",
      "2  576.651367  516.537720   800.320801  660.100098    0.803449     63  laptop\n",
      "3  761.700073  406.780762  1259.241211  717.016357    0.799113      0  person\n",
      "4    4.803360  611.189087   237.570633  716.521729    0.742261      0  person\n",
      "5  166.406723  395.200073   423.336975  545.867432    0.696768     63  laptop\n",
      "6  860.165833  291.431763  1026.666992  371.623718    0.390892     13   bench\n",
      "7  860.133423  289.905029  1024.760498  368.499573    0.331063     56   chair\n",
      "8  497.215759  237.226349   662.983215  299.720734    0.305772     56   chair\n",
      "9  487.465179  144.234116   634.932617  204.295975    0.276214     56   chair\n"
     ]
    },
    {
     "name": "stderr",
     "output_type": "stream",
     "text": [
      "C:\\Users\\ALFIYA/.cache\\torch\\hub\\ultralytics_yolov5_master\\models\\common.py:892: FutureWarning: `torch.cuda.amp.autocast(args...)` is deprecated. Please use `torch.amp.autocast('cuda', args...)` instead.\n",
      "  with amp.autocast(autocast):\n",
      "C:\\Users\\ALFIYA/.cache\\torch\\hub\\ultralytics_yolov5_master\\models\\common.py:892: FutureWarning: `torch.cuda.amp.autocast(args...)` is deprecated. Please use `torch.amp.autocast('cuda', args...)` instead.\n",
      "  with amp.autocast(autocast):\n"
     ]
    },
    {
     "name": "stdout",
     "output_type": "stream",
     "text": [
      "         xmin        ymin         xmax        ymax  confidence  class    name\n",
      "0  298.965637  315.774414   789.724060  664.950439    0.882491      0  person\n",
      "1    1.652847   93.728592   187.151749  539.811646    0.863890      0  person\n",
      "2  762.177734  406.993011  1257.751587  717.054565    0.804732      0  person\n",
      "3  576.407471  516.553955   800.152588  660.042236    0.796990     63  laptop\n",
      "4    4.789955  611.572327   237.095459  716.475159    0.741288      0  person\n",
      "5  164.254974  395.525116   423.097870  546.553467    0.719923     63  laptop\n",
      "6  859.969360  291.428650  1026.488892  371.778625    0.384784     13   bench\n",
      "7  859.749634  289.758850  1024.562134  368.674805    0.314482     56   chair\n",
      "8  497.300537  237.331299   662.830322  299.822998    0.305820     56   chair\n",
      "9  487.438904  143.576141   634.913147  204.184052    0.274192     56   chair\n",
      "         xmin        ymin         xmax        ymax  confidence  class    name\n",
      "0  297.603394  315.488892   788.663208  666.079468    0.877479      0  person\n",
      "1    1.667786   94.710785   186.748932  539.859741    0.856526      0  person\n",
      "2  762.268127  407.245728  1257.028198  716.953979    0.805976      0  person\n",
      "3  576.122742  516.238098   799.810120  660.181091    0.796529     63  laptop\n",
      "4    4.934647  611.790100   236.122025  716.506531    0.745777      0  person\n",
      "5  164.829361  395.977417   421.713013  547.933167    0.727365     63  laptop\n",
      "6  860.100891  291.366394  1026.480957  371.656189    0.377943     13   bench\n",
      "7  859.926941  289.830414  1024.498535  368.582611    0.340933     56   chair\n",
      "8  497.169220  237.547485   662.401917  299.829041    0.303251     56   chair\n",
      "9  487.242554  143.960587   635.093018  204.219376    0.282410     56   chair\n"
     ]
    },
    {
     "name": "stderr",
     "output_type": "stream",
     "text": [
      "C:\\Users\\ALFIYA/.cache\\torch\\hub\\ultralytics_yolov5_master\\models\\common.py:892: FutureWarning: `torch.cuda.amp.autocast(args...)` is deprecated. Please use `torch.amp.autocast('cuda', args...)` instead.\n",
      "  with amp.autocast(autocast):\n",
      "C:\\Users\\ALFIYA/.cache\\torch\\hub\\ultralytics_yolov5_master\\models\\common.py:892: FutureWarning: `torch.cuda.amp.autocast(args...)` is deprecated. Please use `torch.amp.autocast('cuda', args...)` instead.\n",
      "  with amp.autocast(autocast):\n"
     ]
    },
    {
     "name": "stdout",
     "output_type": "stream",
     "text": [
      "         xmin        ymin         xmax        ymax  confidence  class    name\n",
      "0  296.527466  314.827148   788.114868  665.545410    0.879485      0  person\n",
      "1    1.789757   95.578690   186.568665  540.806335    0.834229      0  person\n",
      "2  761.514404  407.608826  1256.339111  716.967712    0.803462      0  person\n",
      "3  575.313843  516.254028   799.467163  660.301270    0.796241     63  laptop\n",
      "4    4.828445  612.454346   235.303528  716.779419    0.742683      0  person\n",
      "5  165.975739  396.206238   421.583466  550.183411    0.714090     63  laptop\n",
      "6  859.213257  289.866760  1026.273560  369.375916    0.360616     13   bench\n",
      "7  496.392578  237.473328   662.222412  299.830627    0.308062     56   chair\n",
      "8  859.929077  289.758514  1024.311523  368.352142    0.303265     56   chair\n",
      "9  486.921082  143.873550   635.606750  204.370102    0.266160     56   chair\n",
      "         xmin        ymin         xmax        ymax  confidence  class    name\n",
      "0  295.690002  314.675842   787.507751  665.219055    0.883310      0  person\n",
      "1    1.760162   95.525894   187.903503  540.926636    0.833939      0  person\n",
      "2  575.199341  516.020020   799.350952  660.412354    0.796813     63  laptop\n",
      "3  760.725830  407.378845  1256.751831  717.039001    0.796028      0  person\n",
      "4    4.907715  612.250183   235.007416  716.613586    0.744577      0  person\n",
      "5  164.116425  396.607391   420.827057  550.445740    0.726685     63  laptop\n",
      "6  859.654907  291.284973  1026.465332  371.541260    0.370455     13   bench\n",
      "7  859.251038  289.758636  1024.376221  368.472076    0.326653     56   chair\n",
      "8  496.056091  237.534607   662.036438  299.719055    0.298531     56   chair\n",
      "9  487.468140  144.314362   635.782227  204.279205    0.263923     56   chair\n"
     ]
    },
    {
     "name": "stderr",
     "output_type": "stream",
     "text": [
      "C:\\Users\\ALFIYA/.cache\\torch\\hub\\ultralytics_yolov5_master\\models\\common.py:892: FutureWarning: `torch.cuda.amp.autocast(args...)` is deprecated. Please use `torch.amp.autocast('cuda', args...)` instead.\n",
      "  with amp.autocast(autocast):\n",
      "C:\\Users\\ALFIYA/.cache\\torch\\hub\\ultralytics_yolov5_master\\models\\common.py:892: FutureWarning: `torch.cuda.amp.autocast(args...)` is deprecated. Please use `torch.amp.autocast('cuda', args...)` instead.\n",
      "  with amp.autocast(autocast):\n"
     ]
    },
    {
     "name": "stdout",
     "output_type": "stream",
     "text": [
      "         xmin        ymin         xmax        ymax  confidence  class    name\n",
      "0  295.641479  314.947205   788.123901  664.425476    0.879263      0  person\n",
      "1    1.691055   95.490250   186.455734  541.258972    0.842266      0  person\n",
      "2  759.617065  408.156860  1256.870239  716.952148    0.796147      0  person\n",
      "3  575.283813  516.301941   799.615967  660.287659    0.791023     63  laptop\n",
      "4    4.480766  611.433838   234.703644  716.474121    0.751710      0  person\n",
      "5  164.931030  396.658447   420.920105  548.017090    0.699831     63  laptop\n",
      "6  857.718750  290.033905  1026.497803  369.384918    0.377586     13   bench\n",
      "7  859.315552  289.926270  1024.587402  368.443604    0.324815     56   chair\n",
      "8  496.485596  237.564575   662.778320  299.899048    0.295549     56   chair\n",
      "9  487.221924  143.884460   635.599731  204.386597    0.262430     56   chair\n",
      "         xmin        ymin         xmax        ymax  confidence  class    name\n",
      "0  297.400574  315.650940   789.325500  663.295959    0.884780      0  person\n",
      "1    1.679100   96.507156   186.822937  540.840637    0.850667      0  person\n",
      "2  758.970093  408.535126  1257.052734  716.909302    0.786515      0  person\n",
      "3  575.004517  517.313416   799.215210  660.560120    0.782328     63  laptop\n",
      "4    4.296364  611.328003   234.288483  716.367188    0.762556      0  person\n",
      "5  164.933319  396.642029   420.655914  545.163208    0.717934     63  laptop\n",
      "6  858.971375  289.843506  1026.583374  369.994873    0.366051     13   bench\n",
      "7  860.288818  289.825928  1024.803101  368.826538    0.319520     56   chair\n",
      "8  497.535980  237.560791   662.780884  300.096741    0.316673     56   chair\n",
      "9  488.123901  145.144714   634.969604  204.496277    0.273158     56   chair\n"
     ]
    },
    {
     "name": "stderr",
     "output_type": "stream",
     "text": [
      "C:\\Users\\ALFIYA/.cache\\torch\\hub\\ultralytics_yolov5_master\\models\\common.py:892: FutureWarning: `torch.cuda.amp.autocast(args...)` is deprecated. Please use `torch.amp.autocast('cuda', args...)` instead.\n",
      "  with amp.autocast(autocast):\n",
      "C:\\Users\\ALFIYA/.cache\\torch\\hub\\ultralytics_yolov5_master\\models\\common.py:892: FutureWarning: `torch.cuda.amp.autocast(args...)` is deprecated. Please use `torch.amp.autocast('cuda', args...)` instead.\n",
      "  with amp.autocast(autocast):\n"
     ]
    },
    {
     "name": "stdout",
     "output_type": "stream",
     "text": [
      "         xmin        ymin         xmax        ymax  confidence  class    name\n",
      "0  297.556519  315.677429   789.856567  663.910583    0.884774      0  person\n",
      "1    1.638504   97.050171   186.289398  540.963135    0.846556      0  person\n",
      "2  758.072510  408.223206  1254.817139  716.992859    0.785291      0  person\n",
      "3  574.599121  517.865234   799.531250  660.623779    0.784963     63  laptop\n",
      "4    4.127617  610.526245   234.015991  716.327759    0.763398      0  person\n",
      "5  165.227234  397.769531   419.564941  544.561157    0.716146     63  laptop\n",
      "6  858.673096  289.954803  1026.515991  370.039459    0.370715     13   bench\n",
      "7  860.031860  289.829773  1024.699341  368.834290    0.342038     56   chair\n",
      "8  497.383423  237.376801   663.086304  300.283905    0.313484     56   chair\n",
      "9  488.057068  145.411865   635.151672  204.563599    0.274099     56   chair\n",
      "         xmin        ymin         xmax        ymax  confidence  class    name\n",
      "0  296.943939  315.723877   789.782104  664.953369    0.884834      0  person\n",
      "1    1.635239   96.429047   185.929001  540.007202    0.860144      0  person\n",
      "2  574.680481  518.099182   799.618347  660.987732    0.789019     63  laptop\n",
      "3  757.544250  408.349609  1253.609497  716.966919    0.781780      0  person\n",
      "4    4.053749  609.981079   233.602417  716.376953    0.764935      0  person\n",
      "5  163.854675  397.792938   418.792114  544.691406    0.735469     63  laptop\n",
      "6  858.717285  289.996643  1026.497559  370.246765    0.363427     13   bench\n",
      "7  497.317688  237.550201   663.472595  300.253998    0.323815     56   chair\n",
      "8  859.946594  289.785919  1024.756714  368.971954    0.314273     56   chair\n",
      "9  488.196533  145.678787   635.136963  204.746048    0.279517     56   chair\n"
     ]
    },
    {
     "name": "stderr",
     "output_type": "stream",
     "text": [
      "C:\\Users\\ALFIYA/.cache\\torch\\hub\\ultralytics_yolov5_master\\models\\common.py:892: FutureWarning: `torch.cuda.amp.autocast(args...)` is deprecated. Please use `torch.amp.autocast('cuda', args...)` instead.\n",
      "  with amp.autocast(autocast):\n",
      "C:\\Users\\ALFIYA/.cache\\torch\\hub\\ultralytics_yolov5_master\\models\\common.py:892: FutureWarning: `torch.cuda.amp.autocast(args...)` is deprecated. Please use `torch.amp.autocast('cuda', args...)` instead.\n",
      "  with amp.autocast(autocast):\n"
     ]
    },
    {
     "name": "stdout",
     "output_type": "stream",
     "text": [
      "         xmin        ymin         xmax        ymax  confidence  class    name\n",
      "0  297.133118  315.749756   788.419617  663.730103    0.885362      0  person\n",
      "1    1.609261   96.458054   185.627289  539.968750    0.863197      0  person\n",
      "2  574.109619  517.844727   799.049561  661.496582    0.800004     63  laptop\n",
      "3  757.159790  408.556946  1252.760864  717.023010    0.790927      0  person\n",
      "4    3.728783  608.834473   233.929779  716.346924    0.766250      0  person\n",
      "5  162.267044  398.385437   417.156067  545.077148    0.758464     63  laptop\n",
      "6  861.292603  291.394165  1025.994019  372.017578    0.345403     13   bench\n",
      "7  497.567200  238.178894   663.985901  300.235718    0.297557     56   chair\n",
      "8  487.846863  147.175522   634.472473  204.506241    0.285977     56   chair\n",
      "         xmin        ymin         xmax        ymax  confidence  class    name\n",
      "0  296.200867  315.570312   789.106750  664.196411    0.884225      0  person\n",
      "1    1.755623   96.264999   185.069458  539.273560    0.864729      0  person\n",
      "2  573.701782  518.380371   798.863647  662.038818    0.800207     63  laptop\n",
      "3  757.401367  408.864807  1251.243164  716.873230    0.776638      0  person\n",
      "4    3.676476  607.745483   232.526855  716.027344    0.768723      0  person\n",
      "5  162.078461  398.752472   417.738800  544.507690    0.758399     63  laptop\n",
      "6  861.701721  291.535767  1025.624634  372.622437    0.379756     13   bench\n",
      "7  497.628113  238.452637   663.921204  300.493408    0.336259     56   chair\n",
      "8  488.408813  146.917404   634.738159  204.738815    0.286008     56   chair\n",
      "9  860.242859  290.034180  1024.629395  369.424988    0.272350     56   chair\n"
     ]
    },
    {
     "name": "stderr",
     "output_type": "stream",
     "text": [
      "C:\\Users\\ALFIYA/.cache\\torch\\hub\\ultralytics_yolov5_master\\models\\common.py:892: FutureWarning: `torch.cuda.amp.autocast(args...)` is deprecated. Please use `torch.amp.autocast('cuda', args...)` instead.\n",
      "  with amp.autocast(autocast):\n",
      "C:\\Users\\ALFIYA/.cache\\torch\\hub\\ultralytics_yolov5_master\\models\\common.py:892: FutureWarning: `torch.cuda.amp.autocast(args...)` is deprecated. Please use `torch.amp.autocast('cuda', args...)` instead.\n",
      "  with amp.autocast(autocast):\n"
     ]
    },
    {
     "name": "stdout",
     "output_type": "stream",
     "text": [
      "         xmin        ymin         xmax        ymax  confidence  class    name\n",
      "0  296.637817  315.366882   789.205444  664.082947    0.881937      0  person\n",
      "1    1.700523   95.730042   185.774811  539.607910    0.865716      0  person\n",
      "2  573.158264  518.580688   798.439636  661.938110    0.793250     63  laptop\n",
      "3    3.597046  604.846497   231.174438  715.743713    0.774790      0  person\n",
      "4  757.304565  408.957520  1250.484009  716.877686    0.765539      0  person\n",
      "5  162.268799  398.834229   417.122253  544.470215    0.756574     63  laptop\n",
      "6  861.804260  291.582703  1025.487305  372.824402    0.356637     13   bench\n",
      "7  497.741699  238.387817   663.953125  300.581909    0.330377     56   chair\n",
      "8  488.371918  147.132080   634.889648  204.719757    0.278161     56   chair\n",
      "         xmin        ymin         xmax        ymax  confidence  class    name\n",
      "0  296.760254  315.379028   789.342651  664.489624    0.883343      0  person\n",
      "1    1.682755   95.822525   186.255783  539.390869    0.874091      0  person\n",
      "2  573.215881  518.728271   798.497986  661.935059    0.792323     63  laptop\n",
      "3    3.334969  602.753845   229.573608  715.891418    0.790981      0  person\n",
      "4  756.291138  408.991974  1249.884521  716.685669    0.771415      0  person\n",
      "5  162.068314  398.736267   417.280090  544.333313    0.757839     63  laptop\n",
      "6  861.779236  291.675781  1025.309937  372.919739    0.359239     13   bench\n",
      "7  497.686096  238.379852   663.965759  300.639069    0.326230     56   chair\n",
      "8  488.394531  146.899185   634.742188  204.762161    0.283026     56   chair\n"
     ]
    },
    {
     "name": "stderr",
     "output_type": "stream",
     "text": [
      "C:\\Users\\ALFIYA/.cache\\torch\\hub\\ultralytics_yolov5_master\\models\\common.py:892: FutureWarning: `torch.cuda.amp.autocast(args...)` is deprecated. Please use `torch.amp.autocast('cuda', args...)` instead.\n",
      "  with amp.autocast(autocast):\n",
      "C:\\Users\\ALFIYA/.cache\\torch\\hub\\ultralytics_yolov5_master\\models\\common.py:892: FutureWarning: `torch.cuda.amp.autocast(args...)` is deprecated. Please use `torch.amp.autocast('cuda', args...)` instead.\n",
      "  with amp.autocast(autocast):\n"
     ]
    },
    {
     "name": "stdout",
     "output_type": "stream",
     "text": [
      "         xmin        ymin         xmax        ymax  confidence  class    name\n",
      "0  297.488861  315.716187   789.256470  664.891724    0.882611      0  person\n",
      "1    1.692322   95.464203   186.014145  539.922974    0.868501      0  person\n",
      "2  573.914551  518.551208   798.827148  661.761902    0.790308     63  laptop\n",
      "3    3.279640  600.932373   228.357361  715.670532    0.788550      0  person\n",
      "4  757.430298  409.171082  1249.998535  716.675598    0.765071      0  person\n",
      "5  161.445251  398.837952   417.359314  543.164246    0.762885     63  laptop\n",
      "6  860.583069  291.659363  1025.495850  373.279663    0.373050     13   bench\n",
      "7  498.237061  238.284698   664.181641  300.861176    0.290264     56   chair\n",
      "8  488.284760  148.042679   634.830872  204.901749    0.288309     56   chair\n",
      "         xmin        ymin         xmax        ymax  confidence  class    name\n",
      "0  297.420898  315.941345   788.105469  665.198547    0.885606      0  person\n",
      "1    1.711082   95.334213   186.396484  539.176575    0.869933      0  person\n",
      "2    3.167717  598.801697   227.169128  715.142639    0.803881      0  person\n",
      "3  574.228821  518.310974   799.137634  661.602844    0.784851     63  laptop\n",
      "4  161.116257  399.098175   418.077698  542.765320    0.757312     63  laptop\n",
      "5  756.863708  409.117950  1250.430542  716.648682    0.755462      0  person\n",
      "6  860.090515  291.823486  1025.888428  373.527710    0.398632     13   bench\n",
      "7  498.088806  238.217712   664.501648  301.027710    0.273079     56   chair\n",
      "8  488.048462  147.279495   635.226074  205.004715    0.267311     56   chair\n"
     ]
    },
    {
     "name": "stderr",
     "output_type": "stream",
     "text": [
      "C:\\Users\\ALFIYA/.cache\\torch\\hub\\ultralytics_yolov5_master\\models\\common.py:892: FutureWarning: `torch.cuda.amp.autocast(args...)` is deprecated. Please use `torch.amp.autocast('cuda', args...)` instead.\n",
      "  with amp.autocast(autocast):\n",
      "C:\\Users\\ALFIYA/.cache\\torch\\hub\\ultralytics_yolov5_master\\models\\common.py:892: FutureWarning: `torch.cuda.amp.autocast(args...)` is deprecated. Please use `torch.amp.autocast('cuda', args...)` instead.\n",
      "  with amp.autocast(autocast):\n"
     ]
    },
    {
     "name": "stdout",
     "output_type": "stream",
     "text": [
      "         xmin        ymin         xmax        ymax  confidence  class    name\n",
      "0  297.812683  316.167542   788.606995  665.442200    0.884109      0  person\n",
      "1    1.762161   95.279083   186.361389  540.293823    0.864369      0  person\n",
      "2    3.247070  596.672546   224.331116  715.214417    0.796893      0  person\n",
      "3  574.199524  518.354370   798.764465  661.589111    0.787049     63  laptop\n",
      "4  161.069778  399.350647   418.187988  542.631104    0.764247     63  laptop\n",
      "5  756.780518  409.079529  1250.720215  716.616882    0.750197      0  person\n",
      "6  859.956970  291.876556  1025.900757  373.562653    0.403056     13   bench\n",
      "7  497.829926  238.237000   664.603516  301.248840    0.267822     56   chair\n",
      "8  488.027100  148.509689   635.238647  205.060989    0.267596     56   chair\n",
      "         xmin        ymin         xmax        ymax  confidence  class    name\n",
      "0  297.966919  316.184845   788.425293  666.163330    0.883287      0  person\n",
      "1    1.991302   95.247498   186.255753  540.141602    0.862512      0  person\n",
      "2    4.074898  595.946350   222.658020  715.256287    0.800653      0  person\n",
      "3  574.169861  518.334351   799.008118  661.741211    0.786617     63  laptop\n",
      "4  160.690842  399.785767   417.912354  542.417725    0.759709     63  laptop\n",
      "5  757.410828  408.968384  1251.274414  716.887817    0.747258      0  person\n",
      "6  859.875916  291.955292  1026.072388  373.641388    0.396444     13   bench\n",
      "7  487.991455  147.366562   635.430176  204.982681    0.265305     56   chair\n",
      "8  497.803650  238.166443   664.451721  301.373352    0.251420     56   chair\n"
     ]
    },
    {
     "name": "stderr",
     "output_type": "stream",
     "text": [
      "C:\\Users\\ALFIYA/.cache\\torch\\hub\\ultralytics_yolov5_master\\models\\common.py:892: FutureWarning: `torch.cuda.amp.autocast(args...)` is deprecated. Please use `torch.amp.autocast('cuda', args...)` instead.\n",
      "  with amp.autocast(autocast):\n",
      "C:\\Users\\ALFIYA/.cache\\torch\\hub\\ultralytics_yolov5_master\\models\\common.py:892: FutureWarning: `torch.cuda.amp.autocast(args...)` is deprecated. Please use `torch.amp.autocast('cuda', args...)` instead.\n",
      "  with amp.autocast(autocast):\n"
     ]
    },
    {
     "name": "stdout",
     "output_type": "stream",
     "text": [
      "         xmin        ymin         xmax        ymax  confidence  class    name\n",
      "0  297.963684  316.281494   788.456848  665.638794    0.884176      0  person\n",
      "1    1.734283   95.147476   186.545532  540.405029    0.862619      0  person\n",
      "2    4.327667  594.673950   221.056519  715.499268    0.783596      0  person\n",
      "3  574.796753  518.173523   799.183594  661.655701    0.776896     63  laptop\n",
      "4  161.585007  399.693665   417.636169  544.191650    0.746669     63  laptop\n",
      "5  757.728333  408.762390  1251.053955  716.865295    0.740306      0  person\n",
      "6  860.423828  292.260620  1025.625244  373.292603    0.346713     13   bench\n",
      "         xmin        ymin         xmax        ymax  confidence  class    name\n",
      "0  298.075562  316.084259   788.490967  666.039429    0.883219      0  person\n",
      "1    1.610352   95.253983   186.152771  539.941101    0.864471      0  person\n",
      "2    4.319023  592.969055   218.560547  715.577454    0.794828      0  person\n",
      "3  574.718018  518.292419   799.377319  661.983704    0.786814     63  laptop\n",
      "4  161.497284  399.888367   417.316803  544.554016    0.747578     63  laptop\n",
      "5  758.480957  408.729187  1250.654541  716.962708    0.727387      0  person\n",
      "6  860.500854  292.242126  1025.822388  373.020569    0.340643     13   bench\n"
     ]
    },
    {
     "name": "stderr",
     "output_type": "stream",
     "text": [
      "C:\\Users\\ALFIYA/.cache\\torch\\hub\\ultralytics_yolov5_master\\models\\common.py:892: FutureWarning: `torch.cuda.amp.autocast(args...)` is deprecated. Please use `torch.amp.autocast('cuda', args...)` instead.\n",
      "  with amp.autocast(autocast):\n",
      "C:\\Users\\ALFIYA/.cache\\torch\\hub\\ultralytics_yolov5_master\\models\\common.py:892: FutureWarning: `torch.cuda.amp.autocast(args...)` is deprecated. Please use `torch.amp.autocast('cuda', args...)` instead.\n",
      "  with amp.autocast(autocast):\n"
     ]
    },
    {
     "name": "stdout",
     "output_type": "stream",
     "text": [
      "         xmin        ymin         xmax        ymax  confidence  class    name\n",
      "0  298.986420  316.150940   788.869873  665.305847    0.881426      0  person\n",
      "1    1.804726   95.410263   185.730042  540.083313    0.856903      0  person\n",
      "2  574.559570  518.477356   798.834717  662.388123    0.787515     63  laptop\n",
      "3    4.163979  591.541260   216.680603  715.832642    0.782176      0  person\n",
      "4  161.100220  400.014038   416.929443  544.149658    0.761477     63  laptop\n",
      "5  758.336792  408.550049  1250.693115  717.054810    0.727735      0  person\n",
      "6  860.590942  292.411377  1025.988281  373.660400    0.332017     13   bench\n",
      "7  488.263733  147.701294   635.620544  205.771820    0.269446     56   chair\n",
      "         xmin        ymin         xmax        ymax  confidence  class    name\n",
      "0  298.084595  315.960205   788.524292  665.474365    0.883874      0  person\n",
      "1    1.853958   95.338943   186.099838  540.218567    0.861996      0  person\n",
      "2    3.379936  589.448853   214.249237  716.217773    0.791291      0  person\n",
      "3  574.409912  518.180603   798.658936  662.803528    0.789033     63  laptop\n",
      "4  160.172485  400.551605   416.524902  544.776978    0.782672     63  laptop\n",
      "5  757.842896  408.655701  1251.011353  717.149719    0.738146      0  person\n",
      "6  860.906189  292.372314  1026.273926  373.441040    0.338964     13   bench\n",
      "7  488.618469  149.044495   635.363953  205.721375    0.267102     56   chair\n"
     ]
    },
    {
     "name": "stderr",
     "output_type": "stream",
     "text": [
      "C:\\Users\\ALFIYA/.cache\\torch\\hub\\ultralytics_yolov5_master\\models\\common.py:892: FutureWarning: `torch.cuda.amp.autocast(args...)` is deprecated. Please use `torch.amp.autocast('cuda', args...)` instead.\n",
      "  with amp.autocast(autocast):\n",
      "C:\\Users\\ALFIYA/.cache\\torch\\hub\\ultralytics_yolov5_master\\models\\common.py:892: FutureWarning: `torch.cuda.amp.autocast(args...)` is deprecated. Please use `torch.amp.autocast('cuda', args...)` instead.\n",
      "  with amp.autocast(autocast):\n"
     ]
    },
    {
     "name": "stdout",
     "output_type": "stream",
     "text": [
      "         xmin        ymin         xmax        ymax  confidence  class    name\n",
      "0  297.413513  316.227020   788.151306  665.679565    0.887037      0  person\n",
      "1    1.957901   95.378342   186.173538  541.078186    0.856397      0  person\n",
      "2  573.959778  518.660156   797.710632  663.206787    0.792312     63  laptop\n",
      "3  160.511444  400.958740   416.533478  545.190552    0.780783     63  laptop\n",
      "4    3.596848  588.293396   213.106491  716.472107    0.780348      0  person\n",
      "5  758.965210  408.901794  1250.946167  717.128845    0.723688      0  person\n",
      "6  860.803955  292.547913  1026.144897  373.207703    0.347774     13   bench\n",
      "7  488.820068  149.039459   635.789307  205.807526    0.258591     56   chair\n",
      "         xmin        ymin         xmax        ymax  confidence  class    name\n",
      "0  298.297546  316.504333   788.161926  665.963562    0.886288      0  person\n",
      "1    1.968658   96.032135   186.653473  542.354370    0.858180      0  person\n",
      "2    3.228249  587.274414   210.798492  716.546875    0.796620      0  person\n",
      "3  574.473816  518.577759   797.770325  663.158569    0.788655     63  laptop\n",
      "4  162.705963  401.193848   416.598236  546.995117    0.764000     63  laptop\n",
      "5  757.135620  409.018921  1251.512451  716.898315    0.730758      0  person\n",
      "6  861.316345  292.836090  1026.409302  373.239594    0.373866     13   bench\n",
      "7  488.431396  147.568939   635.760742  206.033142    0.274159     56   chair\n",
      "8  497.656433  237.907837   664.069641  302.380676    0.253252     56   chair\n"
     ]
    },
    {
     "name": "stderr",
     "output_type": "stream",
     "text": [
      "C:\\Users\\ALFIYA/.cache\\torch\\hub\\ultralytics_yolov5_master\\models\\common.py:892: FutureWarning: `torch.cuda.amp.autocast(args...)` is deprecated. Please use `torch.amp.autocast('cuda', args...)` instead.\n",
      "  with amp.autocast(autocast):\n",
      "C:\\Users\\ALFIYA/.cache\\torch\\hub\\ultralytics_yolov5_master\\models\\common.py:892: FutureWarning: `torch.cuda.amp.autocast(args...)` is deprecated. Please use `torch.amp.autocast('cuda', args...)` instead.\n",
      "  with amp.autocast(autocast):\n"
     ]
    },
    {
     "name": "stdout",
     "output_type": "stream",
     "text": [
      "         xmin        ymin         xmax        ymax  confidence  class    name\n",
      "0  298.190002  316.682434   788.293640  665.213684    0.884719      0  person\n",
      "1    1.929649   96.282288   186.735199  542.175293    0.864847      0  person\n",
      "2    3.147186  586.317993   209.556976  716.575073    0.795627      0  person\n",
      "3  574.154419  518.631409   797.931274  663.604919    0.792790     63  laptop\n",
      "4  164.370758  401.232452   416.116425  547.033386    0.749018     63  laptop\n",
      "5  756.685303  409.056244  1251.180298  716.923584    0.735535      0  person\n",
      "6  860.669128  292.743225  1026.545410  373.266174    0.397849     13   bench\n",
      "7  859.107422  291.319244  1025.866089  370.152374    0.266254     56   chair\n",
      "         xmin        ymin         xmax        ymax  confidence  class    name\n",
      "0  299.159210  317.142090   788.931885  665.302002    0.883403      0  person\n",
      "1    1.970314   96.893341   188.090088  542.585938    0.867522      0  person\n",
      "2    3.403229  586.458069   208.182922  716.656555    0.801887      0  person\n",
      "3  573.873840  519.004761   798.301819  663.875000    0.798101     63  laptop\n",
      "4  165.371979  401.533142   416.528107  546.523804    0.744008     63  laptop\n",
      "5  756.330444  409.092834  1251.462036  716.857117    0.728858      0  person\n",
      "6  861.252136  292.815826  1026.889160  373.136444    0.397276     13   bench\n",
      "7  497.927612  237.855103   664.329468  302.434509    0.268741     56   chair\n",
      "8  487.615143  145.302444   636.134338  206.332993    0.254105     56   chair\n"
     ]
    },
    {
     "name": "stderr",
     "output_type": "stream",
     "text": [
      "C:\\Users\\ALFIYA/.cache\\torch\\hub\\ultralytics_yolov5_master\\models\\common.py:892: FutureWarning: `torch.cuda.amp.autocast(args...)` is deprecated. Please use `torch.amp.autocast('cuda', args...)` instead.\n",
      "  with amp.autocast(autocast):\n",
      "C:\\Users\\ALFIYA/.cache\\torch\\hub\\ultralytics_yolov5_master\\models\\common.py:892: FutureWarning: `torch.cuda.amp.autocast(args...)` is deprecated. Please use `torch.amp.autocast('cuda', args...)` instead.\n",
      "  with amp.autocast(autocast):\n"
     ]
    },
    {
     "name": "stdout",
     "output_type": "stream",
     "text": [
      "         xmin        ymin         xmax        ymax  confidence  class    name\n",
      "0  300.233154  317.591675   788.680542  665.406738    0.883974      0  person\n",
      "1    1.947960   97.407074   187.606384  542.539062    0.869629      0  person\n",
      "2    3.246849  586.245728   206.967621  716.773315    0.799218      0  person\n",
      "3  573.819580  519.064941   799.052002  663.369629    0.794306     63  laptop\n",
      "4  164.673950  401.725891   416.413025  545.457092    0.745549     63  laptop\n",
      "5  757.307068  409.225647  1251.703125  716.973694    0.740151      0  person\n",
      "6  860.614319  292.891846  1026.697144  373.027161    0.398220     13   bench\n",
      "7  497.823822  238.697754   664.261292  302.273682    0.256465     56   chair\n",
      "8  488.317352  147.352173   635.952942  206.553253    0.256427     56   chair\n",
      "         xmin        ymin         xmax        ymax  confidence  class    name\n",
      "0  300.559204  317.990356   788.708496  666.133301    0.885053      0  person\n",
      "1    1.888420   97.951263   187.638702  542.432373    0.867479      0  person\n",
      "2  573.225708  519.285767   798.932251  663.422729    0.797703     63  laptop\n",
      "3    3.280510  584.853699   205.889954  716.978455    0.795001      0  person\n",
      "4  757.355530  409.562469  1251.664917  716.852295    0.739407      0  person\n",
      "5  164.268372  401.912109   416.490295  545.202271    0.736370     63  laptop\n",
      "6  860.942383  293.112213  1026.307373  373.145844    0.394596     13   bench\n",
      "7  858.727600  291.734344  1025.648804  370.164337    0.282904     56   chair\n",
      "8  497.577271  238.678131   664.421265  302.388031    0.262136     56   chair\n",
      "9  488.200012  146.509323   636.251160  206.431900    0.254471     56   chair\n"
     ]
    },
    {
     "name": "stderr",
     "output_type": "stream",
     "text": [
      "C:\\Users\\ALFIYA/.cache\\torch\\hub\\ultralytics_yolov5_master\\models\\common.py:892: FutureWarning: `torch.cuda.amp.autocast(args...)` is deprecated. Please use `torch.amp.autocast('cuda', args...)` instead.\n",
      "  with amp.autocast(autocast):\n",
      "C:\\Users\\ALFIYA/.cache\\torch\\hub\\ultralytics_yolov5_master\\models\\common.py:892: FutureWarning: `torch.cuda.amp.autocast(args...)` is deprecated. Please use `torch.amp.autocast('cuda', args...)` instead.\n",
      "  with amp.autocast(autocast):\n"
     ]
    },
    {
     "name": "stdout",
     "output_type": "stream",
     "text": [
      "         xmin        ymin         xmax        ymax  confidence  class    name\n",
      "0  300.646698  318.218994   788.671753  666.400269    0.885985      0  person\n",
      "1    1.968597   97.976242   186.811371  542.430115    0.869174      0  person\n",
      "2    3.030251  584.852173   204.936676  717.059937    0.802326      0  person\n",
      "3  572.965576  519.732056   799.228516  663.439331    0.794608     63  laptop\n",
      "4  756.895142  409.847290  1251.525879  716.691162    0.749609      0  person\n",
      "5  164.733215  401.993591   416.452087  545.520935    0.731622     63  laptop\n",
      "6  861.431763  293.440002  1026.224243  373.398438    0.400597     13   bench\n",
      "7  859.225220  292.080292  1025.322754  370.358551    0.275620     56   chair\n",
      "         xmin        ymin         xmax        ymax  confidence  class    name\n",
      "0  301.096497  318.272217   788.653137  666.375977    0.884607      0  person\n",
      "1    2.033234   98.285797   186.937500  542.403809    0.868402      0  person\n",
      "2    3.152466  584.955200   203.521454  717.136963    0.803401      0  person\n",
      "3  572.909607  519.808838   799.172058  663.695801    0.796341     63  laptop\n",
      "4  757.086792  410.011230  1250.744507  716.684692    0.737336      0  person\n",
      "5  165.035492  402.377716   416.418793  545.328857    0.734579     63  laptop\n",
      "6  861.396851  293.355042  1026.637939  373.698303    0.385181     13   bench\n",
      "7  859.096375  291.834198  1025.601074  370.570892    0.280128     56   chair\n"
     ]
    },
    {
     "name": "stderr",
     "output_type": "stream",
     "text": [
      "C:\\Users\\ALFIYA/.cache\\torch\\hub\\ultralytics_yolov5_master\\models\\common.py:892: FutureWarning: `torch.cuda.amp.autocast(args...)` is deprecated. Please use `torch.amp.autocast('cuda', args...)` instead.\n",
      "  with amp.autocast(autocast):\n",
      "C:\\Users\\ALFIYA/.cache\\torch\\hub\\ultralytics_yolov5_master\\models\\common.py:892: FutureWarning: `torch.cuda.amp.autocast(args...)` is deprecated. Please use `torch.amp.autocast('cuda', args...)` instead.\n",
      "  with amp.autocast(autocast):\n"
     ]
    },
    {
     "name": "stdout",
     "output_type": "stream",
     "text": [
      "         xmin        ymin         xmax        ymax  confidence  class    name\n",
      "0  299.302307  318.338379   788.529968  666.923462    0.887129      0  person\n",
      "1    2.068520   98.494568   186.342987  542.854675    0.867829      0  person\n",
      "2    3.145500  585.099915   203.366119  716.914246    0.804216      0  person\n",
      "3  573.018250  520.069336   799.198547  663.860596    0.791875     63  laptop\n",
      "4  757.094788  410.084473  1252.099609  716.636475    0.739965      0  person\n",
      "5  165.571411  402.525269   416.514954  544.879333    0.730130     63  laptop\n",
      "6  861.591797  292.076630  1027.655273  372.785553    0.397271     13   bench\n",
      "7  857.687439  291.820343  1027.816406  370.809723    0.301083     56   chair\n",
      "         xmin        ymin         xmax        ymax  confidence  class    name\n",
      "0  299.312103  318.442322   789.009277  666.809387    0.887479      0  person\n",
      "1    2.157295   98.503387   186.034851  543.236816    0.869490      0  person\n",
      "2  572.400452  520.500671   800.187927  663.869324    0.798508     63  laptop\n",
      "3    3.278885  585.643066   202.155807  717.240479    0.797233      0  person\n",
      "4  756.297424  410.288025  1252.140625  716.413391    0.723987      0  person\n",
      "5  168.313751  402.342987   415.981903  544.865234    0.714200     63  laptop\n",
      "6  861.827515  292.065155  1027.971558  372.676788    0.413743     13   bench\n",
      "7  858.444946  291.886536  1027.657349  370.653015    0.315817     56   chair\n",
      "8  487.402100  145.578720   636.750122  206.573502    0.257198     56   chair\n"
     ]
    },
    {
     "name": "stderr",
     "output_type": "stream",
     "text": [
      "C:\\Users\\ALFIYA/.cache\\torch\\hub\\ultralytics_yolov5_master\\models\\common.py:892: FutureWarning: `torch.cuda.amp.autocast(args...)` is deprecated. Please use `torch.amp.autocast('cuda', args...)` instead.\n",
      "  with amp.autocast(autocast):\n",
      "C:\\Users\\ALFIYA/.cache\\torch\\hub\\ultralytics_yolov5_master\\models\\common.py:892: FutureWarning: `torch.cuda.amp.autocast(args...)` is deprecated. Please use `torch.amp.autocast('cuda', args...)` instead.\n",
      "  with amp.autocast(autocast):\n"
     ]
    },
    {
     "name": "stdout",
     "output_type": "stream",
     "text": [
      "         xmin        ymin         xmax        ymax  confidence  class    name\n",
      "0  299.151245  318.530457   789.343140  667.556702    0.887662      0  person\n",
      "1    1.999115   98.569183   185.373795  543.459229    0.873904      0  person\n",
      "2    3.657509  587.298157   201.424011  717.196472    0.797760      0  person\n",
      "3  573.211914  520.230774   800.712158  663.507751    0.785863     63  laptop\n",
      "4  167.408112  403.271484   415.221649  544.523804    0.727224     63  laptop\n",
      "5  758.005249  410.375793  1251.586792  716.596375    0.711681      0  person\n",
      "6  861.927063  292.216187  1028.054443  372.959106    0.426841     13   bench\n",
      "7  858.733948  292.092651  1027.252319  370.889038    0.335029     56   chair\n",
      "8  488.207153  146.900833   636.773071  206.596603    0.260354     56   chair\n",
      "          xmin        ymin         xmax        ymax  confidence  class    name\n",
      "0   300.059692  318.505676   789.091431  667.701233    0.888248      0  person\n",
      "1     2.013481   98.367447   185.207489  543.555664    0.872049      0  person\n",
      "2     3.717041  587.977051   201.060272  717.254395    0.794788      0  person\n",
      "3   573.223145  520.237854   800.753174  663.655090    0.789544     63  laptop\n",
      "4   167.601715  403.048309   415.433197  544.548889    0.721811     63  laptop\n",
      "5   759.536621  410.499054  1251.980103  716.699951    0.706840      0  person\n",
      "6   862.288391  292.509003  1028.217041  373.205048    0.439233     13   bench\n",
      "7   859.002319  292.377716  1027.001343  371.007599    0.352512     56   chair\n",
      "8   497.794128  239.117645   665.006775  302.479462    0.262007     56   chair\n",
      "9   758.606201  454.108887   937.182861  549.424561    0.257722     63  laptop\n",
      "10  488.172699  147.796738   637.139954  206.695419    0.253967     56   chair\n"
     ]
    },
    {
     "name": "stderr",
     "output_type": "stream",
     "text": [
      "C:\\Users\\ALFIYA/.cache\\torch\\hub\\ultralytics_yolov5_master\\models\\common.py:892: FutureWarning: `torch.cuda.amp.autocast(args...)` is deprecated. Please use `torch.amp.autocast('cuda', args...)` instead.\n",
      "  with amp.autocast(autocast):\n",
      "C:\\Users\\ALFIYA/.cache\\torch\\hub\\ultralytics_yolov5_master\\models\\common.py:892: FutureWarning: `torch.cuda.amp.autocast(args...)` is deprecated. Please use `torch.amp.autocast('cuda', args...)` instead.\n",
      "  with amp.autocast(autocast):\n"
     ]
    },
    {
     "name": "stdout",
     "output_type": "stream",
     "text": [
      "         xmin        ymin         xmax        ymax  confidence  class    name\n",
      "0  299.543152  318.211182   789.869934  668.594360    0.888360      0  person\n",
      "1    2.090530   98.480881   186.191086  543.462158    0.868117      0  person\n",
      "2    3.633698  588.238281   200.472183  717.361450    0.790299      0  person\n",
      "3  573.184814  520.470642   800.504395  663.763489    0.782044     63  laptop\n",
      "4  169.603271  403.292419   415.003296  544.120422    0.719299     63  laptop\n",
      "5  758.841736  410.437927  1251.724243  716.536682    0.704255      0  person\n",
      "6  862.167053  292.474060  1028.260376  373.196838    0.445965     13   bench\n",
      "7  858.925415  292.284149  1027.052612  371.022247    0.341293     56   chair\n",
      "8  487.668793  147.778351   637.440002  206.937683    0.259054     56   chair\n",
      "9  497.520477  239.110413   665.464844  302.540710    0.256497     56   chair\n",
      "         xmin        ymin         xmax        ymax  confidence  class    name\n",
      "0  300.630554  318.256958   789.735535  667.954956    0.887318      0  person\n",
      "1    1.976837   98.281357   185.614746  543.654907    0.870013      0  person\n",
      "2    3.221527  588.236938   199.831818  717.262451    0.791137      0  person\n",
      "3  572.728760  520.775757   800.072266  663.911743    0.789036     63  laptop\n",
      "4  756.821289  410.571442  1252.896973  716.438721    0.716670      0  person\n",
      "5  170.264130  403.356598   414.820465  543.418213    0.710982     63  laptop\n",
      "6  861.281799  292.327301  1028.827148  373.316376    0.447947     13   bench\n",
      "7  859.327454  291.892151  1025.213623  371.149231    0.332038     56   chair\n",
      "8  487.646362  148.568237   638.239624  206.754761    0.257191     56   chair\n"
     ]
    },
    {
     "name": "stderr",
     "output_type": "stream",
     "text": [
      "C:\\Users\\ALFIYA/.cache\\torch\\hub\\ultralytics_yolov5_master\\models\\common.py:892: FutureWarning: `torch.cuda.amp.autocast(args...)` is deprecated. Please use `torch.amp.autocast('cuda', args...)` instead.\n",
      "  with amp.autocast(autocast):\n",
      "C:\\Users\\ALFIYA/.cache\\torch\\hub\\ultralytics_yolov5_master\\models\\common.py:892: FutureWarning: `torch.cuda.amp.autocast(args...)` is deprecated. Please use `torch.amp.autocast('cuda', args...)` instead.\n",
      "  with amp.autocast(autocast):\n"
     ]
    },
    {
     "name": "stdout",
     "output_type": "stream",
     "text": [
      "         xmin        ymin         xmax        ymax  confidence  class    name\n",
      "0  301.709534  318.219849   789.273865  667.114746    0.888027      0  person\n",
      "1    2.140831   98.528763   185.281738  543.532166    0.865478      0  person\n",
      "2  572.862427  520.457214   799.937256  664.771667    0.797966     63  laptop\n",
      "3    3.193184  588.518005   199.360291  717.192322    0.791928      0  person\n",
      "4  756.865479  410.386414  1251.590698  716.589417    0.730865      0  person\n",
      "5  171.834732  403.456055   414.607910  543.192200    0.716459     63  laptop\n",
      "6  861.389099  292.376770  1028.955566  373.356262    0.446623     13   bench\n",
      "7  859.350098  291.993256  1025.199341  371.166840    0.340444     56   chair\n",
      "8  487.520172  148.207306   638.419128  206.865784    0.251846     56   chair\n",
      "         xmin        ymin         xmax        ymax  confidence  class    name\n",
      "0  302.117310  318.255432   789.559570  666.837585    0.888119      0  person\n",
      "1    2.028625   98.699265   185.453613  543.400330    0.866601      0  person\n",
      "2  572.654907  520.564453   800.028931  664.813354    0.797535     63  laptop\n",
      "3    1.141945  588.670959   199.670868  717.111511    0.792259      0  person\n",
      "4  756.977844  410.277466  1251.422241  716.678345    0.736969      0  person\n",
      "5  171.805634  403.524048   414.630646  543.282471    0.717048     63  laptop\n",
      "6  861.839966  292.593597  1028.921997  373.563202    0.434257     13   bench\n",
      "7  859.571594  292.085632  1025.115234  371.361877    0.348823     56   chair\n",
      "8  487.489044  147.469513   638.374634  206.874390    0.251872     56   chair\n"
     ]
    },
    {
     "name": "stderr",
     "output_type": "stream",
     "text": [
      "C:\\Users\\ALFIYA/.cache\\torch\\hub\\ultralytics_yolov5_master\\models\\common.py:892: FutureWarning: `torch.cuda.amp.autocast(args...)` is deprecated. Please use `torch.amp.autocast('cuda', args...)` instead.\n",
      "  with amp.autocast(autocast):\n",
      "C:\\Users\\ALFIYA/.cache\\torch\\hub\\ultralytics_yolov5_master\\models\\common.py:892: FutureWarning: `torch.cuda.amp.autocast(args...)` is deprecated. Please use `torch.amp.autocast('cuda', args...)` instead.\n",
      "  with amp.autocast(autocast):\n"
     ]
    },
    {
     "name": "stdout",
     "output_type": "stream",
     "text": [
      "         xmin        ymin         xmax        ymax  confidence  class    name\n",
      "0  302.389526  318.438202   788.983643  666.816284    0.888483      0  person\n",
      "1    2.052017   98.513824   185.757156  543.691040    0.873431      0  person\n",
      "2  572.668884  520.305176   799.390320  664.744629    0.796664     63  laptop\n",
      "3    1.186447  588.369934   199.814407  716.767761    0.792984      0  person\n",
      "4  756.965820  410.178955  1250.815430  716.666138    0.730422      0  person\n",
      "5  172.571869  403.472168   414.922760  543.349854    0.707975     63  laptop\n",
      "6  861.494934  292.484772  1029.368896  373.291656    0.444292     13   bench\n",
      "7  859.574707  292.022461  1025.352051  371.085266    0.329710     56   chair\n",
      "8  487.699219  148.089325   638.409058  206.925171    0.254804     56   chair\n",
      "         xmin        ymin         xmax        ymax  confidence  class    name\n",
      "0  302.251343  318.564575   788.668823  667.044067    0.888329      0  person\n",
      "1    2.496147   98.195282   185.714600  543.645630    0.872171      0  person\n",
      "2  572.643616  520.277039   798.990417  664.718323    0.797712     63  laptop\n",
      "3    1.203751  587.819092   199.731628  716.886108    0.796978      0  person\n",
      "4  756.717896  410.196228  1251.455933  716.585510    0.710261      0  person\n",
      "5  177.661102  403.181091   414.649506  543.449768    0.702073     63  laptop\n",
      "6  861.407654  292.429352  1029.261963  373.540009    0.451347     13   bench\n",
      "7  858.438354  291.928223  1027.304688  371.256348    0.335065     56   chair\n",
      "8  760.758057  453.791656   936.463623  548.099365    0.274892     63  laptop\n",
      "9  487.815643  148.840317   638.455200  207.021957    0.255121     56   chair\n"
     ]
    },
    {
     "name": "stderr",
     "output_type": "stream",
     "text": [
      "C:\\Users\\ALFIYA/.cache\\torch\\hub\\ultralytics_yolov5_master\\models\\common.py:892: FutureWarning: `torch.cuda.amp.autocast(args...)` is deprecated. Please use `torch.amp.autocast('cuda', args...)` instead.\n",
      "  with amp.autocast(autocast):\n",
      "C:\\Users\\ALFIYA/.cache\\torch\\hub\\ultralytics_yolov5_master\\models\\common.py:892: FutureWarning: `torch.cuda.amp.autocast(args...)` is deprecated. Please use `torch.amp.autocast('cuda', args...)` instead.\n",
      "  with amp.autocast(autocast):\n"
     ]
    },
    {
     "name": "stdout",
     "output_type": "stream",
     "text": [
      "         xmin        ymin         xmax        ymax  confidence  class    name\n",
      "0  301.678680  318.529083   788.948364  667.234253    0.889347      0  person\n",
      "1    2.506958   97.976288   185.465576  543.345703    0.869915      0  person\n",
      "2  572.949402  520.888794   798.710510  664.743164    0.797256     63  laptop\n",
      "3    1.272842  587.370178   199.887161  716.909729    0.796702      0  person\n",
      "4  756.943359  410.184692  1251.861694  716.746948    0.712652      0  person\n",
      "5  176.653198  403.333344   414.524170  543.608337    0.703996     63  laptop\n",
      "6  861.469360  292.467346  1029.219604  373.646118    0.450533     13   bench\n",
      "7  859.268005  291.919647  1025.410889  371.373016    0.301326     56   chair\n",
      "8  487.736694  148.664597   638.490479  207.053909    0.256553     56   chair\n",
      "9  760.902710  453.755707   936.460938  548.233215    0.250258     63  laptop\n",
      "         xmin        ymin         xmax        ymax  confidence  class    name\n",
      "0  302.611664  318.614349   789.358154  666.288940    0.888224      0  person\n",
      "1    2.491959   97.918472   185.177383  542.717041    0.869613      0  person\n",
      "2    1.181366  586.951477   199.864716  716.978210    0.798462      0  person\n",
      "3  572.633057  520.581421   798.533447  665.023682    0.797810     63  laptop\n",
      "4  758.040649  410.010986  1251.261353  716.869629    0.713191      0  person\n",
      "5  179.975754  403.268738   414.548767  543.741089    0.696331     63  laptop\n",
      "6  861.955505  292.468933  1029.244873  373.641663    0.447686     13   bench\n",
      "7  859.680237  291.866394  1025.453247  371.394897    0.301508     56   chair\n",
      "8  487.682709  148.342133   638.335632  207.070740    0.252473     56   chair\n"
     ]
    },
    {
     "name": "stderr",
     "output_type": "stream",
     "text": [
      "C:\\Users\\ALFIYA/.cache\\torch\\hub\\ultralytics_yolov5_master\\models\\common.py:892: FutureWarning: `torch.cuda.amp.autocast(args...)` is deprecated. Please use `torch.amp.autocast('cuda', args...)` instead.\n",
      "  with amp.autocast(autocast):\n",
      "C:\\Users\\ALFIYA/.cache\\torch\\hub\\ultralytics_yolov5_master\\models\\common.py:892: FutureWarning: `torch.cuda.amp.autocast(args...)` is deprecated. Please use `torch.amp.autocast('cuda', args...)` instead.\n",
      "  with amp.autocast(autocast):\n"
     ]
    },
    {
     "name": "stdout",
     "output_type": "stream",
     "text": [
      "         xmin        ymin         xmax        ymax  confidence  class    name\n",
      "0  302.246826  318.527588   788.442017  666.485840    0.889816      0  person\n",
      "1    2.402046   97.938644   184.756989  542.612000    0.870245      0  person\n",
      "2  572.819824  520.981567   797.419922  664.724243    0.798658     63  laptop\n",
      "3    1.284187  586.147583   200.287537  717.018555    0.795828      0  person\n",
      "4  758.422729  409.881165  1251.328003  716.923035    0.704887      0  person\n",
      "5  180.353470  403.054871   414.280090  545.236694    0.698398     63  laptop\n",
      "6  861.720703  292.266510  1028.950195  373.522552    0.437951     13   bench\n",
      "7  858.442810  291.654816  1027.151611  371.323090    0.328091     56   chair\n",
      "8  760.008667  453.817017   936.472534  548.411011    0.272170     63  laptop\n",
      "         xmin        ymin         xmax        ymax  confidence  class    name\n",
      "0  302.383911  318.474274   787.993774  666.575439    0.888978      0  person\n",
      "1    2.421799   98.410126   184.154037  542.546631    0.871675      0  person\n",
      "2  572.478455  520.921997   797.104553  664.619019    0.798606     63  laptop\n",
      "3    3.043510  585.035095   199.558258  717.661560    0.794557      0  person\n",
      "4  758.567017  409.849487  1250.949707  717.115601    0.709225      0  person\n",
      "5  182.295105  402.987213   414.400208  546.302612    0.687153     63  laptop\n",
      "6  861.353271  292.315399  1029.222412  373.601410    0.441415     13   bench\n",
      "7  858.153748  291.796265  1027.400146  371.280823    0.326959     56   chair\n",
      "8  759.919983  453.952271   936.407654  548.175903    0.264333     63  laptop\n",
      "9  487.843140  148.236786   638.187256  206.843170    0.253412     56   chair\n"
     ]
    },
    {
     "name": "stderr",
     "output_type": "stream",
     "text": [
      "C:\\Users\\ALFIYA/.cache\\torch\\hub\\ultralytics_yolov5_master\\models\\common.py:892: FutureWarning: `torch.cuda.amp.autocast(args...)` is deprecated. Please use `torch.amp.autocast('cuda', args...)` instead.\n",
      "  with amp.autocast(autocast):\n",
      "C:\\Users\\ALFIYA/.cache\\torch\\hub\\ultralytics_yolov5_master\\models\\common.py:892: FutureWarning: `torch.cuda.amp.autocast(args...)` is deprecated. Please use `torch.amp.autocast('cuda', args...)` instead.\n",
      "  with amp.autocast(autocast):\n"
     ]
    },
    {
     "name": "stdout",
     "output_type": "stream",
     "text": [
      "         xmin        ymin         xmax        ymax  confidence  class    name\n",
      "0  301.859375  318.512390   787.747559  666.557800    0.889615      0  person\n",
      "1    2.253731   98.164810   184.151825  542.599121    0.872026      0  person\n",
      "2  572.081970  520.654480   797.105042  664.441223    0.795367     63  laptop\n",
      "3    1.240265  585.764709   200.381012  717.002380    0.791231      0  person\n",
      "4  758.816223  409.570984  1250.979248  717.163879    0.701555      0  person\n",
      "5  176.605606  403.080383   414.261719  545.057556    0.701241     63  laptop\n",
      "6  861.029785  292.105621  1029.032349  373.554474    0.439093     13   bench\n",
      "7  857.941284  291.585358  1027.407104  371.311981    0.326357     56   chair\n",
      "8  759.227539  453.899139   936.224609  548.206604    0.288409     63  laptop\n",
      "9  487.698059  147.893417   638.213806  206.835434    0.255460     56   chair\n",
      "         xmin        ymin         xmax        ymax  confidence  class    name\n",
      "0  301.238098  318.414551   787.571228  666.682861    0.890871      0  person\n",
      "1    2.208305   98.102493   184.669342  542.336609    0.871724      0  person\n",
      "2  571.851807  520.152222   797.025513  664.324829    0.794344     63  laptop\n",
      "3    1.184723  585.441650   200.345352  716.843994    0.791698      0  person\n",
      "4  171.409882  403.007843   414.131622  542.686768    0.722674     63  laptop\n",
      "5  758.967773  409.646851  1251.158691  716.993164    0.695623      0  person\n",
      "6  860.843018  292.209564  1028.754395  373.466034    0.440009     13   bench\n",
      "7  858.987000  291.536133  1025.248901  371.276489    0.299331     56   chair\n",
      "8  488.076294  148.388870   638.071289  206.863174    0.259002     56   chair\n",
      "9  759.042175  453.937592   936.283386  548.170288    0.254838     63  laptop\n"
     ]
    },
    {
     "name": "stderr",
     "output_type": "stream",
     "text": [
      "C:\\Users\\ALFIYA/.cache\\torch\\hub\\ultralytics_yolov5_master\\models\\common.py:892: FutureWarning: `torch.cuda.amp.autocast(args...)` is deprecated. Please use `torch.amp.autocast('cuda', args...)` instead.\n",
      "  with amp.autocast(autocast):\n",
      "C:\\Users\\ALFIYA/.cache\\torch\\hub\\ultralytics_yolov5_master\\models\\common.py:892: FutureWarning: `torch.cuda.amp.autocast(args...)` is deprecated. Please use `torch.amp.autocast('cuda', args...)` instead.\n",
      "  with amp.autocast(autocast):\n"
     ]
    },
    {
     "name": "stdout",
     "output_type": "stream",
     "text": [
      "         xmin        ymin         xmax        ymax  confidence  class    name\n",
      "0  299.999390  318.410950   786.696533  666.762878    0.890979      0  person\n",
      "1    2.255341   97.630676   184.871399  541.961365    0.871525      0  person\n",
      "2  572.125793  520.188110   797.360291  664.153809    0.796904     63  laptop\n",
      "3    1.279091  584.849060   200.604675  716.699768    0.786048      0  person\n",
      "4  168.380630  403.070587   413.454651  541.100342    0.746287     63  laptop\n",
      "5  758.879028  409.790955  1251.441040  717.040222    0.704795      0  person\n",
      "6  860.683350  292.263458  1029.176025  373.564667    0.434290     13   bench\n",
      "7  487.657990  147.896881   638.178223  206.860748    0.264754     56   chair\n",
      "         xmin        ymin         xmax        ymax  confidence  class    name\n",
      "0  301.446686  318.124817   787.096558  667.157288    0.891229      0  person\n",
      "1    2.241737   97.470871   184.311829  542.408813    0.873946      0  person\n",
      "2  572.367065  520.508118   797.007935  664.122131    0.795719     63  laptop\n",
      "3    3.062553  583.667419   199.154968  717.563171    0.794133      0  person\n",
      "4  172.968933  402.855560   413.765442  544.237854    0.716967     63  laptop\n",
      "5  759.173584  409.548584  1251.556396  717.071777    0.694584      0  person\n",
      "6  860.968079  292.297485  1029.071167  373.414673    0.438005     13   bench\n",
      "7  858.906799  291.628113  1025.359985  371.182068    0.302927     56   chair\n",
      "8  487.555206  147.219955   638.203491  206.742447    0.265602     56   chair\n"
     ]
    },
    {
     "name": "stderr",
     "output_type": "stream",
     "text": [
      "C:\\Users\\ALFIYA/.cache\\torch\\hub\\ultralytics_yolov5_master\\models\\common.py:892: FutureWarning: `torch.cuda.amp.autocast(args...)` is deprecated. Please use `torch.amp.autocast('cuda', args...)` instead.\n",
      "  with amp.autocast(autocast):\n",
      "C:\\Users\\ALFIYA/.cache\\torch\\hub\\ultralytics_yolov5_master\\models\\common.py:892: FutureWarning: `torch.cuda.amp.autocast(args...)` is deprecated. Please use `torch.amp.autocast('cuda', args...)` instead.\n",
      "  with amp.autocast(autocast):\n"
     ]
    },
    {
     "name": "stdout",
     "output_type": "stream",
     "text": [
      "         xmin        ymin         xmax        ymax  confidence  class    name\n",
      "0  300.623291  317.772583   787.396118  667.727173    0.886436      0  person\n",
      "1    2.206406   97.006607   184.553101  543.216675    0.871018      0  person\n",
      "2  572.334656  520.449890   796.918152  664.134949    0.796520     63  laptop\n",
      "3    1.426575  584.184326   200.924438  716.665039    0.794015      0  person\n",
      "4  172.919800  402.836060   413.792480  542.378479    0.718489     63  laptop\n",
      "5  759.214600  409.498962  1251.167969  717.107239    0.691124      0  person\n",
      "6  860.516357  292.233215  1028.957397  373.427368    0.432207     13   bench\n",
      "7  857.500610  291.562683  1027.043091  371.179199    0.320242     56   chair\n",
      "8  487.461884  146.819122   638.139038  206.761871    0.256079     56   chair\n",
      "         xmin        ymin         xmax        ymax  confidence  class    name\n",
      "0  304.174255  317.763367   787.765198  668.301208    0.883211      0  person\n",
      "1    2.440277   97.030350   184.684906  543.394592    0.868157      0  person\n",
      "2    1.325363  584.032959   201.111755  716.471680    0.795848      0  person\n",
      "3  572.601074  520.671387   796.905396  664.012695    0.789571     63  laptop\n",
      "4  169.198975  403.240051   413.814270  539.908997    0.733736     63  laptop\n",
      "5  758.756226  409.144165  1250.882324  717.222778    0.698831      0  person\n",
      "6  860.177368  292.337921  1029.189697  373.495331    0.429459     13   bench\n",
      "7  858.307068  291.656036  1025.355713  371.159576    0.286611     56   chair\n",
      "8  487.705994  146.365601   637.991882  206.749573    0.250857     56   chair\n"
     ]
    },
    {
     "name": "stderr",
     "output_type": "stream",
     "text": [
      "C:\\Users\\ALFIYA/.cache\\torch\\hub\\ultralytics_yolov5_master\\models\\common.py:892: FutureWarning: `torch.cuda.amp.autocast(args...)` is deprecated. Please use `torch.amp.autocast('cuda', args...)` instead.\n",
      "  with amp.autocast(autocast):\n",
      "C:\\Users\\ALFIYA/.cache\\torch\\hub\\ultralytics_yolov5_master\\models\\common.py:892: FutureWarning: `torch.cuda.amp.autocast(args...)` is deprecated. Please use `torch.amp.autocast('cuda', args...)` instead.\n",
      "  with amp.autocast(autocast):\n"
     ]
    },
    {
     "name": "stdout",
     "output_type": "stream",
     "text": [
      "         xmin        ymin         xmax        ymax  confidence  class    name\n",
      "0  310.900879  317.944733   787.292480  667.880249    0.883436      0  person\n",
      "1    2.360199   96.601715   185.307785  543.472168    0.869244      0  person\n",
      "2    3.501984  582.112061   200.120850  717.387573    0.794532      0  person\n",
      "3  572.959106  520.804077   796.918823  664.156616    0.792294     63  laptop\n",
      "4  165.493668  403.680084   413.328491  539.125000    0.747982     63  laptop\n",
      "5  759.284729  409.218109  1251.110840  717.254517    0.699710      0  person\n",
      "6  859.890747  292.420197  1029.502563  373.446381    0.435249     13   bench\n",
      "7  858.041565  291.818665  1025.576416  371.187683    0.309194     56   chair\n",
      "8  487.916687  147.399399   637.886902  206.859879    0.267754     56   chair\n",
      "9  497.749908  238.654022   666.240356  302.842865    0.266270     56   chair\n",
      "         xmin        ymin         xmax        ymax  confidence  class    name\n",
      "0  315.350647  317.847534   788.421814  666.810059    0.881350      0  person\n",
      "1    2.263901   96.979736   185.660873  543.550781    0.866005      0  person\n",
      "2    3.651726  581.749573   200.440277  717.186462    0.798665      0  person\n",
      "3  573.351562  520.967896   797.862305  664.393433    0.796996     63  laptop\n",
      "4  168.370651  403.226929   413.488586  536.901001    0.745803     63  laptop\n",
      "5  758.368408  409.466034  1252.225220  716.870972    0.708536      0  person\n",
      "6  859.257629  292.565216  1030.097656  373.205231    0.435131     13   bench\n",
      "7  857.269653  291.972107  1025.487061  371.064941    0.331955     56   chair\n",
      "8  497.809021  238.694794   666.281311  302.687347    0.265185     56   chair\n",
      "9  488.233643  148.451050   637.980103  206.876556    0.255889     56   chair\n"
     ]
    },
    {
     "name": "stderr",
     "output_type": "stream",
     "text": [
      "C:\\Users\\ALFIYA/.cache\\torch\\hub\\ultralytics_yolov5_master\\models\\common.py:892: FutureWarning: `torch.cuda.amp.autocast(args...)` is deprecated. Please use `torch.amp.autocast('cuda', args...)` instead.\n",
      "  with amp.autocast(autocast):\n",
      "C:\\Users\\ALFIYA/.cache\\torch\\hub\\ultralytics_yolov5_master\\models\\common.py:892: FutureWarning: `torch.cuda.amp.autocast(args...)` is deprecated. Please use `torch.amp.autocast('cuda', args...)` instead.\n",
      "  with amp.autocast(autocast):\n"
     ]
    },
    {
     "name": "stdout",
     "output_type": "stream",
     "text": [
      "         xmin        ymin         xmax        ymax  confidence  class    name\n",
      "0  313.985596  317.567139   789.028564  667.359497    0.880822      0  person\n",
      "1    2.027100   96.891495   186.297211  543.697449    0.873095      0  person\n",
      "2  573.356934  520.640137   799.312012  664.500610    0.799946     63  laptop\n",
      "3    3.572098  581.966553   201.028488  717.170532    0.799614      0  person\n",
      "4  166.122223  403.265198   413.978119  536.748230    0.762893     63  laptop\n",
      "5  757.447266  409.549805  1252.231445  716.434570    0.709054      0  person\n",
      "6  858.326843  292.636719  1030.888306  373.118469    0.433577     13   bench\n",
      "7  857.056641  291.950287  1025.737549  370.902191    0.313145     56   chair\n",
      "8  499.068115  239.166199   666.278809  302.589661    0.281488     56   chair\n",
      "9  488.836914  149.310257   638.020630  206.730148    0.261937     56   chair\n",
      "Error: Unable to read frame from video.\n",
      "Video processing completed.\n"
     ]
    }
   ],
   "source": [
    "output_video_path = \"detected_output_video.avi\" \n",
    "# Open input video\n",
    "cap = cv2.VideoCapture(input_video_path) \n",
    "# Check if video was opened successfully \n",
    "if not cap.isOpened(): \n",
    "    print (\"Error: Unable to open input video file.\")\n",
    "    exit()\n",
    "# Get video properties (FPS, width, height) \n",
    "fps = cap.get(cv2.CAP_PROP_FPS) \n",
    "frame_width = int(cap.get(cv2.CAP_PROP_FRAME_WIDTH) ) \n",
    "frame_height = int(cap.get (cv2.CAP_PROP_FRAME_HEIGHT)) \n",
    "\n",
    "print(f\"FPS: {fps}, Frame Width: {frame_width}, Frame Height: {frame_height}\") \n",
    "# Setup VideoWriter to save the output video \n",
    "fourcc = cv2.VideoWriter_fourcc(*'XVID') # Use 'XVID' codec for compatibility \n",
    "out = cv2.VideoWriter(output_video_path, fourcc, fps, (frame_width, frame_height))\n",
    "# Check if VideoWriter was successfully opened \n",
    "if not out.isOpened():\n",
    "    print( \"Error: Unable to open VideoWriter.\") \n",
    "    exit () \n",
    "# Process each frame from the input video w\n",
    "while cap.isOpened(): \n",
    "   ret, frame = cap. read()\n",
    "   if not ret: \n",
    "       print(\"Error: Unable to read frame from video.\") \n",
    "       break\n",
    "    # Perform object detection on the current frame \n",
    "   results = model(frame) # YOLOv5 inference \n",
    "\n",
    "# Extract detections (bounding boxes, Labels, and confidence scores) \n",
    "   detections = results.pandas().xyxy[0] # Pandas dataframe with detections \n",
    "   print (detections) \n",
    "# Loop through all detected objects \n",
    "   \n",
    "   for _, detection in detections. iterrows(): \n",
    "       \n",
    "        \n",
    "    # Get bounding box coordinates and label\n",
    "       x1, y1, x2, y2 = int(detection[ 'xmin' ]), int(detection[ 'ymin']), int(detection[ 'xmax']), int(detection[ 'ymax']) \n",
    "       label = f\"{detection[ 'name']} {detection[ 'confidence']:.2f}\" # Label with class name and confidence\n",
    "    \n",
    "    # Draw the bounding box \n",
    "       color = (0, 255, 0) # Green color for bounding box \n",
    "       cv2.rectangle(frame, (x1, y1), (x2, y2), color, 2) \n",
    "\n",
    "    # Add the label above the bounding box \n",
    "       cv2.putText(frame, label, (x1, y1 - 10), cv2.FONT_HERSHEY_SIMPLEX, 0.5, color, 2) \n",
    "\n",
    "# Write the processed frame to the output video \n",
    "   out.write(frame) \n",
    "#print(\"Frame written to output video.\")\n",
    "\n",
    "# Show the current frame with detections (optional) \n",
    "\n",
    "#cv2. imshow( 'YOLOv5 Object Detection', frame) \n",
    "\n",
    "# Break the loop if 'a' key is pressed \n",
    "#if cv2. waitKey(1) & OxFF == ord('q'): \n",
    "#break \n",
    "\n",
    "# Release resources after processing is complete \n",
    "\n",
    "cap.release()\n",
    "out.release()\n",
    "cv2.destroyAllWindows() \n",
    "\n",
    "print (\"Video processing completed.\")\n"
   ]
  },
  {
   "cell_type": "code",
   "execution_count": null,
   "id": "5351c654-9545-44c3-80f9-33bdca8fd5e5",
   "metadata": {},
   "outputs": [],
   "source": []
  },
  {
   "cell_type": "code",
   "execution_count": null,
   "id": "529a7571-ae93-443d-aa7f-a5655378e165",
   "metadata": {},
   "outputs": [],
   "source": []
  }
 ],
 "metadata": {
  "kernelspec": {
   "display_name": "Python 3 (ipykernel)",
   "language": "python",
   "name": "python3"
  },
  "language_info": {
   "codemirror_mode": {
    "name": "ipython",
    "version": 3
   },
   "file_extension": ".py",
   "mimetype": "text/x-python",
   "name": "python",
   "nbconvert_exporter": "python",
   "pygments_lexer": "ipython3",
   "version": "3.12.7"
  }
 },
 "nbformat": 4,
 "nbformat_minor": 5
}
